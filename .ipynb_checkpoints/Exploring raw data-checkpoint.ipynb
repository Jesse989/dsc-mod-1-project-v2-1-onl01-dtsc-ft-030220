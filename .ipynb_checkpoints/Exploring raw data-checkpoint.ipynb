{
 "cells": [
  {
   "cell_type": "markdown",
   "metadata": {},
   "source": [
    "# Raw data analysis"
   ]
  },
  {
   "cell_type": "markdown",
   "metadata": {},
   "source": [
    "## Getting Data for Frames"
   ]
  },
  {
   "cell_type": "markdown",
   "metadata": {},
   "source": [
    "Importing required libraries"
   ]
  },
  {
   "cell_type": "code",
   "execution_count": 1,
   "metadata": {},
   "outputs": [],
   "source": [
    "import numpy as np\n",
    "import pandas as pd\n",
    "import matplotlib.pyplot as plt\n",
    "%matplotlib inline\n"
   ]
  },
  {
   "cell_type": "markdown",
   "metadata": {},
   "source": [
    "Using a helper function to pull in all the DataFrames together"
   ]
  },
  {
   "cell_type": "code",
   "execution_count": 73,
   "metadata": {},
   "outputs": [],
   "source": [
    "from os.path import isfile, join\n",
    "\n",
    "def df_from_zipped(path, fn):\n",
    "    '''\n",
    "    Takes filepath and name and returns a DataFrame\n",
    "    '''\n",
    "    # check formatting\n",
    "    tsv = 'tsv'in fn\n",
    "    if tsv:\n",
    "        delimiter = '\\t'\n",
    "        encoding= 'unicode_escape'\n",
    "    else:\n",
    "        delimiter = None\n",
    "        encoding = 'utf-8'\n",
    "    \n",
    "    joined_path = join(zipped_path + fn)\n",
    "    return pd.read_csv(joined_path, compression='gzip', delimiter=delimiter, encoding = encoding)"
   ]
  },
  {
   "cell_type": "markdown",
   "metadata": {},
   "source": [
    "Pull in all the files from zippedData and put them all together into a dictionary"
   ]
  },
  {
   "cell_type": "code",
   "execution_count": 74,
   "metadata": {},
   "outputs": [],
   "source": [
    "from os import listdir\n",
    "\n",
    "zipped_path = 'zippedData/'\n",
    "dfs = {}\n",
    "\n",
    "#for all in zippedData:\n",
    "for fn in listdir(zipped_path):\n",
    "    dfs[fn[:-7]] = df_from_zipped(zipped_path, fn)"
   ]
  },
  {
   "cell_type": "markdown",
   "metadata": {},
   "source": [
    "Now we have a dictionary filled with DataFrame objects"
   ]
  },
  {
   "cell_type": "code",
   "execution_count": 66,
   "metadata": {},
   "outputs": [
    {
     "data": {
      "text/plain": [
       "['imdb.title.crew',\n",
       " 'tmdb.movies',\n",
       " 'imdb.title.akas',\n",
       " 'imdb.title.ratings',\n",
       " 'imdb.name.basics',\n",
       " 'rt.reviews',\n",
       " 'imdb.title.basics',\n",
       " 'rt.movie_info',\n",
       " 'tn.movie_budgets',\n",
       " 'bom.movie_gross',\n",
       " 'imdb.title.principals']"
      ]
     },
     "execution_count": 66,
     "metadata": {},
     "output_type": "execute_result"
    }
   ],
   "source": [
    "df_names = list(dfs.keys())\n",
    "df_names"
   ]
  },
  {
   "cell_type": "markdown",
   "metadata": {},
   "source": [
    "## Exploring Each DataFrame"
   ]
  },
  {
   "cell_type": "markdown",
   "metadata": {},
   "source": [
    "### DataFrame 1: \"imdb_title_crew\""
   ]
  },
  {
   "cell_type": "markdown",
   "metadata": {},
   "source": [
    "Let's start looking at each DF and finding out what each one contains"
   ]
  },
  {
   "cell_type": "code",
   "execution_count": 67,
   "metadata": {},
   "outputs": [
    {
     "data": {
      "text/html": [
       "<div>\n",
       "<style scoped>\n",
       "    .dataframe tbody tr th:only-of-type {\n",
       "        vertical-align: middle;\n",
       "    }\n",
       "\n",
       "    .dataframe tbody tr th {\n",
       "        vertical-align: top;\n",
       "    }\n",
       "\n",
       "    .dataframe thead th {\n",
       "        text-align: right;\n",
       "    }\n",
       "</style>\n",
       "<table border=\"1\" class=\"dataframe\">\n",
       "  <thead>\n",
       "    <tr style=\"text-align: right;\">\n",
       "      <th></th>\n",
       "      <th>tconst</th>\n",
       "      <th>directors</th>\n",
       "      <th>writers</th>\n",
       "    </tr>\n",
       "  </thead>\n",
       "  <tbody>\n",
       "    <tr>\n",
       "      <td>30732</td>\n",
       "      <td>tt8435268</td>\n",
       "      <td>nm4661972,nm0960495</td>\n",
       "      <td>nm9591496,nm9849133</td>\n",
       "    </tr>\n",
       "    <tr>\n",
       "      <td>72678</td>\n",
       "      <td>tt1980180</td>\n",
       "      <td>nm1540670</td>\n",
       "      <td>NaN</td>\n",
       "    </tr>\n",
       "    <tr>\n",
       "      <td>105427</td>\n",
       "      <td>tt5933608</td>\n",
       "      <td>nm8334381</td>\n",
       "      <td>nm8334384,nm1826037,nm8334385</td>\n",
       "    </tr>\n",
       "    <tr>\n",
       "      <td>93693</td>\n",
       "      <td>tt6734990</td>\n",
       "      <td>nm3451937,nm3543091,nm8896923,nm1088738</td>\n",
       "      <td>nm3543091,nm3451937,nm1088738</td>\n",
       "    </tr>\n",
       "    <tr>\n",
       "      <td>29467</td>\n",
       "      <td>tt3657200</td>\n",
       "      <td>nm0186610</td>\n",
       "      <td>nm0186610,nm0560943</td>\n",
       "    </tr>\n",
       "  </tbody>\n",
       "</table>\n",
       "</div>"
      ],
      "text/plain": [
       "           tconst                                directors  \\\n",
       "30732   tt8435268                      nm4661972,nm0960495   \n",
       "72678   tt1980180                                nm1540670   \n",
       "105427  tt5933608                                nm8334381   \n",
       "93693   tt6734990  nm3451937,nm3543091,nm8896923,nm1088738   \n",
       "29467   tt3657200                                nm0186610   \n",
       "\n",
       "                              writers  \n",
       "30732             nm9591496,nm9849133  \n",
       "72678                             NaN  \n",
       "105427  nm8334384,nm1826037,nm8334385  \n",
       "93693   nm3543091,nm3451937,nm1088738  \n",
       "29467             nm0186610,nm0560943  "
      ]
     },
     "execution_count": 67,
     "metadata": {},
     "output_type": "execute_result"
    }
   ],
   "source": [
    "imdb_title_crew = dfs[df_names[0]]\n",
    "imdb_title_crew.sample(5)"
   ]
  },
  {
   "cell_type": "code",
   "execution_count": 98,
   "metadata": {},
   "outputs": [
    {
     "name": "stdout",
     "output_type": "stream",
     "text": [
      "<class 'pandas.core.frame.DataFrame'>\n",
      "RangeIndex: 146144 entries, 0 to 146143\n",
      "Data columns (total 3 columns):\n",
      "tconst       146144 non-null object\n",
      "directors    140417 non-null object\n",
      "writers      110261 non-null object\n",
      "dtypes: object(3)\n",
      "memory usage: 3.3+ MB\n"
     ]
    }
   ],
   "source": [
    "imdb_title_crew.info()"
   ]
  },
  {
   "cell_type": "markdown",
   "metadata": {},
   "source": [
    "What are these values? Maybe IDs for another DataFrame"
   ]
  },
  {
   "cell_type": "markdown",
   "metadata": {},
   "source": [
    "### DataFrame 2: 'imdb.movies'"
   ]
  },
  {
   "cell_type": "code",
   "execution_count": 68,
   "metadata": {},
   "outputs": [],
   "source": [
    "imdb_movies = dfs['tmdb.movies']\n",
    "imdb_movies.drop('Unnamed: 0', axis=1, inplace=True)"
   ]
  },
  {
   "cell_type": "code",
   "execution_count": 69,
   "metadata": {},
   "outputs": [
    {
     "data": {
      "text/html": [
       "<div>\n",
       "<style scoped>\n",
       "    .dataframe tbody tr th:only-of-type {\n",
       "        vertical-align: middle;\n",
       "    }\n",
       "\n",
       "    .dataframe tbody tr th {\n",
       "        vertical-align: top;\n",
       "    }\n",
       "\n",
       "    .dataframe thead th {\n",
       "        text-align: right;\n",
       "    }\n",
       "</style>\n",
       "<table border=\"1\" class=\"dataframe\">\n",
       "  <thead>\n",
       "    <tr style=\"text-align: right;\">\n",
       "      <th></th>\n",
       "      <th>genre_ids</th>\n",
       "      <th>id</th>\n",
       "      <th>original_language</th>\n",
       "      <th>original_title</th>\n",
       "      <th>popularity</th>\n",
       "      <th>release_date</th>\n",
       "      <th>title</th>\n",
       "      <th>vote_average</th>\n",
       "      <th>vote_count</th>\n",
       "    </tr>\n",
       "  </thead>\n",
       "  <tbody>\n",
       "    <tr>\n",
       "      <td>22160</td>\n",
       "      <td>[80, 53]</td>\n",
       "      <td>521646</td>\n",
       "      <td>en</td>\n",
       "      <td>The Things We've Seen</td>\n",
       "      <td>1.400</td>\n",
       "      <td>2017-01-28</td>\n",
       "      <td>The Things We've Seen</td>\n",
       "      <td>10.0</td>\n",
       "      <td>2</td>\n",
       "    </tr>\n",
       "    <tr>\n",
       "      <td>22180</td>\n",
       "      <td>[]</td>\n",
       "      <td>490299</td>\n",
       "      <td>en</td>\n",
       "      <td>The Legend of 420</td>\n",
       "      <td>1.400</td>\n",
       "      <td>2017-12-01</td>\n",
       "      <td>The Legend of 420</td>\n",
       "      <td>7.7</td>\n",
       "      <td>12</td>\n",
       "    </tr>\n",
       "    <tr>\n",
       "      <td>15129</td>\n",
       "      <td>[27, 53]</td>\n",
       "      <td>370234</td>\n",
       "      <td>en</td>\n",
       "      <td>Dementia</td>\n",
       "      <td>2.430</td>\n",
       "      <td>2015-12-04</td>\n",
       "      <td>Dementia</td>\n",
       "      <td>4.7</td>\n",
       "      <td>36</td>\n",
       "    </tr>\n",
       "    <tr>\n",
       "      <td>9046</td>\n",
       "      <td>[18, 36]</td>\n",
       "      <td>127856</td>\n",
       "      <td>fr</td>\n",
       "      <td>Augustine</td>\n",
       "      <td>1.760</td>\n",
       "      <td>2013-05-17</td>\n",
       "      <td>Augustine</td>\n",
       "      <td>5.5</td>\n",
       "      <td>23</td>\n",
       "    </tr>\n",
       "    <tr>\n",
       "      <td>25159</td>\n",
       "      <td>[53]</td>\n",
       "      <td>533274</td>\n",
       "      <td>en</td>\n",
       "      <td>Stalked by My Doctor: Patient's Revenge</td>\n",
       "      <td>2.655</td>\n",
       "      <td>2018-06-10</td>\n",
       "      <td>Stalked by My Doctor: Patient's Revenge</td>\n",
       "      <td>10.0</td>\n",
       "      <td>1</td>\n",
       "    </tr>\n",
       "  </tbody>\n",
       "</table>\n",
       "</div>"
      ],
      "text/plain": [
       "      genre_ids      id original_language  \\\n",
       "22160  [80, 53]  521646                en   \n",
       "22180        []  490299                en   \n",
       "15129  [27, 53]  370234                en   \n",
       "9046   [18, 36]  127856                fr   \n",
       "25159      [53]  533274                en   \n",
       "\n",
       "                                original_title  popularity release_date  \\\n",
       "22160                    The Things We've Seen       1.400   2017-01-28   \n",
       "22180                        The Legend of 420       1.400   2017-12-01   \n",
       "15129                                 Dementia       2.430   2015-12-04   \n",
       "9046                                 Augustine       1.760   2013-05-17   \n",
       "25159  Stalked by My Doctor: Patient's Revenge       2.655   2018-06-10   \n",
       "\n",
       "                                         title  vote_average  vote_count  \n",
       "22160                    The Things We've Seen          10.0           2  \n",
       "22180                        The Legend of 420           7.7          12  \n",
       "15129                                 Dementia           4.7          36  \n",
       "9046                                 Augustine           5.5          23  \n",
       "25159  Stalked by My Doctor: Patient's Revenge          10.0           1  "
      ]
     },
     "execution_count": 69,
     "metadata": {},
     "output_type": "execute_result"
    }
   ],
   "source": [
    "imdb_movies.sample(5)"
   ]
  },
  {
   "cell_type": "code",
   "execution_count": 100,
   "metadata": {},
   "outputs": [
    {
     "name": "stdout",
     "output_type": "stream",
     "text": [
      "<class 'pandas.core.frame.DataFrame'>\n",
      "RangeIndex: 26517 entries, 0 to 26516\n",
      "Data columns (total 9 columns):\n",
      "genre_ids            26517 non-null object\n",
      "id                   26517 non-null int64\n",
      "original_language    26517 non-null object\n",
      "original_title       26517 non-null object\n",
      "popularity           26517 non-null float64\n",
      "release_date         26517 non-null object\n",
      "title                26517 non-null object\n",
      "vote_average         26517 non-null float64\n",
      "vote_count           26517 non-null int64\n",
      "dtypes: float64(2), int64(2), object(5)\n",
      "memory usage: 1.8+ MB\n"
     ]
    }
   ],
   "source": [
    "imdb_movies.info()"
   ]
  },
  {
   "cell_type": "markdown",
   "metadata": {},
   "source": [
    "### DataFrame 3: 'imdb.title.akas'"
   ]
  },
  {
   "cell_type": "code",
   "execution_count": 71,
   "metadata": {},
   "outputs": [
    {
     "data": {
      "text/html": [
       "<div>\n",
       "<style scoped>\n",
       "    .dataframe tbody tr th:only-of-type {\n",
       "        vertical-align: middle;\n",
       "    }\n",
       "\n",
       "    .dataframe tbody tr th {\n",
       "        vertical-align: top;\n",
       "    }\n",
       "\n",
       "    .dataframe thead th {\n",
       "        text-align: right;\n",
       "    }\n",
       "</style>\n",
       "<table border=\"1\" class=\"dataframe\">\n",
       "  <thead>\n",
       "    <tr style=\"text-align: right;\">\n",
       "      <th></th>\n",
       "      <th>title_id</th>\n",
       "      <th>ordering</th>\n",
       "      <th>title</th>\n",
       "      <th>region</th>\n",
       "      <th>language</th>\n",
       "      <th>types</th>\n",
       "      <th>attributes</th>\n",
       "      <th>is_original_title</th>\n",
       "    </tr>\n",
       "  </thead>\n",
       "  <tbody>\n",
       "    <tr>\n",
       "      <td>147703</td>\n",
       "      <td>tt2960218</td>\n",
       "      <td>1</td>\n",
       "      <td>LuTo</td>\n",
       "      <td>MX</td>\n",
       "      <td>NaN</td>\n",
       "      <td>NaN</td>\n",
       "      <td>NaN</td>\n",
       "      <td>0.0</td>\n",
       "    </tr>\n",
       "    <tr>\n",
       "      <td>272872</td>\n",
       "      <td>tt5336634</td>\n",
       "      <td>1</td>\n",
       "      <td>Approach to Love II</td>\n",
       "      <td>CN</td>\n",
       "      <td>NaN</td>\n",
       "      <td>NaN</td>\n",
       "      <td>NaN</td>\n",
       "      <td>0.0</td>\n",
       "    </tr>\n",
       "    <tr>\n",
       "      <td>220289</td>\n",
       "      <td>tt5132086</td>\n",
       "      <td>1</td>\n",
       "      <td>There Where Atilla Passes...</td>\n",
       "      <td>CA</td>\n",
       "      <td>en</td>\n",
       "      <td>imdbDisplay</td>\n",
       "      <td>NaN</td>\n",
       "      <td>0.0</td>\n",
       "    </tr>\n",
       "    <tr>\n",
       "      <td>51708</td>\n",
       "      <td>tt1322312</td>\n",
       "      <td>11</td>\n",
       "      <td>Going the Distance</td>\n",
       "      <td>NaN</td>\n",
       "      <td>NaN</td>\n",
       "      <td>original</td>\n",
       "      <td>NaN</td>\n",
       "      <td>1.0</td>\n",
       "    </tr>\n",
       "    <tr>\n",
       "      <td>126505</td>\n",
       "      <td>tt2991224</td>\n",
       "      <td>29</td>\n",
       "      <td>Mandarinas</td>\n",
       "      <td>ES</td>\n",
       "      <td>NaN</td>\n",
       "      <td>imdbDisplay</td>\n",
       "      <td>NaN</td>\n",
       "      <td>0.0</td>\n",
       "    </tr>\n",
       "  </tbody>\n",
       "</table>\n",
       "</div>"
      ],
      "text/plain": [
       "         title_id  ordering                         title region language  \\\n",
       "147703  tt2960218         1                          LuTo     MX      NaN   \n",
       "272872  tt5336634         1           Approach to Love II     CN      NaN   \n",
       "220289  tt5132086         1  There Where Atilla Passes...     CA       en   \n",
       "51708   tt1322312        11            Going the Distance    NaN      NaN   \n",
       "126505  tt2991224        29                    Mandarinas     ES      NaN   \n",
       "\n",
       "              types attributes  is_original_title  \n",
       "147703          NaN        NaN                0.0  \n",
       "272872          NaN        NaN                0.0  \n",
       "220289  imdbDisplay        NaN                0.0  \n",
       "51708      original        NaN                1.0  \n",
       "126505  imdbDisplay        NaN                0.0  "
      ]
     },
     "execution_count": 71,
     "metadata": {},
     "output_type": "execute_result"
    }
   ],
   "source": [
    "imdb_titles_akas = dfs['imdb.title.akas']\n",
    "imdb_titles_akas.sample(5)"
   ]
  },
  {
   "cell_type": "code",
   "execution_count": 101,
   "metadata": {},
   "outputs": [
    {
     "name": "stdout",
     "output_type": "stream",
     "text": [
      "<class 'pandas.core.frame.DataFrame'>\n",
      "RangeIndex: 331703 entries, 0 to 331702\n",
      "Data columns (total 8 columns):\n",
      "title_id             331703 non-null object\n",
      "ordering             331703 non-null int64\n",
      "title                331703 non-null object\n",
      "region               278410 non-null object\n",
      "language             41715 non-null object\n",
      "types                168447 non-null object\n",
      "attributes           14925 non-null object\n",
      "is_original_title    331678 non-null float64\n",
      "dtypes: float64(1), int64(1), object(6)\n",
      "memory usage: 20.2+ MB\n"
     ]
    }
   ],
   "source": [
    "imdb_titles_akas.info()"
   ]
  },
  {
   "cell_type": "markdown",
   "metadata": {},
   "source": [
    "### DataFrame 4: 'imdb.title.ratings'"
   ]
  },
  {
   "cell_type": "code",
   "execution_count": 72,
   "metadata": {},
   "outputs": [
    {
     "data": {
      "text/html": [
       "<div>\n",
       "<style scoped>\n",
       "    .dataframe tbody tr th:only-of-type {\n",
       "        vertical-align: middle;\n",
       "    }\n",
       "\n",
       "    .dataframe tbody tr th {\n",
       "        vertical-align: top;\n",
       "    }\n",
       "\n",
       "    .dataframe thead th {\n",
       "        text-align: right;\n",
       "    }\n",
       "</style>\n",
       "<table border=\"1\" class=\"dataframe\">\n",
       "  <thead>\n",
       "    <tr style=\"text-align: right;\">\n",
       "      <th></th>\n",
       "      <th>tconst</th>\n",
       "      <th>averagerating</th>\n",
       "      <th>numvotes</th>\n",
       "    </tr>\n",
       "  </thead>\n",
       "  <tbody>\n",
       "    <tr>\n",
       "      <td>1447</td>\n",
       "      <td>tt1772230</td>\n",
       "      <td>5.9</td>\n",
       "      <td>5534</td>\n",
       "    </tr>\n",
       "    <tr>\n",
       "      <td>70283</td>\n",
       "      <td>tt2106460</td>\n",
       "      <td>6.8</td>\n",
       "      <td>326</td>\n",
       "    </tr>\n",
       "    <tr>\n",
       "      <td>27033</td>\n",
       "      <td>tt5450570</td>\n",
       "      <td>6.9</td>\n",
       "      <td>172</td>\n",
       "    </tr>\n",
       "    <tr>\n",
       "      <td>26417</td>\n",
       "      <td>tt3421186</td>\n",
       "      <td>5.3</td>\n",
       "      <td>355</td>\n",
       "    </tr>\n",
       "    <tr>\n",
       "      <td>54431</td>\n",
       "      <td>tt5172372</td>\n",
       "      <td>6.9</td>\n",
       "      <td>8</td>\n",
       "    </tr>\n",
       "  </tbody>\n",
       "</table>\n",
       "</div>"
      ],
      "text/plain": [
       "          tconst  averagerating  numvotes\n",
       "1447   tt1772230            5.9      5534\n",
       "70283  tt2106460            6.8       326\n",
       "27033  tt5450570            6.9       172\n",
       "26417  tt3421186            5.3       355\n",
       "54431  tt5172372            6.9         8"
      ]
     },
     "execution_count": 72,
     "metadata": {},
     "output_type": "execute_result"
    }
   ],
   "source": [
    "imdb_title_ratings = dfs['imdb.title.ratings']\n",
    "imdb_title_ratings.sample(5)"
   ]
  },
  {
   "cell_type": "code",
   "execution_count": 102,
   "metadata": {},
   "outputs": [
    {
     "name": "stdout",
     "output_type": "stream",
     "text": [
      "<class 'pandas.core.frame.DataFrame'>\n",
      "RangeIndex: 73856 entries, 0 to 73855\n",
      "Data columns (total 3 columns):\n",
      "tconst           73856 non-null object\n",
      "averagerating    73856 non-null float64\n",
      "numvotes         73856 non-null int64\n",
      "dtypes: float64(1), int64(1), object(1)\n",
      "memory usage: 1.7+ MB\n"
     ]
    }
   ],
   "source": [
    "imdb_title_ratings.info()"
   ]
  },
  {
   "cell_type": "markdown",
   "metadata": {},
   "source": [
    "### DataFrame 5: 'imdb.name.basics'"
   ]
  },
  {
   "cell_type": "code",
   "execution_count": 70,
   "metadata": {},
   "outputs": [
    {
     "data": {
      "text/html": [
       "<div>\n",
       "<style scoped>\n",
       "    .dataframe tbody tr th:only-of-type {\n",
       "        vertical-align: middle;\n",
       "    }\n",
       "\n",
       "    .dataframe tbody tr th {\n",
       "        vertical-align: top;\n",
       "    }\n",
       "\n",
       "    .dataframe thead th {\n",
       "        text-align: right;\n",
       "    }\n",
       "</style>\n",
       "<table border=\"1\" class=\"dataframe\">\n",
       "  <thead>\n",
       "    <tr style=\"text-align: right;\">\n",
       "      <th></th>\n",
       "      <th>nconst</th>\n",
       "      <th>primary_name</th>\n",
       "      <th>birth_year</th>\n",
       "      <th>death_year</th>\n",
       "      <th>primary_profession</th>\n",
       "      <th>known_for_titles</th>\n",
       "    </tr>\n",
       "  </thead>\n",
       "  <tbody>\n",
       "    <tr>\n",
       "      <td>23213</td>\n",
       "      <td>nm0690703</td>\n",
       "      <td>Henrik Pontoppidan</td>\n",
       "      <td>1857.0</td>\n",
       "      <td>1943.0</td>\n",
       "      <td>writer</td>\n",
       "      <td>tt0092103,tt6748178,tt0011765,tt8436026</td>\n",
       "    </tr>\n",
       "    <tr>\n",
       "      <td>581176</td>\n",
       "      <td>nm7454430</td>\n",
       "      <td>Jay Finlayson</td>\n",
       "      <td>1994.0</td>\n",
       "      <td>NaN</td>\n",
       "      <td>actor,cinematographer,manager</td>\n",
       "      <td>tt2321596,tt5240540,tt2319282</td>\n",
       "    </tr>\n",
       "    <tr>\n",
       "      <td>274009</td>\n",
       "      <td>nm3809260</td>\n",
       "      <td>Julieann Choi</td>\n",
       "      <td>NaN</td>\n",
       "      <td>NaN</td>\n",
       "      <td>actress</td>\n",
       "      <td>tt1600885</td>\n",
       "    </tr>\n",
       "    <tr>\n",
       "      <td>568715</td>\n",
       "      <td>nm9224802</td>\n",
       "      <td>Serge Reboul</td>\n",
       "      <td>NaN</td>\n",
       "      <td>NaN</td>\n",
       "      <td>actor</td>\n",
       "      <td>tt7290756</td>\n",
       "    </tr>\n",
       "    <tr>\n",
       "      <td>82672</td>\n",
       "      <td>nm0426577</td>\n",
       "      <td>Claire Johnston</td>\n",
       "      <td>NaN</td>\n",
       "      <td>NaN</td>\n",
       "      <td>actress</td>\n",
       "      <td>tt1068649,tt0335119,tt0340096,tt5420870</td>\n",
       "    </tr>\n",
       "  </tbody>\n",
       "</table>\n",
       "</div>"
      ],
      "text/plain": [
       "           nconst        primary_name  birth_year  death_year  \\\n",
       "23213   nm0690703  Henrik Pontoppidan      1857.0      1943.0   \n",
       "581176  nm7454430       Jay Finlayson      1994.0         NaN   \n",
       "274009  nm3809260       Julieann Choi         NaN         NaN   \n",
       "568715  nm9224802        Serge Reboul         NaN         NaN   \n",
       "82672   nm0426577     Claire Johnston         NaN         NaN   \n",
       "\n",
       "                   primary_profession                         known_for_titles  \n",
       "23213                          writer  tt0092103,tt6748178,tt0011765,tt8436026  \n",
       "581176  actor,cinematographer,manager            tt2321596,tt5240540,tt2319282  \n",
       "274009                        actress                                tt1600885  \n",
       "568715                          actor                                tt7290756  \n",
       "82672                         actress  tt1068649,tt0335119,tt0340096,tt5420870  "
      ]
     },
     "execution_count": 70,
     "metadata": {},
     "output_type": "execute_result"
    }
   ],
   "source": [
    "imdb_name_basics = dfs['imdb.name.basics']\n",
    "imdb_name_basics.sample(5)"
   ]
  },
  {
   "cell_type": "code",
   "execution_count": 103,
   "metadata": {},
   "outputs": [
    {
     "name": "stdout",
     "output_type": "stream",
     "text": [
      "<class 'pandas.core.frame.DataFrame'>\n",
      "RangeIndex: 606648 entries, 0 to 606647\n",
      "Data columns (total 6 columns):\n",
      "nconst                606648 non-null object\n",
      "primary_name          606648 non-null object\n",
      "birth_year            82736 non-null float64\n",
      "death_year            6783 non-null float64\n",
      "primary_profession    555308 non-null object\n",
      "known_for_titles      576444 non-null object\n",
      "dtypes: float64(2), object(4)\n",
      "memory usage: 27.8+ MB\n"
     ]
    }
   ],
   "source": [
    "imdb_name_basics.info()"
   ]
  },
  {
   "cell_type": "markdown",
   "metadata": {},
   "source": [
    "This is the table for people, can be joined on the nconst"
   ]
  },
  {
   "cell_type": "markdown",
   "metadata": {},
   "source": [
    "### DataFrame 6: 'rt.reviews'"
   ]
  },
  {
   "cell_type": "code",
   "execution_count": 76,
   "metadata": {},
   "outputs": [
    {
     "data": {
      "text/plain": [
       "'rt.reviews'"
      ]
     },
     "execution_count": 76,
     "metadata": {},
     "output_type": "execute_result"
    }
   ],
   "source": [
    "df_name_6 = df_names[5]\n",
    "df_name_6"
   ]
  },
  {
   "cell_type": "code",
   "execution_count": 82,
   "metadata": {},
   "outputs": [
    {
     "data": {
      "text/html": [
       "<div>\n",
       "<style scoped>\n",
       "    .dataframe tbody tr th:only-of-type {\n",
       "        vertical-align: middle;\n",
       "    }\n",
       "\n",
       "    .dataframe tbody tr th {\n",
       "        vertical-align: top;\n",
       "    }\n",
       "\n",
       "    .dataframe thead th {\n",
       "        text-align: right;\n",
       "    }\n",
       "</style>\n",
       "<table border=\"1\" class=\"dataframe\">\n",
       "  <thead>\n",
       "    <tr style=\"text-align: right;\">\n",
       "      <th></th>\n",
       "      <th>id</th>\n",
       "      <th>review</th>\n",
       "      <th>rating</th>\n",
       "      <th>fresh</th>\n",
       "      <th>critic</th>\n",
       "      <th>top_critic</th>\n",
       "      <th>publisher</th>\n",
       "      <th>date</th>\n",
       "    </tr>\n",
       "  </thead>\n",
       "  <tbody>\n",
       "    <tr>\n",
       "      <td>6511</td>\n",
       "      <td>251</td>\n",
       "      <td>The film can be seen as another element that q...</td>\n",
       "      <td>8/10</td>\n",
       "      <td>fresh</td>\n",
       "      <td>Uriel Barco</td>\n",
       "      <td>0</td>\n",
       "      <td>Garuyo</td>\n",
       "      <td>February 12, 2016</td>\n",
       "    </tr>\n",
       "    <tr>\n",
       "      <td>9589</td>\n",
       "      <td>364</td>\n",
       "      <td>Like the first of the Addams chronicles, this ...</td>\n",
       "      <td>NaN</td>\n",
       "      <td>rotten</td>\n",
       "      <td>Richard Schickel</td>\n",
       "      <td>1</td>\n",
       "      <td>TIME Magazine</td>\n",
       "      <td>November 21, 2008</td>\n",
       "    </tr>\n",
       "    <tr>\n",
       "      <td>46893</td>\n",
       "      <td>1762</td>\n",
       "      <td>After setting the scene with vivid characters ...</td>\n",
       "      <td>3/5</td>\n",
       "      <td>fresh</td>\n",
       "      <td>Rich Cline</td>\n",
       "      <td>0</td>\n",
       "      <td>Contactmusic.com</td>\n",
       "      <td>October 9, 2015</td>\n",
       "    </tr>\n",
       "    <tr>\n",
       "      <td>48745</td>\n",
       "      <td>1819</td>\n",
       "      <td>If Spielberg had found a way to inject even a ...</td>\n",
       "      <td>NaN</td>\n",
       "      <td>rotten</td>\n",
       "      <td>Adam Lubitow</td>\n",
       "      <td>0</td>\n",
       "      <td>Rochester City Newspaper</td>\n",
       "      <td>August 28, 2018</td>\n",
       "    </tr>\n",
       "    <tr>\n",
       "      <td>48011</td>\n",
       "      <td>1793</td>\n",
       "      <td>It's a bit somnolent, but the interactions bet...</td>\n",
       "      <td>NaN</td>\n",
       "      <td>fresh</td>\n",
       "      <td>Stephen Farber</td>\n",
       "      <td>0</td>\n",
       "      <td>Movieline</td>\n",
       "      <td>January 9, 2002</td>\n",
       "    </tr>\n",
       "  </tbody>\n",
       "</table>\n",
       "</div>"
      ],
      "text/plain": [
       "         id                                             review rating   fresh  \\\n",
       "6511    251  The film can be seen as another element that q...   8/10   fresh   \n",
       "9589    364  Like the first of the Addams chronicles, this ...    NaN  rotten   \n",
       "46893  1762  After setting the scene with vivid characters ...    3/5   fresh   \n",
       "48745  1819  If Spielberg had found a way to inject even a ...    NaN  rotten   \n",
       "48011  1793  It's a bit somnolent, but the interactions bet...    NaN   fresh   \n",
       "\n",
       "                 critic  top_critic                 publisher  \\\n",
       "6511        Uriel Barco           0                    Garuyo   \n",
       "9589   Richard Schickel           1             TIME Magazine   \n",
       "46893        Rich Cline           0          Contactmusic.com   \n",
       "48745      Adam Lubitow           0  Rochester City Newspaper   \n",
       "48011    Stephen Farber           0                 Movieline   \n",
       "\n",
       "                    date  \n",
       "6511   February 12, 2016  \n",
       "9589   November 21, 2008  \n",
       "46893    October 9, 2015  \n",
       "48745    August 28, 2018  \n",
       "48011    January 9, 2002  "
      ]
     },
     "execution_count": 82,
     "metadata": {},
     "output_type": "execute_result"
    }
   ],
   "source": [
    "rt_reviews = dfs[df_name_6]\n",
    "rt_reviews.sample(5)"
   ]
  },
  {
   "cell_type": "code",
   "execution_count": 104,
   "metadata": {},
   "outputs": [
    {
     "name": "stdout",
     "output_type": "stream",
     "text": [
      "<class 'pandas.core.frame.DataFrame'>\n",
      "RangeIndex: 54432 entries, 0 to 54431\n",
      "Data columns (total 8 columns):\n",
      "id            54432 non-null int64\n",
      "review        48869 non-null object\n",
      "rating        40915 non-null object\n",
      "fresh         54432 non-null object\n",
      "critic        51710 non-null object\n",
      "top_critic    54432 non-null int64\n",
      "publisher     54123 non-null object\n",
      "date          54432 non-null object\n",
      "dtypes: int64(2), object(6)\n",
      "memory usage: 3.3+ MB\n"
     ]
    }
   ],
   "source": [
    "rt_reviews.info()"
   ]
  },
  {
   "cell_type": "markdown",
   "metadata": {},
   "source": [
    "### DataFrame 7: 'imdb.title.basics'"
   ]
  },
  {
   "cell_type": "code",
   "execution_count": 84,
   "metadata": {},
   "outputs": [
    {
     "data": {
      "text/plain": [
       "'imdb.title.basics'"
      ]
     },
     "execution_count": 84,
     "metadata": {},
     "output_type": "execute_result"
    }
   ],
   "source": [
    "df_name_7 = df_names[6]\n",
    "df_name_7"
   ]
  },
  {
   "cell_type": "code",
   "execution_count": 88,
   "metadata": {},
   "outputs": [
    {
     "data": {
      "text/html": [
       "<div>\n",
       "<style scoped>\n",
       "    .dataframe tbody tr th:only-of-type {\n",
       "        vertical-align: middle;\n",
       "    }\n",
       "\n",
       "    .dataframe tbody tr th {\n",
       "        vertical-align: top;\n",
       "    }\n",
       "\n",
       "    .dataframe thead th {\n",
       "        text-align: right;\n",
       "    }\n",
       "</style>\n",
       "<table border=\"1\" class=\"dataframe\">\n",
       "  <thead>\n",
       "    <tr style=\"text-align: right;\">\n",
       "      <th></th>\n",
       "      <th>tconst</th>\n",
       "      <th>primary_title</th>\n",
       "      <th>original_title</th>\n",
       "      <th>start_year</th>\n",
       "      <th>runtime_minutes</th>\n",
       "      <th>genres</th>\n",
       "    </tr>\n",
       "  </thead>\n",
       "  <tbody>\n",
       "    <tr>\n",
       "      <td>94081</td>\n",
       "      <td>tt5479882</td>\n",
       "      <td>Cadalso</td>\n",
       "      <td>Cadalso</td>\n",
       "      <td>2012</td>\n",
       "      <td>73.0</td>\n",
       "      <td>Drama</td>\n",
       "    </tr>\n",
       "    <tr>\n",
       "      <td>126647</td>\n",
       "      <td>tt7741250</td>\n",
       "      <td>The Adventures of Link</td>\n",
       "      <td>The Adventures of Link</td>\n",
       "      <td>2018</td>\n",
       "      <td>NaN</td>\n",
       "      <td>Adventure,Fantasy</td>\n",
       "    </tr>\n",
       "    <tr>\n",
       "      <td>70878</td>\n",
       "      <td>tt4054936</td>\n",
       "      <td>Kaul</td>\n",
       "      <td>Kaul</td>\n",
       "      <td>2016</td>\n",
       "      <td>118.0</td>\n",
       "      <td>Drama,Mystery,Thriller</td>\n",
       "    </tr>\n",
       "    <tr>\n",
       "      <td>118934</td>\n",
       "      <td>tt7133400</td>\n",
       "      <td>Walden</td>\n",
       "      <td>Walden</td>\n",
       "      <td>2017</td>\n",
       "      <td>NaN</td>\n",
       "      <td>NaN</td>\n",
       "    </tr>\n",
       "    <tr>\n",
       "      <td>109911</td>\n",
       "      <td>tt6447632</td>\n",
       "      <td>Midnight Record Search</td>\n",
       "      <td>Midnight Record Search</td>\n",
       "      <td>2016</td>\n",
       "      <td>NaN</td>\n",
       "      <td>NaN</td>\n",
       "    </tr>\n",
       "  </tbody>\n",
       "</table>\n",
       "</div>"
      ],
      "text/plain": [
       "           tconst           primary_title          original_title  start_year  \\\n",
       "94081   tt5479882                 Cadalso                 Cadalso        2012   \n",
       "126647  tt7741250  The Adventures of Link  The Adventures of Link        2018   \n",
       "70878   tt4054936                    Kaul                    Kaul        2016   \n",
       "118934  tt7133400                  Walden                  Walden        2017   \n",
       "109911  tt6447632  Midnight Record Search  Midnight Record Search        2016   \n",
       "\n",
       "        runtime_minutes                  genres  \n",
       "94081              73.0                   Drama  \n",
       "126647              NaN       Adventure,Fantasy  \n",
       "70878             118.0  Drama,Mystery,Thriller  \n",
       "118934              NaN                     NaN  \n",
       "109911              NaN                     NaN  "
      ]
     },
     "execution_count": 88,
     "metadata": {},
     "output_type": "execute_result"
    }
   ],
   "source": [
    "imdb_title_basics = dfs[df_name_7]\n",
    "imdb_title_basics.sample(5)"
   ]
  },
  {
   "cell_type": "code",
   "execution_count": 105,
   "metadata": {},
   "outputs": [
    {
     "name": "stdout",
     "output_type": "stream",
     "text": [
      "<class 'pandas.core.frame.DataFrame'>\n",
      "RangeIndex: 146144 entries, 0 to 146143\n",
      "Data columns (total 6 columns):\n",
      "tconst             146144 non-null object\n",
      "primary_title      146144 non-null object\n",
      "original_title     146123 non-null object\n",
      "start_year         146144 non-null int64\n",
      "runtime_minutes    114405 non-null float64\n",
      "genres             140736 non-null object\n",
      "dtypes: float64(1), int64(1), object(4)\n",
      "memory usage: 6.7+ MB\n"
     ]
    }
   ],
   "source": [
    "imdb_title_basics.info()"
   ]
  },
  {
   "cell_type": "markdown",
   "metadata": {},
   "source": [
    "### DataFrame 8: 'rt.movie_info'"
   ]
  },
  {
   "cell_type": "code",
   "execution_count": 89,
   "metadata": {},
   "outputs": [
    {
     "data": {
      "text/plain": [
       "'rt.movie_info'"
      ]
     },
     "execution_count": 89,
     "metadata": {},
     "output_type": "execute_result"
    }
   ],
   "source": [
    "df_name_8 = df_names[7]\n",
    "df_name_8"
   ]
  },
  {
   "cell_type": "code",
   "execution_count": 90,
   "metadata": {},
   "outputs": [
    {
     "data": {
      "text/html": [
       "<div>\n",
       "<style scoped>\n",
       "    .dataframe tbody tr th:only-of-type {\n",
       "        vertical-align: middle;\n",
       "    }\n",
       "\n",
       "    .dataframe tbody tr th {\n",
       "        vertical-align: top;\n",
       "    }\n",
       "\n",
       "    .dataframe thead th {\n",
       "        text-align: right;\n",
       "    }\n",
       "</style>\n",
       "<table border=\"1\" class=\"dataframe\">\n",
       "  <thead>\n",
       "    <tr style=\"text-align: right;\">\n",
       "      <th></th>\n",
       "      <th>id</th>\n",
       "      <th>synopsis</th>\n",
       "      <th>rating</th>\n",
       "      <th>genre</th>\n",
       "      <th>director</th>\n",
       "      <th>writer</th>\n",
       "      <th>theater_date</th>\n",
       "      <th>dvd_date</th>\n",
       "      <th>currency</th>\n",
       "      <th>box_office</th>\n",
       "      <th>runtime</th>\n",
       "      <th>studio</th>\n",
       "    </tr>\n",
       "  </thead>\n",
       "  <tbody>\n",
       "    <tr>\n",
       "      <td>297</td>\n",
       "      <td>392</td>\n",
       "      <td>Featuring Jennifer Lopez in her first major bi...</td>\n",
       "      <td>R</td>\n",
       "      <td>Drama</td>\n",
       "      <td>Gregory Nava</td>\n",
       "      <td>Anna Thomas|Gregory Nava</td>\n",
       "      <td>May 3, 1995</td>\n",
       "      <td>Apr 6, 2004</td>\n",
       "      <td>NaN</td>\n",
       "      <td>NaN</td>\n",
       "      <td>125 minutes</td>\n",
       "      <td>NaN</td>\n",
       "    </tr>\n",
       "    <tr>\n",
       "      <td>331</td>\n",
       "      <td>435</td>\n",
       "      <td>Nella campagna toscana il venticinquenne Mario...</td>\n",
       "      <td>NR</td>\n",
       "      <td>Art House and International|Comedy</td>\n",
       "      <td>Giuseppe Bertolucci</td>\n",
       "      <td>Roberto Benigni|Giuseppe Bertolucci</td>\n",
       "      <td>Jan 1, 1977</td>\n",
       "      <td>Dec 6, 2005</td>\n",
       "      <td>NaN</td>\n",
       "      <td>NaN</td>\n",
       "      <td>91 minutes</td>\n",
       "      <td>NaN</td>\n",
       "    </tr>\n",
       "    <tr>\n",
       "      <td>411</td>\n",
       "      <td>537</td>\n",
       "      <td>In director Richard Lester's Cuba, Sean Conner...</td>\n",
       "      <td>R</td>\n",
       "      <td>Action and Adventure|Drama|Mystery and Suspens...</td>\n",
       "      <td>Richard Lester</td>\n",
       "      <td>Charles Wood|Charles Wood</td>\n",
       "      <td>Dec 21, 1979</td>\n",
       "      <td>Apr 16, 2002</td>\n",
       "      <td>NaN</td>\n",
       "      <td>NaN</td>\n",
       "      <td>121 minutes</td>\n",
       "      <td>NaN</td>\n",
       "    </tr>\n",
       "    <tr>\n",
       "      <td>1542</td>\n",
       "      <td>1981</td>\n",
       "      <td>Money, Fame and the Knowledge of English. In I...</td>\n",
       "      <td>NR</td>\n",
       "      <td>Comedy|Drama</td>\n",
       "      <td>Gauri Shinde</td>\n",
       "      <td>Gauri Shinde</td>\n",
       "      <td>Oct 5, 2012</td>\n",
       "      <td>Nov 20, 2012</td>\n",
       "      <td>$</td>\n",
       "      <td>1,416,189</td>\n",
       "      <td>129 minutes</td>\n",
       "      <td>Eros Entertainment</td>\n",
       "    </tr>\n",
       "    <tr>\n",
       "      <td>512</td>\n",
       "      <td>672</td>\n",
       "      <td>A couple's strength and faith are tested after...</td>\n",
       "      <td>PG-13</td>\n",
       "      <td>Drama|Horror</td>\n",
       "      <td>Bill Duke</td>\n",
       "      <td>Brian Bird</td>\n",
       "      <td>Jan 9, 2009</td>\n",
       "      <td>Apr 7, 2009</td>\n",
       "      <td>$</td>\n",
       "      <td>10,572,742</td>\n",
       "      <td>100 minutes</td>\n",
       "      <td>Screen Gems/SONY PICTURES</td>\n",
       "    </tr>\n",
       "  </tbody>\n",
       "</table>\n",
       "</div>"
      ],
      "text/plain": [
       "        id                                           synopsis rating  \\\n",
       "297    392  Featuring Jennifer Lopez in her first major bi...      R   \n",
       "331    435  Nella campagna toscana il venticinquenne Mario...     NR   \n",
       "411    537  In director Richard Lester's Cuba, Sean Conner...      R   \n",
       "1542  1981  Money, Fame and the Knowledge of English. In I...     NR   \n",
       "512    672  A couple's strength and faith are tested after...  PG-13   \n",
       "\n",
       "                                                  genre             director  \\\n",
       "297                                               Drama         Gregory Nava   \n",
       "331                  Art House and International|Comedy  Giuseppe Bertolucci   \n",
       "411   Action and Adventure|Drama|Mystery and Suspens...       Richard Lester   \n",
       "1542                                       Comedy|Drama         Gauri Shinde   \n",
       "512                                        Drama|Horror            Bill Duke   \n",
       "\n",
       "                                   writer  theater_date      dvd_date  \\\n",
       "297              Anna Thomas|Gregory Nava   May 3, 1995   Apr 6, 2004   \n",
       "331   Roberto Benigni|Giuseppe Bertolucci   Jan 1, 1977   Dec 6, 2005   \n",
       "411             Charles Wood|Charles Wood  Dec 21, 1979  Apr 16, 2002   \n",
       "1542                         Gauri Shinde   Oct 5, 2012  Nov 20, 2012   \n",
       "512                            Brian Bird   Jan 9, 2009   Apr 7, 2009   \n",
       "\n",
       "     currency  box_office      runtime                     studio  \n",
       "297       NaN         NaN  125 minutes                        NaN  \n",
       "331       NaN         NaN   91 minutes                        NaN  \n",
       "411       NaN         NaN  121 minutes                        NaN  \n",
       "1542        $   1,416,189  129 minutes         Eros Entertainment  \n",
       "512         $  10,572,742  100 minutes  Screen Gems/SONY PICTURES  "
      ]
     },
     "execution_count": 90,
     "metadata": {},
     "output_type": "execute_result"
    }
   ],
   "source": [
    "rt_movie_info = dfs[df_name_8]\n",
    "rt_movie_info.sample(5)"
   ]
  },
  {
   "cell_type": "code",
   "execution_count": 106,
   "metadata": {},
   "outputs": [
    {
     "name": "stdout",
     "output_type": "stream",
     "text": [
      "<class 'pandas.core.frame.DataFrame'>\n",
      "RangeIndex: 1560 entries, 0 to 1559\n",
      "Data columns (total 12 columns):\n",
      "id              1560 non-null int64\n",
      "synopsis        1498 non-null object\n",
      "rating          1557 non-null object\n",
      "genre           1552 non-null object\n",
      "director        1361 non-null object\n",
      "writer          1111 non-null object\n",
      "theater_date    1201 non-null object\n",
      "dvd_date        1201 non-null object\n",
      "currency        340 non-null object\n",
      "box_office      340 non-null object\n",
      "runtime         1530 non-null object\n",
      "studio          494 non-null object\n",
      "dtypes: int64(1), object(11)\n",
      "memory usage: 146.4+ KB\n"
     ]
    }
   ],
   "source": [
    "rt_movie_info.info()"
   ]
  },
  {
   "cell_type": "markdown",
   "metadata": {},
   "source": [
    "### DataFrame 9: 'tn.movie_budgets'"
   ]
  },
  {
   "cell_type": "code",
   "execution_count": 91,
   "metadata": {},
   "outputs": [
    {
     "data": {
      "text/plain": [
       "'tn.movie_budgets'"
      ]
     },
     "execution_count": 91,
     "metadata": {},
     "output_type": "execute_result"
    }
   ],
   "source": [
    "df_names[8]"
   ]
  },
  {
   "cell_type": "code",
   "execution_count": 92,
   "metadata": {},
   "outputs": [
    {
     "data": {
      "text/html": [
       "<div>\n",
       "<style scoped>\n",
       "    .dataframe tbody tr th:only-of-type {\n",
       "        vertical-align: middle;\n",
       "    }\n",
       "\n",
       "    .dataframe tbody tr th {\n",
       "        vertical-align: top;\n",
       "    }\n",
       "\n",
       "    .dataframe thead th {\n",
       "        text-align: right;\n",
       "    }\n",
       "</style>\n",
       "<table border=\"1\" class=\"dataframe\">\n",
       "  <thead>\n",
       "    <tr style=\"text-align: right;\">\n",
       "      <th></th>\n",
       "      <th>id</th>\n",
       "      <th>release_date</th>\n",
       "      <th>movie</th>\n",
       "      <th>production_budget</th>\n",
       "      <th>domestic_gross</th>\n",
       "      <th>worldwide_gross</th>\n",
       "    </tr>\n",
       "  </thead>\n",
       "  <tbody>\n",
       "    <tr>\n",
       "      <td>3337</td>\n",
       "      <td>38</td>\n",
       "      <td>Mar 1, 2013</td>\n",
       "      <td>Ernest et Celestine</td>\n",
       "      <td>$12,500,000</td>\n",
       "      <td>$292,562</td>\n",
       "      <td>$9,376,444</td>\n",
       "    </tr>\n",
       "    <tr>\n",
       "      <td>4084</td>\n",
       "      <td>85</td>\n",
       "      <td>Feb 1, 2008</td>\n",
       "      <td>Hannah Montana/Miley Cyrus: Best of Both World...</td>\n",
       "      <td>$6,500,000</td>\n",
       "      <td>$65,281,781</td>\n",
       "      <td>$70,712,099</td>\n",
       "    </tr>\n",
       "    <tr>\n",
       "      <td>2127</td>\n",
       "      <td>28</td>\n",
       "      <td>Aug 10, 1990</td>\n",
       "      <td>Flatliners</td>\n",
       "      <td>$26,000,000</td>\n",
       "      <td>$61,308,153</td>\n",
       "      <td>$61,308,153</td>\n",
       "    </tr>\n",
       "    <tr>\n",
       "      <td>5328</td>\n",
       "      <td>29</td>\n",
       "      <td>Sep 27, 2002</td>\n",
       "      <td>Charly</td>\n",
       "      <td>$950,000</td>\n",
       "      <td>$814,666</td>\n",
       "      <td>$814,666</td>\n",
       "    </tr>\n",
       "    <tr>\n",
       "      <td>217</td>\n",
       "      <td>18</td>\n",
       "      <td>Feb 26, 2016</td>\n",
       "      <td>Gods of Egypt</td>\n",
       "      <td>$140,000,000</td>\n",
       "      <td>$31,153,464</td>\n",
       "      <td>$138,836,756</td>\n",
       "    </tr>\n",
       "  </tbody>\n",
       "</table>\n",
       "</div>"
      ],
      "text/plain": [
       "      id  release_date                                              movie  \\\n",
       "3337  38   Mar 1, 2013                                Ernest et Celestine   \n",
       "4084  85   Feb 1, 2008  Hannah Montana/Miley Cyrus: Best of Both World...   \n",
       "2127  28  Aug 10, 1990                                         Flatliners   \n",
       "5328  29  Sep 27, 2002                                             Charly   \n",
       "217   18  Feb 26, 2016                                      Gods of Egypt   \n",
       "\n",
       "     production_budget domestic_gross worldwide_gross  \n",
       "3337       $12,500,000       $292,562      $9,376,444  \n",
       "4084        $6,500,000    $65,281,781     $70,712,099  \n",
       "2127       $26,000,000    $61,308,153     $61,308,153  \n",
       "5328          $950,000       $814,666        $814,666  \n",
       "217       $140,000,000    $31,153,464    $138,836,756  "
      ]
     },
     "execution_count": 92,
     "metadata": {},
     "output_type": "execute_result"
    }
   ],
   "source": [
    "tn_movie_budgets = dfs[df_names[8]]\n",
    "tn_movie_budgets.sample(5)"
   ]
  },
  {
   "cell_type": "code",
   "execution_count": 107,
   "metadata": {},
   "outputs": [
    {
     "name": "stdout",
     "output_type": "stream",
     "text": [
      "<class 'pandas.core.frame.DataFrame'>\n",
      "RangeIndex: 5782 entries, 0 to 5781\n",
      "Data columns (total 6 columns):\n",
      "id                   5782 non-null int64\n",
      "release_date         5782 non-null object\n",
      "movie                5782 non-null object\n",
      "production_budget    5782 non-null object\n",
      "domestic_gross       5782 non-null object\n",
      "worldwide_gross      5782 non-null object\n",
      "dtypes: int64(1), object(5)\n",
      "memory usage: 271.2+ KB\n"
     ]
    }
   ],
   "source": [
    "tn_movie_budgets.info()"
   ]
  },
  {
   "cell_type": "markdown",
   "metadata": {},
   "source": [
    "### DataFrame 10: 'bom_movie_gross'"
   ]
  },
  {
   "cell_type": "code",
   "execution_count": 93,
   "metadata": {},
   "outputs": [
    {
     "data": {
      "text/plain": [
       "'bom.movie_gross'"
      ]
     },
     "execution_count": 93,
     "metadata": {},
     "output_type": "execute_result"
    }
   ],
   "source": [
    "df_names[9]"
   ]
  },
  {
   "cell_type": "code",
   "execution_count": 94,
   "metadata": {},
   "outputs": [
    {
     "data": {
      "text/html": [
       "<div>\n",
       "<style scoped>\n",
       "    .dataframe tbody tr th:only-of-type {\n",
       "        vertical-align: middle;\n",
       "    }\n",
       "\n",
       "    .dataframe tbody tr th {\n",
       "        vertical-align: top;\n",
       "    }\n",
       "\n",
       "    .dataframe thead th {\n",
       "        text-align: right;\n",
       "    }\n",
       "</style>\n",
       "<table border=\"1\" class=\"dataframe\">\n",
       "  <thead>\n",
       "    <tr style=\"text-align: right;\">\n",
       "      <th></th>\n",
       "      <th>title</th>\n",
       "      <th>studio</th>\n",
       "      <th>domestic_gross</th>\n",
       "      <th>foreign_gross</th>\n",
       "      <th>year</th>\n",
       "    </tr>\n",
       "  </thead>\n",
       "  <tbody>\n",
       "    <tr>\n",
       "      <td>1822</td>\n",
       "      <td>Walk of Shame</td>\n",
       "      <td>FCW</td>\n",
       "      <td>59200.0</td>\n",
       "      <td>NaN</td>\n",
       "      <td>2014</td>\n",
       "    </tr>\n",
       "    <tr>\n",
       "      <td>438</td>\n",
       "      <td>The Debt</td>\n",
       "      <td>Focus</td>\n",
       "      <td>31200000.0</td>\n",
       "      <td>14500000</td>\n",
       "      <td>2011</td>\n",
       "    </tr>\n",
       "    <tr>\n",
       "      <td>2902</td>\n",
       "      <td>Wonder Wheel</td>\n",
       "      <td>Amazon</td>\n",
       "      <td>1400000.0</td>\n",
       "      <td>14500000</td>\n",
       "      <td>2017</td>\n",
       "    </tr>\n",
       "    <tr>\n",
       "      <td>2949</td>\n",
       "      <td>Kedi</td>\n",
       "      <td>Osci.</td>\n",
       "      <td>2800000.0</td>\n",
       "      <td>NaN</td>\n",
       "      <td>2017</td>\n",
       "    </tr>\n",
       "    <tr>\n",
       "      <td>135</td>\n",
       "      <td>Splice</td>\n",
       "      <td>WB</td>\n",
       "      <td>17000000.0</td>\n",
       "      <td>9800000</td>\n",
       "      <td>2010</td>\n",
       "    </tr>\n",
       "  </tbody>\n",
       "</table>\n",
       "</div>"
      ],
      "text/plain": [
       "              title  studio  domestic_gross foreign_gross  year\n",
       "1822  Walk of Shame     FCW         59200.0           NaN  2014\n",
       "438        The Debt   Focus      31200000.0      14500000  2011\n",
       "2902   Wonder Wheel  Amazon       1400000.0      14500000  2017\n",
       "2949           Kedi   Osci.       2800000.0           NaN  2017\n",
       "135          Splice      WB      17000000.0       9800000  2010"
      ]
     },
     "execution_count": 94,
     "metadata": {},
     "output_type": "execute_result"
    }
   ],
   "source": [
    "bom_movie_gross = dfs[df_names[9]]\n",
    "bom_movie_gross.sample(5)"
   ]
  },
  {
   "cell_type": "code",
   "execution_count": 108,
   "metadata": {},
   "outputs": [
    {
     "name": "stdout",
     "output_type": "stream",
     "text": [
      "<class 'pandas.core.frame.DataFrame'>\n",
      "RangeIndex: 3387 entries, 0 to 3386\n",
      "Data columns (total 5 columns):\n",
      "title             3387 non-null object\n",
      "studio            3382 non-null object\n",
      "domestic_gross    3359 non-null float64\n",
      "foreign_gross     2037 non-null object\n",
      "year              3387 non-null int64\n",
      "dtypes: float64(1), int64(1), object(3)\n",
      "memory usage: 132.4+ KB\n"
     ]
    }
   ],
   "source": [
    "bom_movie_gross.info()"
   ]
  },
  {
   "cell_type": "markdown",
   "metadata": {},
   "source": [
    "### DataFrame 11: 'imdb.title.principals'"
   ]
  },
  {
   "cell_type": "code",
   "execution_count": 95,
   "metadata": {},
   "outputs": [
    {
     "data": {
      "text/plain": [
       "'imdb.title.principals'"
      ]
     },
     "execution_count": 95,
     "metadata": {},
     "output_type": "execute_result"
    }
   ],
   "source": [
    "df_names[10]"
   ]
  },
  {
   "cell_type": "code",
   "execution_count": 96,
   "metadata": {},
   "outputs": [
    {
     "data": {
      "text/html": [
       "<div>\n",
       "<style scoped>\n",
       "    .dataframe tbody tr th:only-of-type {\n",
       "        vertical-align: middle;\n",
       "    }\n",
       "\n",
       "    .dataframe tbody tr th {\n",
       "        vertical-align: top;\n",
       "    }\n",
       "\n",
       "    .dataframe thead th {\n",
       "        text-align: right;\n",
       "    }\n",
       "</style>\n",
       "<table border=\"1\" class=\"dataframe\">\n",
       "  <thead>\n",
       "    <tr style=\"text-align: right;\">\n",
       "      <th></th>\n",
       "      <th>tconst</th>\n",
       "      <th>ordering</th>\n",
       "      <th>nconst</th>\n",
       "      <th>category</th>\n",
       "      <th>job</th>\n",
       "      <th>characters</th>\n",
       "    </tr>\n",
       "  </thead>\n",
       "  <tbody>\n",
       "    <tr>\n",
       "      <td>898056</td>\n",
       "      <td>tt9015306</td>\n",
       "      <td>4</td>\n",
       "      <td>nm4987883</td>\n",
       "      <td>writer</td>\n",
       "      <td>story consultant</td>\n",
       "      <td>NaN</td>\n",
       "    </tr>\n",
       "    <tr>\n",
       "      <td>436328</td>\n",
       "      <td>tt3790342</td>\n",
       "      <td>1</td>\n",
       "      <td>nm6445182</td>\n",
       "      <td>self</td>\n",
       "      <td>NaN</td>\n",
       "      <td>[\"Himself\"]</td>\n",
       "    </tr>\n",
       "    <tr>\n",
       "      <td>936667</td>\n",
       "      <td>tt7063210</td>\n",
       "      <td>9</td>\n",
       "      <td>nm1304832</td>\n",
       "      <td>composer</td>\n",
       "      <td>NaN</td>\n",
       "      <td>NaN</td>\n",
       "    </tr>\n",
       "    <tr>\n",
       "      <td>991040</td>\n",
       "      <td>tt9531110</td>\n",
       "      <td>1</td>\n",
       "      <td>nm0009595</td>\n",
       "      <td>director</td>\n",
       "      <td>NaN</td>\n",
       "      <td>NaN</td>\n",
       "    </tr>\n",
       "    <tr>\n",
       "      <td>9457</td>\n",
       "      <td>tt10097752</td>\n",
       "      <td>8</td>\n",
       "      <td>nm10580542</td>\n",
       "      <td>actor</td>\n",
       "      <td>NaN</td>\n",
       "      <td>NaN</td>\n",
       "    </tr>\n",
       "  </tbody>\n",
       "</table>\n",
       "</div>"
      ],
      "text/plain": [
       "            tconst  ordering      nconst  category               job  \\\n",
       "898056   tt9015306         4   nm4987883    writer  story consultant   \n",
       "436328   tt3790342         1   nm6445182      self               NaN   \n",
       "936667   tt7063210         9   nm1304832  composer               NaN   \n",
       "991040   tt9531110         1   nm0009595  director               NaN   \n",
       "9457    tt10097752         8  nm10580542     actor               NaN   \n",
       "\n",
       "         characters  \n",
       "898056          NaN  \n",
       "436328  [\"Himself\"]  \n",
       "936667          NaN  \n",
       "991040          NaN  \n",
       "9457            NaN  "
      ]
     },
     "execution_count": 96,
     "metadata": {},
     "output_type": "execute_result"
    }
   ],
   "source": [
    "imdb_title_principals = dfs[df_names[10]]\n",
    "imdb_title_principals.sample(5)\n"
   ]
  },
  {
   "cell_type": "code",
   "execution_count": 109,
   "metadata": {},
   "outputs": [
    {
     "name": "stdout",
     "output_type": "stream",
     "text": [
      "<class 'pandas.core.frame.DataFrame'>\n",
      "RangeIndex: 1028186 entries, 0 to 1028185\n",
      "Data columns (total 6 columns):\n",
      "tconst        1028186 non-null object\n",
      "ordering      1028186 non-null int64\n",
      "nconst        1028186 non-null object\n",
      "category      1028186 non-null object\n",
      "job           177684 non-null object\n",
      "characters    393360 non-null object\n",
      "dtypes: int64(1), object(5)\n",
      "memory usage: 47.1+ MB\n"
     ]
    }
   ],
   "source": [
    "imdb_title_principals.info()"
   ]
  },
  {
   "cell_type": "code",
   "execution_count": null,
   "metadata": {},
   "outputs": [],
   "source": []
  }
 ],
 "metadata": {
  "kernelspec": {
   "display_name": "Python [conda env:learn-env] *",
   "language": "python",
   "name": "conda-env-learn-env-py"
  },
  "language_info": {
   "codemirror_mode": {
    "name": "ipython",
    "version": 3
   },
   "file_extension": ".py",
   "mimetype": "text/x-python",
   "name": "python",
   "nbconvert_exporter": "python",
   "pygments_lexer": "ipython3",
   "version": "3.6.9"
  }
 },
 "nbformat": 4,
 "nbformat_minor": 2
}
