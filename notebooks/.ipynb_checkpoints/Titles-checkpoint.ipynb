{
 "cells": [
  {
   "cell_type": "markdown",
   "metadata": {},
   "source": [
    "# Titles"
   ]
  },
  {
   "cell_type": "markdown",
   "metadata": {},
   "source": [
    "In this notebook we will create the title column we will use for our dataset."
   ]
  },
  {
   "cell_type": "code",
   "execution_count": 26,
   "metadata": {},
   "outputs": [],
   "source": [
    "# import libraries\n",
    "import pandas as pd\n",
    "import os"
   ]
  },
  {
   "cell_type": "markdown",
   "metadata": {},
   "source": [
    "## Description"
   ]
  },
  {
   "cell_type": "markdown",
   "metadata": {},
   "source": [
    "This one is self-explanatory. We will use the IMDB title dataset, stripped of TV shows.\n"
   ]
  },
  {
   "cell_type": "markdown",
   "metadata": {},
   "source": [
    "### Dependencies"
   ]
  },
  {
   "cell_type": "markdown",
   "metadata": {},
   "source": [
    "IMDB title dataset"
   ]
  },
  {
   "cell_type": "code",
   "execution_count": 7,
   "metadata": {},
   "outputs": [
    {
     "name": "stderr",
     "output_type": "stream",
     "text": [
      "/Users/yrgg/opt/anaconda3/envs/learn-env/lib/python3.6/site-packages/IPython/core/interactiveshell.py:3058: DtypeWarning: Columns (5) have mixed types. Specify dtype option on import or set low_memory=False.\n",
      "  interactivity=interactivity, compiler=compiler, result=result)\n"
     ]
    }
   ],
   "source": [
    "path = '../data/raw/title.basics.tsv.gz'\n",
    "all_titles = pd.read_csv(path, delimiter='\\t')"
   ]
  },
  {
   "cell_type": "markdown",
   "metadata": {},
   "source": [
    "### Shape"
   ]
  },
  {
   "cell_type": "markdown",
   "metadata": {},
   "source": [
    "The result will have two columns: \n",
    "1. imdb_id\n",
    "2. title"
   ]
  },
  {
   "cell_type": "markdown",
   "metadata": {},
   "source": [
    "### Processsing"
   ]
  },
  {
   "cell_type": "markdown",
   "metadata": {},
   "source": [
    "Strip all non-movies"
   ]
  },
  {
   "cell_type": "code",
   "execution_count": 18,
   "metadata": {},
   "outputs": [],
   "source": [
    "is_movie = 'titleType == \"movie\"'\n",
    "movie_titles = all_titles.query(is_movie)"
   ]
  },
  {
   "cell_type": "code",
   "execution_count": 19,
   "metadata": {},
   "outputs": [
    {
     "data": {
      "text/html": [
       "<div>\n",
       "<style scoped>\n",
       "    .dataframe tbody tr th:only-of-type {\n",
       "        vertical-align: middle;\n",
       "    }\n",
       "\n",
       "    .dataframe tbody tr th {\n",
       "        vertical-align: top;\n",
       "    }\n",
       "\n",
       "    .dataframe thead th {\n",
       "        text-align: right;\n",
       "    }\n",
       "</style>\n",
       "<table border=\"1\" class=\"dataframe\">\n",
       "  <thead>\n",
       "    <tr style=\"text-align: right;\">\n",
       "      <th></th>\n",
       "      <th>tconst</th>\n",
       "      <th>titleType</th>\n",
       "      <th>primaryTitle</th>\n",
       "      <th>originalTitle</th>\n",
       "      <th>isAdult</th>\n",
       "      <th>startYear</th>\n",
       "      <th>endYear</th>\n",
       "      <th>runtimeMinutes</th>\n",
       "      <th>genres</th>\n",
       "    </tr>\n",
       "  </thead>\n",
       "  <tbody>\n",
       "    <tr>\n",
       "      <td>530594</td>\n",
       "      <td>tt0440705</td>\n",
       "      <td>movie</td>\n",
       "      <td>Der Passagier von Nr. 7</td>\n",
       "      <td>Der Passagier von Nr. 7</td>\n",
       "      <td>0</td>\n",
       "      <td>1921</td>\n",
       "      <td>\\N</td>\n",
       "      <td>\\N</td>\n",
       "      <td>\\N</td>\n",
       "    </tr>\n",
       "    <tr>\n",
       "      <td>134975</td>\n",
       "      <td>tt0109084</td>\n",
       "      <td>movie</td>\n",
       "      <td>Buccaneer Soul</td>\n",
       "      <td>Alma Corsária</td>\n",
       "      <td>0</td>\n",
       "      <td>1993</td>\n",
       "      <td>\\N</td>\n",
       "      <td>112</td>\n",
       "      <td>Drama</td>\n",
       "    </tr>\n",
       "    <tr>\n",
       "      <td>3107796</td>\n",
       "      <td>tt1575714</td>\n",
       "      <td>movie</td>\n",
       "      <td>The Heart with Million Knots</td>\n",
       "      <td>Xin you qian qian jie</td>\n",
       "      <td>0</td>\n",
       "      <td>1973</td>\n",
       "      <td>\\N</td>\n",
       "      <td>101</td>\n",
       "      <td>Romance</td>\n",
       "    </tr>\n",
       "    <tr>\n",
       "      <td>1651716</td>\n",
       "      <td>tt10589540</td>\n",
       "      <td>movie</td>\n",
       "      <td>Ang taran tanods: K'nang buhay 'to!</td>\n",
       "      <td>Ang taran tanods: K'nang buhay 'to!</td>\n",
       "      <td>0</td>\n",
       "      <td>2019</td>\n",
       "      <td>\\N</td>\n",
       "      <td>95</td>\n",
       "      <td>Comedy</td>\n",
       "    </tr>\n",
       "    <tr>\n",
       "      <td>150571</td>\n",
       "      <td>tt0122058</td>\n",
       "      <td>movie</td>\n",
       "      <td>The Women's Great Escape</td>\n",
       "      <td>Yeosu daetalok</td>\n",
       "      <td>0</td>\n",
       "      <td>1976</td>\n",
       "      <td>\\N</td>\n",
       "      <td>90</td>\n",
       "      <td>Drama,Thriller</td>\n",
       "    </tr>\n",
       "  </tbody>\n",
       "</table>\n",
       "</div>"
      ],
      "text/plain": [
       "             tconst titleType                         primaryTitle  \\\n",
       "530594    tt0440705     movie              Der Passagier von Nr. 7   \n",
       "134975    tt0109084     movie                       Buccaneer Soul   \n",
       "3107796   tt1575714     movie         The Heart with Million Knots   \n",
       "1651716  tt10589540     movie  Ang taran tanods: K'nang buhay 'to!   \n",
       "150571    tt0122058     movie             The Women's Great Escape   \n",
       "\n",
       "                               originalTitle  isAdult startYear endYear  \\\n",
       "530594               Der Passagier von Nr. 7        0      1921      \\N   \n",
       "134975                         Alma Corsária        0      1993      \\N   \n",
       "3107796                Xin you qian qian jie        0      1973      \\N   \n",
       "1651716  Ang taran tanods: K'nang buhay 'to!        0      2019      \\N   \n",
       "150571                        Yeosu daetalok        0      1976      \\N   \n",
       "\n",
       "        runtimeMinutes          genres  \n",
       "530594              \\N              \\N  \n",
       "134975             112           Drama  \n",
       "3107796            101         Romance  \n",
       "1651716             95          Comedy  \n",
       "150571              90  Drama,Thriller  "
      ]
     },
     "execution_count": 19,
     "metadata": {},
     "output_type": "execute_result"
    }
   ],
   "source": [
    "movie_titles.sample(5)"
   ]
  },
  {
   "cell_type": "markdown",
   "metadata": {},
   "source": [
    "Build new dataframe with correct columns"
   ]
  },
  {
   "cell_type": "code",
   "execution_count": 20,
   "metadata": {},
   "outputs": [],
   "source": [
    "movie_titles = movie_titles[['tconst', 'primaryTitle']]"
   ]
  },
  {
   "cell_type": "code",
   "execution_count": 21,
   "metadata": {},
   "outputs": [
    {
     "data": {
      "text/html": [
       "<div>\n",
       "<style scoped>\n",
       "    .dataframe tbody tr th:only-of-type {\n",
       "        vertical-align: middle;\n",
       "    }\n",
       "\n",
       "    .dataframe tbody tr th {\n",
       "        vertical-align: top;\n",
       "    }\n",
       "\n",
       "    .dataframe thead th {\n",
       "        text-align: right;\n",
       "    }\n",
       "</style>\n",
       "<table border=\"1\" class=\"dataframe\">\n",
       "  <thead>\n",
       "    <tr style=\"text-align: right;\">\n",
       "      <th></th>\n",
       "      <th>tconst</th>\n",
       "      <th>primaryTitle</th>\n",
       "    </tr>\n",
       "  </thead>\n",
       "  <tbody>\n",
       "    <tr>\n",
       "      <td>4830420</td>\n",
       "      <td>tt3764458</td>\n",
       "      <td>All My Boyfriend's Girlfriends</td>\n",
       "    </tr>\n",
       "    <tr>\n",
       "      <td>4071563</td>\n",
       "      <td>tt2385784</td>\n",
       "      <td>A small southern enterprise</td>\n",
       "    </tr>\n",
       "    <tr>\n",
       "      <td>66858</td>\n",
       "      <td>tt0053802</td>\n",
       "      <td>Blood and Roses</td>\n",
       "    </tr>\n",
       "    <tr>\n",
       "      <td>1441941</td>\n",
       "      <td>tt10297320</td>\n",
       "      <td>Swingers</td>\n",
       "    </tr>\n",
       "    <tr>\n",
       "      <td>5223679</td>\n",
       "      <td>tt4452636</td>\n",
       "      <td>Coming Through Slaughter</td>\n",
       "    </tr>\n",
       "  </tbody>\n",
       "</table>\n",
       "</div>"
      ],
      "text/plain": [
       "             tconst                    primaryTitle\n",
       "4830420   tt3764458  All My Boyfriend's Girlfriends\n",
       "4071563   tt2385784     A small southern enterprise\n",
       "66858     tt0053802                 Blood and Roses\n",
       "1441941  tt10297320                        Swingers\n",
       "5223679   tt4452636        Coming Through Slaughter"
      ]
     },
     "execution_count": 21,
     "metadata": {},
     "output_type": "execute_result"
    }
   ],
   "source": [
    "movie_titles.sample(5)"
   ]
  },
  {
   "cell_type": "code",
   "execution_count": 22,
   "metadata": {},
   "outputs": [],
   "source": [
    "movie_titles.rename(columns={ 'tconst': 'imdb_id', 'primaryTitle': 'title'}, inplace=True)"
   ]
  },
  {
   "cell_type": "code",
   "execution_count": 23,
   "metadata": {},
   "outputs": [
    {
     "data": {
      "text/html": [
       "<div>\n",
       "<style scoped>\n",
       "    .dataframe tbody tr th:only-of-type {\n",
       "        vertical-align: middle;\n",
       "    }\n",
       "\n",
       "    .dataframe tbody tr th {\n",
       "        vertical-align: top;\n",
       "    }\n",
       "\n",
       "    .dataframe thead th {\n",
       "        text-align: right;\n",
       "    }\n",
       "</style>\n",
       "<table border=\"1\" class=\"dataframe\">\n",
       "  <thead>\n",
       "    <tr style=\"text-align: right;\">\n",
       "      <th></th>\n",
       "      <th>imdb_id</th>\n",
       "      <th>title</th>\n",
       "    </tr>\n",
       "  </thead>\n",
       "  <tbody>\n",
       "    <tr>\n",
       "      <td>7227494</td>\n",
       "      <td>tt7916910</td>\n",
       "      <td>A1: The Long Road to Edinburgh</td>\n",
       "    </tr>\n",
       "    <tr>\n",
       "      <td>1348990</td>\n",
       "      <td>tt10168242</td>\n",
       "      <td>Lotus</td>\n",
       "    </tr>\n",
       "    <tr>\n",
       "      <td>3056325</td>\n",
       "      <td>tt1533971</td>\n",
       "      <td>Abraham's Children</td>\n",
       "    </tr>\n",
       "    <tr>\n",
       "      <td>6329808</td>\n",
       "      <td>tt6394432</td>\n",
       "      <td>Landrauschen</td>\n",
       "    </tr>\n",
       "    <tr>\n",
       "      <td>8333462</td>\n",
       "      <td>tt9797642</td>\n",
       "      <td>Work A Double</td>\n",
       "    </tr>\n",
       "  </tbody>\n",
       "</table>\n",
       "</div>"
      ],
      "text/plain": [
       "            imdb_id                           title\n",
       "7227494   tt7916910  A1: The Long Road to Edinburgh\n",
       "1348990  tt10168242                           Lotus\n",
       "3056325   tt1533971              Abraham's Children\n",
       "6329808   tt6394432                    Landrauschen\n",
       "8333462   tt9797642                   Work A Double"
      ]
     },
     "execution_count": 23,
     "metadata": {},
     "output_type": "execute_result"
    }
   ],
   "source": [
    "movie_titles.sample(5)"
   ]
  },
  {
   "cell_type": "markdown",
   "metadata": {},
   "source": [
    "### Completed"
   ]
  },
  {
   "cell_type": "markdown",
   "metadata": {},
   "source": [
    "This is the final product."
   ]
  },
  {
   "cell_type": "code",
   "execution_count": 25,
   "metadata": {},
   "outputs": [
    {
     "name": "stdout",
     "output_type": "stream",
     "text": [
      "<class 'pandas.core.frame.DataFrame'>\n",
      "Int64Index: 683297 entries, 10 to 8404146\n",
      "Data columns (total 2 columns):\n",
      "imdb_id    683297 non-null object\n",
      "title      683297 non-null object\n",
      "dtypes: object(2)\n",
      "memory usage: 15.6+ MB\n"
     ]
    }
   ],
   "source": [
    "movie_titles.info()"
   ]
  },
  {
   "cell_type": "markdown",
   "metadata": {},
   "source": [
    "Export it to the interim data folder using pandas built-in method"
   ]
  },
  {
   "cell_type": "code",
   "execution_count": 28,
   "metadata": {},
   "outputs": [],
   "source": [
    "path = os.path.join(os.pardir, 'data', 'interim', 'movie_titles.csv')\n",
    "movie_titles.to_csv(path_or_buf=path, index=False)"
   ]
  },
  {
   "cell_type": "markdown",
   "metadata": {},
   "source": [
    "Make sure the write was succesful"
   ]
  },
  {
   "cell_type": "code",
   "execution_count": 29,
   "metadata": {},
   "outputs": [],
   "source": [
    "saved_movie_titles = pd.read_csv(path)"
   ]
  },
  {
   "cell_type": "code",
   "execution_count": 30,
   "metadata": {},
   "outputs": [
    {
     "data": {
      "text/html": [
       "<div>\n",
       "<style scoped>\n",
       "    .dataframe tbody tr th:only-of-type {\n",
       "        vertical-align: middle;\n",
       "    }\n",
       "\n",
       "    .dataframe tbody tr th {\n",
       "        vertical-align: top;\n",
       "    }\n",
       "\n",
       "    .dataframe thead th {\n",
       "        text-align: right;\n",
       "    }\n",
       "</style>\n",
       "<table border=\"1\" class=\"dataframe\">\n",
       "  <thead>\n",
       "    <tr style=\"text-align: right;\">\n",
       "      <th></th>\n",
       "      <th>imdb_id</th>\n",
       "      <th>title</th>\n",
       "    </tr>\n",
       "  </thead>\n",
       "  <tbody>\n",
       "    <tr>\n",
       "      <td>136975</td>\n",
       "      <td>tt0177116</td>\n",
       "      <td>Pochti lyubovna istoriya</td>\n",
       "    </tr>\n",
       "    <tr>\n",
       "      <td>644462</td>\n",
       "      <td>tt8310474</td>\n",
       "      <td>Bruised</td>\n",
       "    </tr>\n",
       "    <tr>\n",
       "      <td>229166</td>\n",
       "      <td>tt0362458</td>\n",
       "      <td>Blumen lügen nicht</td>\n",
       "    </tr>\n",
       "    <tr>\n",
       "      <td>189690</td>\n",
       "      <td>tt0270273</td>\n",
       "      <td>Chhaya</td>\n",
       "    </tr>\n",
       "    <tr>\n",
       "      <td>37965</td>\n",
       "      <td>tt0042726</td>\n",
       "      <td>Memorias de un mexicano</td>\n",
       "    </tr>\n",
       "  </tbody>\n",
       "</table>\n",
       "</div>"
      ],
      "text/plain": [
       "          imdb_id                     title\n",
       "136975  tt0177116  Pochti lyubovna istoriya\n",
       "644462  tt8310474                   Bruised\n",
       "229166  tt0362458        Blumen lügen nicht\n",
       "189690  tt0270273                    Chhaya\n",
       "37965   tt0042726   Memorias de un mexicano"
      ]
     },
     "execution_count": 30,
     "metadata": {},
     "output_type": "execute_result"
    }
   ],
   "source": [
    "saved_movie_titles.sample(5)"
   ]
  },
  {
   "cell_type": "code",
   "execution_count": null,
   "metadata": {},
   "outputs": [],
   "source": []
  }
 ],
 "metadata": {
  "kernelspec": {
   "display_name": "Python [conda env:learn-env] *",
   "language": "python",
   "name": "conda-env-learn-env-py"
  },
  "language_info": {
   "codemirror_mode": {
    "name": "ipython",
    "version": 3
   },
   "file_extension": ".py",
   "mimetype": "text/x-python",
   "name": "python",
   "nbconvert_exporter": "python",
   "pygments_lexer": "ipython3",
   "version": "3.6.9"
  }
 },
 "nbformat": 4,
 "nbformat_minor": 2
}
