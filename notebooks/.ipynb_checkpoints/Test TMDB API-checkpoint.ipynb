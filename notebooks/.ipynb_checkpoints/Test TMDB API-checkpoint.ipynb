{
 "cells": [
  {
   "cell_type": "code",
   "execution_count": 2,
   "metadata": {},
   "outputs": [
    {
     "data": {
      "text/plain": [
       "True"
      ]
     },
     "execution_count": 2,
     "metadata": {},
     "output_type": "execute_result"
    }
   ],
   "source": [
    "import requests\n",
    "import pandas as pd\n",
    "\n",
    "from dotenv import load_dotenv, find_dotenv\n",
    "load_dotenv(find_dotenv())"
   ]
  },
  {
   "cell_type": "code",
   "execution_count": 3,
   "metadata": {},
   "outputs": [],
   "source": [
    "import os\n",
    "TMDB_KEY = os.getenv(\"TMDB_KEY\")\n",
    "TMDB_TOKEN = os.getenv(\"TMDB_TOKEN\")"
   ]
  },
  {
   "cell_type": "code",
   "execution_count": 67,
   "metadata": {},
   "outputs": [
    {
     "data": {
      "text/plain": [
       "{'adult': False,\n",
       " 'backdrop_path': '/pCUdYAaarKqY2AAUtV6xXYO8UGY.jpg',\n",
       " 'belongs_to_collection': None,\n",
       " 'budget': 63000000,\n",
       " 'genres': [{'id': 18, 'name': 'Drama'}],\n",
       " 'homepage': 'http://www.foxmovies.com/movies/fight-club',\n",
       " 'id': 550,\n",
       " 'imdb_id': 'tt0137523',\n",
       " 'original_language': 'en',\n",
       " 'original_title': 'Fight Club',\n",
       " 'overview': 'A ticking-time-bomb insomniac and a slippery soap salesman channel primal male aggression into a shocking new form of therapy. Their concept catches on, with underground \"fight clubs\" forming in every town, until an eccentric gets in the way and ignites an out-of-control spiral toward oblivion.',\n",
       " 'popularity': 31.636,\n",
       " 'poster_path': '/4GpwvwDjgwiShr1UBJIn5fk1gwT.jpg',\n",
       " 'production_companies': [{'id': 508,\n",
       "   'logo_path': '/7PzJdsLGlR7oW4J0J5Xcd0pHGRg.png',\n",
       "   'name': 'Regency Enterprises',\n",
       "   'origin_country': 'US'},\n",
       "  {'id': 711,\n",
       "   'logo_path': '/tEiIH5QesdheJmDAqQwvtN60727.png',\n",
       "   'name': 'Fox 2000 Pictures',\n",
       "   'origin_country': 'US'},\n",
       "  {'id': 20555,\n",
       "   'logo_path': '/hD8yEGUBlHOcfHYbujp71vD8gZp.png',\n",
       "   'name': 'Taurus Film',\n",
       "   'origin_country': 'DE'},\n",
       "  {'id': 54051,\n",
       "   'logo_path': None,\n",
       "   'name': 'Atman Entertainment',\n",
       "   'origin_country': ''},\n",
       "  {'id': 54052,\n",
       "   'logo_path': None,\n",
       "   'name': 'Knickerbocker Films',\n",
       "   'origin_country': 'US'},\n",
       "  {'id': 25,\n",
       "   'logo_path': '/qZCc1lty5FzX30aOCVRBLzaVmcp.png',\n",
       "   'name': '20th Century Fox',\n",
       "   'origin_country': 'US'},\n",
       "  {'id': 4700,\n",
       "   'logo_path': '/A32wmjrs9Psf4zw0uaixF0GXfxq.png',\n",
       "   'name': 'The Linson Company',\n",
       "   'origin_country': ''}],\n",
       " 'production_countries': [{'iso_3166_1': 'DE', 'name': 'Germany'},\n",
       "  {'iso_3166_1': 'US', 'name': 'United States of America'}],\n",
       " 'release_date': '1999-10-15',\n",
       " 'revenue': 100853753,\n",
       " 'runtime': 139,\n",
       " 'spoken_languages': [{'iso_639_1': 'en', 'name': 'English'}],\n",
       " 'status': 'Released',\n",
       " 'tagline': 'Mischief. Mayhem. Soap.',\n",
       " 'title': 'Fight Club',\n",
       " 'video': False,\n",
       " 'vote_average': 8.4,\n",
       " 'vote_count': 18360}"
      ]
     },
     "execution_count": 67,
     "metadata": {},
     "output_type": "execute_result"
    }
   ],
   "source": [
    "# make first api call\n",
    "base_url = \"https://api.themoviedb.org/3\"\n",
    "auth = '?api_key={}'.format(TMDB_KEY)\n",
    "test_movie_id = '/movie/550'\n",
    "res = requests.get(base_url + test_movie_id + auth) # test\n",
    "res.raise_for_status()\n",
    "json.loads(res.text)"
   ]
  },
  {
   "cell_type": "code",
   "execution_count": 57,
   "metadata": {},
   "outputs": [],
   "source": [
    "import json"
   ]
  },
  {
   "cell_type": "code",
   "execution_count": 58,
   "metadata": {},
   "outputs": [],
   "source": [
    "fight_club = json.loads(res.text)"
   ]
  },
  {
   "cell_type": "markdown",
   "metadata": {},
   "source": [
    "Grabbing keywords for Fight Club:"
   ]
  },
  {
   "cell_type": "code",
   "execution_count": 61,
   "metadata": {},
   "outputs": [],
   "source": [
    "def fetch_keywords(movie_id):\n",
    "    url = base_url + '/movie/{}/keywords'.format(movie_id) + auth\n",
    "    res = requests.get(url)\n",
    "    res.raise_for_status()\n",
    "    keywords = json.loads(res.text)\n",
    "    return keywords"
   ]
  },
  {
   "cell_type": "code",
   "execution_count": 62,
   "metadata": {},
   "outputs": [
    {
     "data": {
      "text/plain": [
       "{'id': 550,\n",
       " 'keywords': [{'id': 818, 'name': 'based on novel or book'},\n",
       "  {'id': 825, 'name': 'support group'},\n",
       "  {'id': 851, 'name': 'dual identity'},\n",
       "  {'id': 1541, 'name': 'nihilism'},\n",
       "  {'id': 1721, 'name': 'fight'},\n",
       "  {'id': 3927, 'name': 'rage and hate'},\n",
       "  {'id': 4142, 'name': 'insomnia'},\n",
       "  {'id': 4565, 'name': 'dystopia'},\n",
       "  {'id': 9181, 'name': 'alter ego'},\n",
       "  {'id': 34117, 'name': 'cult film'},\n",
       "  {'id': 156761, 'name': 'split personality'},\n",
       "  {'id': 179173, 'name': 'quitting a job'},\n",
       "  {'id': 212803, 'name': 'dissociative identity disorder'},\n",
       "  {'id': 249899, 'name': 'graphic violence'},\n",
       "  {'id': 260426, 'name': 'self destructiveness'}]}"
      ]
     },
     "execution_count": 62,
     "metadata": {},
     "output_type": "execute_result"
    }
   ],
   "source": [
    "fetch_keywords(fight_club['id'])"
   ]
  },
  {
   "cell_type": "markdown",
   "metadata": {},
   "source": [
    "Let's see if we can use the find endpoint and check by IMDB id. We want to see if we can use this API to fill in missing values from IMDB."
   ]
  },
  {
   "cell_type": "code",
   "execution_count": 75,
   "metadata": {},
   "outputs": [],
   "source": [
    "def search_by_id(external_id):\n",
    "    url = base_url + '/find/{}'.format(external_id) + auth + '&external_source=imdb_id'\n",
    "    res = requests.get(url)\n",
    "    print(\"URL: {}\".format(res.url))\n",
    "    res.raise_for_status()\n",
    "    res = json.loads(res.text)\n",
    "    return res"
   ]
  },
  {
   "cell_type": "code",
   "execution_count": 77,
   "metadata": {},
   "outputs": [
    {
     "name": "stdout",
     "output_type": "stream",
     "text": [
      "URL: https://api.themoviedb.org/3/find/tt10427674?api_key=a93d153365af7da29953bf7b3cf3d498&external_source=imdb_id\n"
     ]
    },
    {
     "data": {
      "text/plain": [
       "{'movie_results': [],\n",
       " 'person_results': [],\n",
       " 'tv_results': [],\n",
       " 'tv_episode_results': [],\n",
       " 'tv_season_results': []}"
      ]
     },
     "execution_count": 77,
     "metadata": {},
     "output_type": "execute_result"
    }
   ],
   "source": [
    "missing_id = 'tt10427674'\n",
    "fight_club_id = 'tt0137523'\n",
    "search_by_id(missing_id)"
   ]
  },
  {
   "cell_type": "markdown",
   "metadata": {},
   "source": [
    "Okay, can't use TMDB to fill in info missing from IMDB. \n",
    "\n",
    "That means the IMDB is the number one source of truth."
   ]
  },
  {
   "cell_type": "markdown",
   "metadata": {},
   "source": [
    "### Testing the Wikipedia API:"
   ]
  },
  {
   "cell_type": "code",
   "execution_count": 79,
   "metadata": {},
   "outputs": [
    {
     "name": "stdout",
     "output_type": "stream",
     "text": [
      "Your search page 'Fight Club' exists on English Wikipedia\n"
     ]
    }
   ],
   "source": [
    "S = requests.Session()\n",
    "\n",
    "URL = \"https://en.wikipedia.org/w/api.php\"\n",
    "\n",
    "SEARCHPAGE = \"Fight Club\"\n",
    "\n",
    "PARAMS = {\n",
    "    \"action\": \"query\",\n",
    "    \"format\": \"json\",\n",
    "    \"list\": \"search\",\n",
    "    \"srsearch\": SEARCHPAGE\n",
    "}\n",
    "\n",
    "R = S.get(url=URL, params=PARAMS)\n",
    "DATA = R.json()\n",
    "\n",
    "if DATA['query']['search'][0]['title'] == SEARCHPAGE:\n",
    "    print(\"Your search page '\" + SEARCHPAGE + \"' exists on English Wikipedia\")"
   ]
  },
  {
   "cell_type": "code",
   "execution_count": 87,
   "metadata": {},
   "outputs": [
    {
     "data": {
      "text/plain": [
       "200"
      ]
     },
     "execution_count": 87,
     "metadata": {},
     "output_type": "execute_result"
    }
   ],
   "source": [
    "parse_req = '?action=parse&page={}&prop=text&formatversion=2'.format(1009041)\n",
    "page = S.get(url=URL+parse_req)\n",
    "page.status_code"
   ]
  },
  {
   "cell_type": "code",
   "execution_count": 89,
   "metadata": {},
   "outputs": [
    {
     "name": "stdout",
     "output_type": "stream",
     "text": [
      "<!DOCTYPE html>\n",
      "<html class=\"client-nojs\" dir=\"ltr\" lang=\"en\">\n",
      " <head>\n",
      "  <meta charset=\"utf-8\"/>\n",
      "  <title>\n",
      "   MediaWiki API result - Wikipedia\n",
      "  </title>\n",
      "  <script>\n",
      "   document.documentElement.className=\"client-js\";RLCONF={\"wgBreakFrames\":!1,\"wgSeparatorTransformTable\":[\"\",\"\"],\"wgDigitTransformTable\":[\"\",\"\"],\"wgDefaultDateFormat\":\"dmy\",\"wgMonthNames\":[\"\",\"January\",\"February\",\"March\",\"April\",\"May\",\"June\",\"July\",\"August\",\"September\",\"October\",\"November\",\"December\"],\"wgMonthNamesShort\":[\"\",\"Jan\",\"Feb\",\"Mar\",\"Apr\",\"May\",\"Jun\",\"Jul\",\"Aug\",\"Sep\",\"Oct\",\"Nov\",\"Dec\"],\"wgRequestId\":\"Xm-nlApAMNwAA-7xkNQAAACH\",\"wgCSPNonce\":!1,\"wgCanonicalNamespace\":\"Special\",\"wgCanonicalSpecialPageName\":\"ApiHelp\",\"wgNamespaceNumber\":-1,\"wgPageName\":\"Special:ApiHelp\",\"wgTitle\":\"ApiHelp\",\"wgCurRevisionId\":0,\"wgRevisionId\":0,\"wgArticleId\":0,\"wgIsArticle\":!1,\"wgIsRedirect\":!1,\"wgAction\":\"view\",\"wgUserName\":null,\"wgUserGroups\":[\"*\"],\"wgCategories\":[],\"wgPageContentLanguage\":\"en\",\"wgPageContentModel\":\"wikitext\",\"wgRelevantPageName\":\"Special:ApiHelp\",\"wgRelevantArticleId\":0,\"wgIsProbablyEditable\":!1,\"wgRelevantPageIsProbablyEditable\":!1,\"wgMediaViewerOnClick\":!0,\n",
      "\"wgMediaViewerEnabledByDefault\":!0,\"wgPopupsReferencePreviews\":!1,\"wgPopupsConflictsWithNavPopupGadget\":!1,\"wgVisualEditor\":{\"pageLanguageCode\":\"en\",\"pageLanguageDir\":\"ltr\",\"pageVariantFallbacks\":\"en\"},\"wgMFDisplayWikibaseDescriptions\":{\"search\":!0,\"nearby\":!0,\"watchlist\":!0,\"tagline\":!1},\"wgWMESchemaEditAttemptStepOversample\":!1,\"wgULSCurrentAutonym\":\"English\",\"wgNoticeProject\":\"wikipedia\",\"wgCentralAuthMobileDomain\":!1,\"wgEditSubmitButtonLabelPublish\":!0};RLSTATE={\"ext.globalCssJs.user.styles\":\"ready\",\"site.styles\":\"ready\",\"noscript\":\"ready\",\"user.styles\":\"ready\",\"ext.globalCssJs.user\":\"ready\",\"user\":\"ready\",\"user.options\":\"ready\",\"user.tokens\":\"loading\",\"mediawiki.apipretty\":\"ready\",\"ext.pygments\":\"ready\",\"mediawiki.legacy.shared\":\"ready\",\"mediawiki.legacy.commonPrint\":\"ready\",\"mediawiki.skinning.interface\":\"ready\",\"ext.visualEditor.desktopArticleTarget.noscript\":\"ready\",\"ext.uls.interlanguage\":\"ready\",\"ext.wikimediaBadges\":\"ready\"};RLPAGEMODULES=[\"site\",\n",
      "\"mediawiki.page.startup\",\"mediawiki.page.ready\",\"ext.gadget.ReferenceTooltips\",\"ext.gadget.charinsert\",\"ext.gadget.refToolbar\",\"ext.gadget.extra-toolbar-buttons\",\"ext.gadget.switcher\",\"ext.centralauth.centralautologin\",\"ext.popups\",\"ext.visualEditor.desktopArticleTarget.init\",\"ext.visualEditor.targetLoader\",\"ext.eventLogging\",\"ext.wikimediaEvents\",\"ext.navigationTiming\",\"ext.uls.compactlinks\",\"ext.uls.interface\",\"ext.cx.eventlogging.campaigns\",\"ext.centralNotice.geoIP\"];\n",
      "  </script>\n",
      "  <script>\n",
      "   (RLQ=window.RLQ||[]).push(function(){mw.loader.implement(\"user.tokens@tffin\",function($,jQuery,require,module){/*@nomin*/mw.user.tokens.set({\"patrolToken\":\"+\\\\\",\"watchToken\":\"+\\\\\",\"csrfToken\":\"+\\\\\"});\n",
      "});});\n",
      "  </script>\n",
      "  <link href=\"/w/load.php?lang=en&amp;modules=ext.pygments%2CwikimediaBadges%7Cext.uls.interlanguage%7Cext.visualEditor.desktopArticleTarget.noscript%7Cmediawiki.apipretty%7Cmediawiki.legacy.commonPrint%2Cshared%7Cmediawiki.skinning.interface&amp;only=styles&amp;skin=apioutput\" rel=\"stylesheet\"/>\n",
      "  <script async=\"\" src=\"/w/load.php?lang=en&amp;modules=startup&amp;only=scripts&amp;raw=1&amp;skin=apioutput\">\n",
      "  </script>\n",
      "  <meta content=\"\" name=\"ResourceLoaderDynamicStyles\"/>\n",
      "  <link href=\"/w/load.php?lang=en&amp;modules=site.styles&amp;only=styles&amp;skin=apioutput\" rel=\"stylesheet\"/>\n",
      "  <meta content=\"MediaWiki 1.35.0-wmf.22\" name=\"generator\"/>\n",
      "  <meta content=\"origin\" name=\"referrer\"/>\n",
      "  <meta content=\"origin-when-crossorigin\" name=\"referrer\"/>\n",
      "  <meta content=\"origin-when-cross-origin\" name=\"referrer\"/>\n",
      "  <meta content=\"noindex,nofollow\" name=\"robots\"/>\n",
      "  <link href=\"/static/apple-touch/wikipedia.png\" rel=\"apple-touch-icon\"/>\n",
      "  <link href=\"/static/favicon/wikipedia.ico\" rel=\"shortcut icon\"/>\n",
      "  <link href=\"/w/opensearch_desc.php\" rel=\"search\" title=\"Wikipedia (en)\" type=\"application/opensearchdescription+xml\"/>\n",
      "  <link href=\"//en.wikipedia.org/w/api.php?action=rsd\" rel=\"EditURI\" type=\"application/rsd+xml\"/>\n",
      "  <link href=\"//creativecommons.org/licenses/by-sa/3.0/\" rel=\"license\"/>\n",
      "  <link href=\"/w/index.php?title=Special:RecentChanges&amp;feed=atom\" rel=\"alternate\" title=\"Wikipedia Atom feed\" type=\"application/atom+xml\"/>\n",
      "  <link href=\"https://en.wikipedia.org/wiki/Special:ApiHelp\" rel=\"canonical\"/>\n",
      "  <link href=\"//login.wikimedia.org\" rel=\"dns-prefetch\"/>\n",
      "  <!--[if lt IE 9]><script src=\"/w/resources/lib/html5shiv/html5shiv.js\"></script><![endif]-->\n",
      " </head>\n",
      " <body class=\"mediawiki ltr sitedir-ltr mw-hide-empty-elt ns--1 ns-special mw-special-ApiHelp page-Special_ApiHelp rootpage-Special_ApiHelp skin-apioutput action-view\">\n",
      "  <div class=\"mw-body\" role=\"main\">\n",
      "   <h1 class=\"firstHeading\">\n",
      "    MediaWiki API result\n",
      "   </h1>\n",
      "   <div class=\"mw-body-content\">\n",
      "    <div id=\"mw-content-text\">\n",
      "     <div class=\"api-pretty-header\">\n",
      "      <p>\n",
      "       This is the HTML representation of the JSON format. HTML is good for debugging, but is unsuitable for application use.\n",
      "      </p>\n",
      "      <p>\n",
      "       Specify the\n",
      "       <var>\n",
      "        format\n",
      "       </var>\n",
      "       parameter to change the output format. To see the non-HTML representation of the JSON format, set\n",
      "       <a class=\"external text\" href=\"https://en.wikipedia.org/w/api.php?action=parse&amp;page=1009041&amp;prop=text&amp;formatversion=2&amp;format=json\">\n",
      "        <kbd>\n",
      "         format=json\n",
      "        </kbd>\n",
      "       </a>\n",
      "       .\n",
      "      </p>\n",
      "      <p>\n",
      "       See the\n",
      "       <a class=\"extiw\" href=\"https://www.mediawiki.org/wiki/API\" title=\"mw:API\">\n",
      "        complete documentation\n",
      "       </a>\n",
      "       , or the\n",
      "       <a href=\"/w/api.php?action=help&amp;modules=main\">\n",
      "        API help\n",
      "       </a>\n",
      "       for more information.\n",
      "      </p>\n",
      "     </div>\n",
      "     <div dir=\"ltr\">\n",
      "      <div class=\"mw-highlight\">\n",
      "       <pre><span></span><span class=\"p\">{</span>\n",
      "    <span class=\"s2\">\"error\"</span><span class=\"o\">:</span> <span class=\"p\">{</span>\n",
      "        <span class=\"s2\">\"code\"</span><span class=\"o\">:</span> <span class=\"s2\">\"missingtitle\"</span><span class=\"p\">,</span>\n",
      "        <span class=\"s2\">\"info\"</span><span class=\"o\">:</span> <span class=\"s2\">\"The page you specified doesn't exist.\"</span><span class=\"p\">,</span>\n",
      "        <span class=\"s2\">\"docref\"</span><span class=\"o\">:</span> <span class=\"s2\">\"See https://en.wikipedia.org/w/api.php for API usage. Subscribe to the mediawiki-api-announce mailing list at &amp;lt;https://lists.wikimedia.org/mailman/listinfo/mediawiki-api-announce&amp;gt; for notice of API deprecations and breaking changes.\"</span>\n",
      "    <span class=\"p\">},</span>\n",
      "    <span class=\"s2\">\"servedby\"</span><span class=\"o\">:</span> <span class=\"s2\">\"mw1378\"</span>\n",
      "<span class=\"p\">}</span>\n",
      "</pre>\n",
      "      </div>\n",
      "     </div>\n",
      "     <noscript>\n",
      "      <img alt=\"\" height=\"1\" src=\"//en.wikipedia.org/wiki/Special:CentralAutoLogin/start?type=1x1\" style=\"border: none; position: absolute;\" title=\"\" width=\"1\"/>\n",
      "     </noscript>\n",
      "    </div>\n",
      "    <div class=\"printfooter\">\n",
      "     Retrieved from \"\n",
      "     <a dir=\"ltr\" href=\"https://en.wikipedia.org/wiki/Special:ApiHelp\">\n",
      "      https://en.wikipedia.org/wiki/Special:ApiHelp\n",
      "     </a>\n",
      "     \"\n",
      "    </div>\n",
      "   </div>\n",
      "  </div>\n",
      "  <script>\n",
      "   (RLQ=window.RLQ||[]).push(function(){mw.config.set({\"wgBackendResponseTime\":269,\"wgHostname\":\"mw1378\"});});\n",
      "  </script>\n",
      " </body>\n",
      "</html>\n",
      "\n"
     ]
    }
   ],
   "source": [
    "from bs4 import BeautifulSoup\n",
    "html = BeautifulSoup(page.text)\n",
    "print(html.prettify())"
   ]
  },
  {
   "cell_type": "code",
   "execution_count": 80,
   "metadata": {},
   "outputs": [
    {
     "data": {
      "text/plain": [
       "{'batchcomplete': '',\n",
       " 'continue': {'sroffset': 10, 'continue': '-||'},\n",
       " 'query': {'searchinfo': {'totalhits': 54738},\n",
       "  'search': [{'ns': 0,\n",
       "    'title': 'Fight Club',\n",
       "    'pageid': 1009041,\n",
       "    'size': 93146,\n",
       "    'wordcount': 10072,\n",
       "    'snippet': '<span class=\"searchmatch\">Fight</span> <span class=\"searchmatch\">Club</span> is a 1999 American film directed by David Fincher and starring Brad Pitt, Edward Norton, and Helena Bonham Carter. It is based on the 1996 novel',\n",
       "    'timestamp': '2020-03-16T12:18:49Z'},\n",
       "   {'ns': 0,\n",
       "    'title': 'Fight Club (novel)',\n",
       "    'pageid': 23854860,\n",
       "    'size': 43893,\n",
       "    'wordcount': 5546,\n",
       "    'snippet': '<span class=\"searchmatch\">Fight</span> <span class=\"searchmatch\">Club</span> is a 1996 novel by Chuck Palahniuk. It follows the experiences of an unnamed protagonist struggling with insomnia. Inspired by his doctor\\'s',\n",
       "    'timestamp': '2020-02-20T16:21:34Z'},\n",
       "   {'ns': 0,\n",
       "    'title': 'Fight Club 2',\n",
       "    'pageid': 45657955,\n",
       "    'size': 19485,\n",
       "    'wordcount': 746,\n",
       "    'snippet': '<span class=\"searchmatch\">Fight</span> <span class=\"searchmatch\">Club</span> 2 (also known as <span class=\"searchmatch\">Fight</span> <span class=\"searchmatch\">Club</span> 2: The Tranquility Gambit) is Chuck Palahniuk\\'s comic book meta-sequel to his 1996 novel <span class=\"searchmatch\">Fight</span> <span class=\"searchmatch\">Club</span>, with art by',\n",
       "    'timestamp': '2020-02-24T11:16:35Z'},\n",
       "   {'ns': 0,\n",
       "    'title': 'The Narrator (Fight Club)',\n",
       "    'pageid': 51255835,\n",
       "    'size': 12712,\n",
       "    'wordcount': 1431,\n",
       "    'snippet': 'of the 1996 Chuck Palahniuk novel <span class=\"searchmatch\">Fight</span> <span class=\"searchmatch\">Club</span>, its 1999 film adaptation of the same name, and the comic book <span class=\"searchmatch\">Fight</span> <span class=\"searchmatch\">Club</span> 2. The character is an insomniac',\n",
       "    'timestamp': '2020-02-21T22:19:01Z'},\n",
       "   {'ns': 0,\n",
       "    'title': 'Fight Club 3',\n",
       "    'pageid': 61206061,\n",
       "    'size': 2022,\n",
       "    'wordcount': 79,\n",
       "    'snippet': '<span class=\"searchmatch\">Fight</span> <span class=\"searchmatch\">Club</span> 3 is Chuck Palahniuk\\'s second comic book meta-sequel to his 1996 novel <span class=\"searchmatch\">Fight</span> <span class=\"searchmatch\">Club</span>. <span class=\"searchmatch\">Fight</span> <span class=\"searchmatch\">Club</span> 3 consists of twelve issues, with the first issue',\n",
       "    'timestamp': '2019-08-28T21:43:13Z'},\n",
       "   {'ns': 0,\n",
       "    'title': 'AMA Fight Club',\n",
       "    'pageid': 30016520,\n",
       "    'size': 9740,\n",
       "    'wordcount': 808,\n",
       "    'snippet': 'AMA <span class=\"searchmatch\">Fight</span> <span class=\"searchmatch\">Club</span> (American Martial Arts) is a mixed martial arts training facility located in Whippany, New Jersey &amp; Pompton Lakes, New Jersey, specialized',\n",
       "    'timestamp': '2019-10-01T15:37:37Z'},\n",
       "   {'ns': 0,\n",
       "    'title': 'Fight Club – Members Only',\n",
       "    'pageid': 9114950,\n",
       "    'size': 9743,\n",
       "    'wordcount': 981,\n",
       "    'snippet': '<span class=\"searchmatch\">Fight</span> <span class=\"searchmatch\">Club</span>: Members Only is a 2006 Indian action film directed by Vikram Chopra and produced by Ravi Walia and Sohail Khan. The film stars Zayed Khan,',\n",
       "    'timestamp': '2020-01-04T20:16:31Z'},\n",
       "   {'ns': 0,\n",
       "    'title': 'Fight Club (disambiguation)',\n",
       "    'pageid': 2313757,\n",
       "    'size': 987,\n",
       "    'wordcount': 125,\n",
       "    'snippet': '<span class=\"searchmatch\">Fight</span> <span class=\"searchmatch\">Club</span> is a 1999 film directed by David Fincher. <span class=\"searchmatch\">Fight</span> <span class=\"searchmatch\">Club</span> may also refer to: <span class=\"searchmatch\">Fight</span> <span class=\"searchmatch\">Club</span> (novel), a 1996 novel by Chuck Palahniuk on which Fincher\\'s',\n",
       "    'timestamp': '2020-01-13T07:29:37Z'},\n",
       "   {'ns': 0,\n",
       "    'title': 'Fight Club (video game)',\n",
       "    'pageid': 1723091,\n",
       "    'size': 12209,\n",
       "    'wordcount': 1030,\n",
       "    'snippet': '<span class=\"searchmatch\">Fight</span> <span class=\"searchmatch\">Club</span> is a <span class=\"searchmatch\">fighting</span> video game based on the 1999 film of the same name, which was based on the novel of the same name by Chuck Palahniuk. It was released',\n",
       "    'timestamp': '2020-03-03T11:11:07Z'},\n",
       "   {'ns': 0,\n",
       "    'title': 'Interpretations of Fight Club',\n",
       "    'pageid': 22827640,\n",
       "    'size': 19355,\n",
       "    'wordcount': 2523,\n",
       "    'snippet': 'The 1999 American film <span class=\"searchmatch\">Fight</span> <span class=\"searchmatch\">Club</span>, directed by David Fincher, presents social commentary about consumerist culture, especially the feminization of American',\n",
       "    'timestamp': '2020-03-04T04:32:51Z'}]}}"
      ]
     },
     "execution_count": 80,
     "metadata": {},
     "output_type": "execute_result"
    }
   ],
   "source": [
    "DATA"
   ]
  },
  {
   "cell_type": "code",
   "execution_count": null,
   "metadata": {},
   "outputs": [],
   "source": []
  }
 ],
 "metadata": {
  "kernelspec": {
   "display_name": "Python [conda env:learn-env] *",
   "language": "python",
   "name": "conda-env-learn-env-py"
  },
  "language_info": {
   "codemirror_mode": {
    "name": "ipython",
    "version": 3
   },
   "file_extension": ".py",
   "mimetype": "text/x-python",
   "name": "python",
   "nbconvert_exporter": "python",
   "pygments_lexer": "ipython3",
   "version": "3.6.9"
  }
 },
 "nbformat": 4,
 "nbformat_minor": 2
}
