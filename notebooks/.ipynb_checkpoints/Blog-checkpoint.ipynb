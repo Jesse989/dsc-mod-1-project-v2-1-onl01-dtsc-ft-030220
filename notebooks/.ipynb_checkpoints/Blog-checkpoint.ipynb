{
 "cells": [
  {
   "cell_type": "markdown",
   "metadata": {},
   "source": [
    "# Using the ROSEMED acronym part 1:"
   ]
  },
  {
   "cell_type": "markdown",
   "metadata": {},
   "source": [
    "## 'R'esearch the Problem"
   ]
  },
  {
   "cell_type": "markdown",
   "metadata": {},
   "source": [
    "### Problem: \n",
    "\n",
    "Microsoft sees all the big companies creating original video content, and they want to get in on the fun. They have decided to create a new movie studio, but the problem is they don’t know anything about creating movies. They have hired you to help them better understand the movie industry. Your team is charged with doing data analysis and creating a presentation that explores what type of films are currently doing the best at the box office. You must then translate those findings into actionable insights that the CEO can use when deciding what type of films they should be creating."
   ]
  },
  {
   "cell_type": "markdown",
   "metadata": {},
   "source": [
    "- What makes a valuable movie?\n",
    "- What are all of the variables we should take into account?\n",
    "- How do we rank ourselves in relation to other movie producers?"
   ]
  },
  {
   "cell_type": "markdown",
   "metadata": {},
   "source": [
    "To find out what makes a valuable movie we can turn to the internet and see if there are any predetermined ideas."
   ]
  },
  {
   "cell_type": "markdown",
   "metadata": {},
   "source": [
    "David Mullich, a movie reviewer with over 2500 reviews on IMDB.com, is the person with the number one response on Quora.com: \n",
    "\n",
    "https://www.quora.com/Movies-What-determines-the-success-of-a-movie-by-box-office-revenue\n",
    "\n",
    "He lists all of the factors contributing to a succesful movie:\n",
    "1. The popularity of the film's content\n",
    "2. The current popularity of the film's genre\n",
    "3. The current popularity of the film's stars\n",
    "4. The strength of the film's marketing campaign\n",
    "5. The strength of the film's distribution as well as its release schedule\n",
    "6. The competition during the film's release period\n",
    "7. Factors such as weather, holidays, distracting news events that can limit the film's audience during the critical opening weekend\n",
    "8. Critical reviews, especially if critics are actively pushing a movie that would otherwise get little attention\n",
    "9. Awareness of the film based upon it being adapted from a popular book or news story"
   ]
  },
  {
   "cell_type": "markdown",
   "metadata": {},
   "source": [
    "Based on some of these criteria, we can come up with a dataset that supplies a variable for each point.\n",
    "\n",
    "Some of the factors he mentions are difficult to determine. For example the weather during the opening weekend."
   ]
  },
  {
   "cell_type": "markdown",
   "metadata": {},
   "source": [
    "## 'O'btain the Data"
   ]
  },
  {
   "cell_type": "markdown",
   "metadata": {},
   "source": [
    "We are going to base our dataset on many of the above criteria:\n",
    "1. title\n",
    "2. content_popularity\n",
    "3. genre_popularity\n",
    "4. actor_popularity\n",
    "5. director_popularity\n",
    "6. campaign_strength\n",
    "7. release_competition\n",
    "8. critical_review_amount\n",
    "9. adapted_from_book"
   ]
  },
  {
   "cell_type": "markdown",
   "metadata": {},
   "source": [
    "Let's go through each point and find a source for the data."
   ]
  },
  {
   "cell_type": "markdown",
   "metadata": {},
   "source": [
    "### Title (title):"
   ]
  },
  {
   "cell_type": "markdown",
   "metadata": {},
   "source": [
    "This one is self-explanatory. We will use the IMDB title dataset, stripped of TV shows.\n"
   ]
  },
  {
   "cell_type": "markdown",
   "metadata": {},
   "source": [
    "### Content Popularity (content_popularity):"
   ]
  },
  {
   "cell_type": "markdown",
   "metadata": {},
   "source": [
    "First, to find a content variable, then we can worry about finding out how to check it's popularity.\n",
    "\n",
    "Step one, check wikipedia. Although very extensive in information, such as stars, distribution company, production company, it doesn't have a stand alone content variable. \n",
    "\n",
    "TheMovieDatabase has a tagline field, though that doesn't seem like a good enough relationship for measuring content.\n",
    "\n",
    "Wait, while exploring the TMDB.com API I came across a keyword field. Maybe that would be something we can use!\n",
    "\n",
    "The API has a list of keywords that have been added to the movie. It also has downloads for the movies and keyword collections. We will have to figure out which method will be better for our situation.\n",
    "\n",
    "Ok, the more I look at the keywords, the more I think they will work for this. This is what the response looks like:\n",
    "    "
   ]
  },
  {
   "cell_type": "code",
   "execution_count": null,
   "metadata": {},
   "outputs": [],
   "source": [
    "# Response for movie id 550 (fight club):\n",
    "{'id': 550,\n",
    " 'keywords': [{'id': 818, 'name': 'based on novel or book'},\n",
    "  {'id': 825, 'name': 'support group'},\n",
    "  {'id': 851, 'name': 'dual identity'},\n",
    "  {'id': 1541, 'name': 'nihilism'},\n",
    "  {'id': 1721, 'name': 'fight'},\n",
    "  {'id': 3927, 'name': 'rage and hate'},\n",
    "  {'id': 4142, 'name': 'insomnia'},\n",
    "  {'id': 4565, 'name': 'dystopia'},\n",
    "  {'id': 9181, 'name': 'alter ego'},\n",
    "  {'id': 34117, 'name': 'cult film'},\n",
    "  {'id': 156761, 'name': 'split personality'},\n",
    "  {'id': 179173, 'name': 'quitting a job'},\n",
    "  {'id': 212803, 'name': 'dissociative identity disorder'},\n",
    "  {'id': 249899, 'name': 'graphic violence'},\n",
    "  {'id': 260426, 'name': 'self destructiveness'}]}"
   ]
  },
  {
   "cell_type": "markdown",
   "metadata": {},
   "source": [
    "Not only are there predefined categories, but there are also corresponding id's. This gives us an easy way to group and aggregate the data to find popularity ratings!"
   ]
  },
  {
   "cell_type": "markdown",
   "metadata": {},
   "source": [
    "We will settle on using keywords and their associated popularity in order to measure the movies 'content_popularity'."
   ]
  },
  {
   "cell_type": "markdown",
   "metadata": {},
   "source": [
    "### Genre popularity (genre_popularity):"
   ]
  },
  {
   "cell_type": "markdown",
   "metadata": {},
   "source": [
    "This variable will be easy in comparison. Almost every data source we have easy access to will have a genre field.\n",
    "\n",
    "First thing I do is check out my data sources to find which has the most title and genre info. IMDB's movie title dataset does indeed have a 'genres' column, and it so happens to have the most rows as well. Let's check for missing data and make sure it is still our best source."
   ]
  },
  {
   "cell_type": "markdown",
   "metadata": {},
   "source": [
    "Once we have a genre we can find its popularity by lumping all the popular movies together and seeing which genre has the most high quality titles."
   ]
  },
  {
   "cell_type": "markdown",
   "metadata": {},
   "source": [
    "### Actor popularity (actor_popularity):"
   ]
  },
  {
   "cell_type": "markdown",
   "metadata": {},
   "source": [
    "This one will be interesting, because to assign a single actor_popularity variable, we will have to use some sort of aggregation function on the list of stars present in the title.\n",
    "\n",
    "We will have to look at the distribution and determine the best function to use. \n",
    "\n",
    "Things to consider are: when one actor is VERY popular, it is often enough and the co-stars rating matters very little, in this instance max would work well. \n",
    "\n",
    "If it is a star-studded cast (90% of cast are very popular) mean would work very well.\n",
    "\n",
    "We will get back to this once we start looking at the data."
   ]
  },
  {
   "cell_type": "markdown",
   "metadata": {},
   "source": [
    "### Director popularity (director_popularity):"
   ]
  },
  {
   "cell_type": "markdown",
   "metadata": {},
   "source": [
    "This will be done in a similiar way to the actor popularity. We will rate the director by how succesful their previous movies have been. The director popularity for a given title will be the mean of the director(s) rating."
   ]
  },
  {
   "cell_type": "markdown",
   "metadata": {},
   "source": [
    "### Campaign strength (campaign_strength):"
   ]
  },
  {
   "cell_type": "markdown",
   "metadata": {},
   "source": [
    "This is another difficult variable. How are we supposed to measure the campaign strength for films?\n",
    "Let's do some searching and see what others have come up with.\n",
    "\n",
    "One piece of good information popped up, and that is that marketing and advertising are not included in a films budget. That means the financial information we have right now are independent from what we are looking for. The article states that marketing and advertising are the responsibility of the distributor.\n",
    "\n",
    "According to an article I found, the actual cost of marketing is not disclosed to the public. There is a formula for estimating it, which is to take half the production budget. For example if a title has 100k dollars budgeted for production, they will need an additional 50k for marketing.\n",
    "\n",
    "edit: just found this other formula, however the author explicitly states that there is not one formula and it is impossible to predict that actual marketing budget.\n",
    "\n",
    "<blockquote> There cannot be a boilerplate  approach, therefore, without more information the best guess is\n",
    "\n",
    "- 150% of Production Cost if the film is $1-$ 5 million Project,\n",
    "\n",
    "- 100% of Production Budget for $10- $40 Million project\n",
    "\n",
    "- 50% + for anything over $40 million Production Budget\n",
    "</blockquote>\n",
    "\n",
    "Using this we can estimate the marketing as half of the production cost, which would be the same as saying the campaign strenght has a direct correlation to the films budget.\n",
    "\n",
    "In that case, we need to find a source for movie budgets.\n",
    "\n",
    "It looks like TMDB API lists the budget and the revenue."
   ]
  },
  {
   "cell_type": "markdown",
   "metadata": {},
   "source": [
    "### Release competition (release_competition):"
   ]
  },
  {
   "cell_type": "markdown",
   "metadata": {},
   "source": [
    "Here we can group titles together by release date to assign a variable representing the level of competition.\n",
    "\n",
    "For instance, if we take all the titles released in the month of January 1990, and count the movies that have the same or greater budget, that will give us an idea of the competition. The higher the budget, the larger a value we can assign the competing title, and take the average.\n",
    "\n",
    "The release date is a very available variable, we should have no trouble finding it.\n",
    "\n",
    "We do have access to a release date from the TMDB API. More and more it is looking like the data will start in the IMDB dataset, which we will use as a dictionary for calling the TMDB API. As we are putting the movie into our own db, we can filter out the results that are missing any fields we are looking for."
   ]
  },
  {
   "cell_type": "markdown",
   "metadata": {},
   "source": [
    "### Critical review volume (critical_review_amount):"
   ]
  },
  {
   "cell_type": "markdown",
   "metadata": {},
   "source": [
    "How do we determine the amount of critical reviews which were produced for each film.\n",
    "\n",
    "The rotten tomatoes website seems like a good place to check, since reviews are their main job.\n",
    "\n",
    "Straight from the <a href='https://www.rottentomatoes.com/about#whatisthetomatometer'>Rotten Tomatoes</a> website:\n",
    "\n",
    "<blockquote>\n",
    "    The Tomatometer score – based on the opinions of hundreds of film and television critics – is a trusted measurement of critical recommendation for millions of fans.\n",
    "</blockquote>\n",
    "\n",
    "We can safely assume that the titles with the highest volume of reviews will satisfy this requirement.\n",
    "\n",
    "In order to get access to the Tomatometer we will have to either use the API (which looks like has a strict key issuance policy) or we will have to scrape.\n",
    "\n",
    "I applied for a key and we will see what happens. If no key, then we will explore other paths."
   ]
  },
  {
   "cell_type": "markdown",
   "metadata": {},
   "source": [
    "### Adapted from a Book or Story (adapted_from_book):"
   ]
  },
  {
   "cell_type": "markdown",
   "metadata": {},
   "source": [
    "Apparently movies that are based on books have an easier time being succesful. Consider examples and immediately several examples pop into mind (we will lump in comic books and any other written sources): \n",
    "- The Avengers (not going to list all superhero movies because there are so many)\n",
    "- Harry Potter\n",
    "- The Lord of the Rings\n",
    "- Hunger Games\n",
    "- Twilight\n",
    "\n",
    "So we get the idea.\n",
    "\n",
    "Let's discover a way to access this information for each movie in the IMDB movie title set.\n",
    "\n",
    "So in searching I discovered that movies are tagged as 'based on novel or book' if they are based on a book. What about comic books you ask?\n",
    "\n",
    "Comic books are tagged as 'based on comic'. Ok. That covers the items in our list above. "
   ]
  },
  {
   "cell_type": "markdown",
   "metadata": {},
   "source": [
    "## 'S'crub the Data"
   ]
  },
  {
   "cell_type": "code",
   "execution_count": null,
   "metadata": {},
   "outputs": [],
   "source": []
  }
 ],
 "metadata": {
  "kernelspec": {
   "display_name": "Python [conda env:learn-env] *",
   "language": "python",
   "name": "conda-env-learn-env-py"
  },
  "language_info": {
   "codemirror_mode": {
    "name": "ipython",
    "version": 3
   },
   "file_extension": ".py",
   "mimetype": "text/x-python",
   "name": "python",
   "nbconvert_exporter": "python",
   "pygments_lexer": "ipython3",
   "version": "3.6.9"
  }
 },
 "nbformat": 4,
 "nbformat_minor": 2
}
