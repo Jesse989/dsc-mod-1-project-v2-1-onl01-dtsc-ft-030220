{
 "cells": [
  {
   "cell_type": "markdown",
   "metadata": {},
   "source": [
    "# Raw data analysis"
   ]
  },
  {
   "cell_type": "markdown",
   "metadata": {},
   "source": [
    "## Getting Data for Frames"
   ]
  },
  {
   "cell_type": "markdown",
   "metadata": {},
   "source": [
    "Importing required libraries"
   ]
  },
  {
   "cell_type": "code",
   "execution_count": 1,
   "metadata": {},
   "outputs": [],
   "source": [
    "import numpy as np\n",
    "import pandas as pd\n",
    "import matplotlib.pyplot as plt\n",
    "%matplotlib inline\n"
   ]
  },
  {
   "cell_type": "markdown",
   "metadata": {},
   "source": [
    "Using a helper function to pull in all the DataFrames together"
   ]
  },
  {
   "cell_type": "code",
   "execution_count": 2,
   "metadata": {},
   "outputs": [],
   "source": [
    "from os.path import isfile, join\n",
    "\n",
    "def df_from_zipped(path, fn):\n",
    "    '''\n",
    "    Takes filepath and name and returns a DataFrame\n",
    "    '''\n",
    "    # check formatting\n",
    "    tsv = 'tsv'in fn\n",
    "    if tsv:\n",
    "        delimiter = '\\t'\n",
    "    else:\n",
    "        delimiter = None\n",
    "        \n",
    "    joined_path = join(zipped_path + fn)\n",
    "    \n",
    "    print('Building df out of {} using delimiter {}'.format(fn, delimiter))\n",
    "    \n",
    "    try:\n",
    "        return pd.read_csv(joined_path, delimiter=delimiter)\n",
    "    except UnicodeDecodeError as e:\n",
    "        return pd.read_csv(joined_path, delimiter=delimiter, encoding='unicode_escape')        \n"
   ]
  },
  {
   "cell_type": "markdown",
   "metadata": {},
   "source": [
    "Pull in all the files from zippedData and put them all together into a dictionary"
   ]
  },
  {
   "cell_type": "code",
   "execution_count": 3,
   "metadata": {},
   "outputs": [
    {
     "name": "stdout",
     "output_type": "stream",
     "text": [
      "Building df out of title.principals.tsv.gz using delimiter \t\n",
      "Building df out of title.akas.tsv.gz using delimiter \t\n"
     ]
    },
    {
     "name": "stderr",
     "output_type": "stream",
     "text": [
      "/Users/yrgg/opt/anaconda3/envs/learn-env/lib/python3.6/site-packages/IPython/core/interactiveshell.py:3249: DtypeWarning: Columns (7) have mixed types. Specify dtype option on import or set low_memory=False.\n",
      "  if (await self.run_code(code, result,  async_=asy)):\n"
     ]
    },
    {
     "name": "stdout",
     "output_type": "stream",
     "text": [
      "Building df out of tmdb.movies.csv.gz using delimiter None\n",
      "Building df out of title.basics.tsv.gz using delimiter \t\n"
     ]
    },
    {
     "name": "stderr",
     "output_type": "stream",
     "text": [
      "/Users/yrgg/opt/anaconda3/envs/learn-env/lib/python3.6/site-packages/IPython/core/interactiveshell.py:3249: DtypeWarning: Columns (5) have mixed types. Specify dtype option on import or set low_memory=False.\n",
      "  if (await self.run_code(code, result,  async_=asy)):\n"
     ]
    },
    {
     "name": "stdout",
     "output_type": "stream",
     "text": [
      "Building df out of title.crew.tsv.gz using delimiter \t\n",
      "Building df out of title.ratings.tsv.gz using delimiter \t\n",
      "Building df out of rt.reviews.tsv.gz using delimiter \t\n",
      "Building df out of name.basics.tsv.gz using delimiter \t\n",
      "Building df out of rt.movie_info.tsv.gz using delimiter \t\n",
      "Building df out of title.episode.tsv.gz using delimiter \t\n",
      "Building df out of tn.movie_budgets.csv.gz using delimiter None\n",
      "Building df out of bom.movie_gross.csv.gz using delimiter None\n"
     ]
    }
   ],
   "source": [
    "from os import listdir\n",
    "\n",
    "zipped_path = '../data/raw/'\n",
    "dfs = {}\n",
    "\n",
    "#for all in zippedData:\n",
    "for fn in listdir(zipped_path):\n",
    "    dfs[fn[:-7]] = df_from_zipped(zipped_path, fn)"
   ]
  },
  {
   "cell_type": "markdown",
   "metadata": {},
   "source": [
    "Now we have a dictionary filled with DataFrame objects"
   ]
  },
  {
   "cell_type": "code",
   "execution_count": 5,
   "metadata": {},
   "outputs": [
    {
     "data": {
      "text/plain": [
       "['title.principals',\n",
       " 'title.akas',\n",
       " 'tmdb.movies',\n",
       " 'title.basics',\n",
       " 'title.crew',\n",
       " 'title.ratings',\n",
       " 'rt.reviews',\n",
       " 'name.basics',\n",
       " 'rt.movie_info',\n",
       " 'title.episode',\n",
       " 'tn.movie_budgets',\n",
       " 'bom.movie_gross']"
      ]
     },
     "execution_count": 5,
     "metadata": {},
     "output_type": "execute_result"
    }
   ],
   "source": [
    "df_names = list(dfs.keys())\n",
    "df_names"
   ]
  },
  {
   "cell_type": "markdown",
   "metadata": {},
   "source": [
    "## Exploring Each DataFrame"
   ]
  },
  {
   "cell_type": "markdown",
   "metadata": {},
   "source": [
    "### DataFrame 1: "
   ]
  },
  {
   "cell_type": "markdown",
   "metadata": {},
   "source": [
    "Let's start looking at each DF and finding out what each one contains"
   ]
  },
  {
   "cell_type": "code",
   "execution_count": 111,
   "metadata": {},
   "outputs": [
    {
     "data": {
      "text/plain": [
       "'title.principals'"
      ]
     },
     "execution_count": 111,
     "metadata": {},
     "output_type": "execute_result"
    }
   ],
   "source": [
    "df = dfs[df_names[0]]\n",
    "df_names[0]"
   ]
  },
  {
   "cell_type": "code",
   "execution_count": 112,
   "metadata": {},
   "outputs": [
    {
     "data": {
      "text/html": [
       "<div>\n",
       "<style scoped>\n",
       "    .dataframe tbody tr th:only-of-type {\n",
       "        vertical-align: middle;\n",
       "    }\n",
       "\n",
       "    .dataframe tbody tr th {\n",
       "        vertical-align: top;\n",
       "    }\n",
       "\n",
       "    .dataframe thead th {\n",
       "        text-align: right;\n",
       "    }\n",
       "</style>\n",
       "<table border=\"1\" class=\"dataframe\">\n",
       "  <thead>\n",
       "    <tr style=\"text-align: right;\">\n",
       "      <th></th>\n",
       "      <th>tconst</th>\n",
       "      <th>ordering</th>\n",
       "      <th>nconst</th>\n",
       "      <th>category</th>\n",
       "      <th>job</th>\n",
       "      <th>characters</th>\n",
       "    </tr>\n",
       "  </thead>\n",
       "  <tbody>\n",
       "    <tr>\n",
       "      <td>12531520</td>\n",
       "      <td>tt1161819</td>\n",
       "      <td>10</td>\n",
       "      <td>nm0621023</td>\n",
       "      <td>actor</td>\n",
       "      <td>\\N</td>\n",
       "      <td>\\N</td>\n",
       "    </tr>\n",
       "    <tr>\n",
       "      <td>27476318</td>\n",
       "      <td>tt5679874</td>\n",
       "      <td>4</td>\n",
       "      <td>nm9472534</td>\n",
       "      <td>self</td>\n",
       "      <td>\\N</td>\n",
       "      <td>[\"Herself - Panelist\"]</td>\n",
       "    </tr>\n",
       "    <tr>\n",
       "      <td>9954016</td>\n",
       "      <td>tt10804932</td>\n",
       "      <td>1</td>\n",
       "      <td>nm8930145</td>\n",
       "      <td>actor</td>\n",
       "      <td>\\N</td>\n",
       "      <td>[\"Miguel Soledad\"]</td>\n",
       "    </tr>\n",
       "    <tr>\n",
       "      <td>30542427</td>\n",
       "      <td>tt7018522</td>\n",
       "      <td>9</td>\n",
       "      <td>nm0730075</td>\n",
       "      <td>actor</td>\n",
       "      <td>\\N</td>\n",
       "      <td>[\"Ken Barlow\"]</td>\n",
       "    </tr>\n",
       "    <tr>\n",
       "      <td>27604224</td>\n",
       "      <td>tt5733588</td>\n",
       "      <td>1</td>\n",
       "      <td>nm0000155</td>\n",
       "      <td>self</td>\n",
       "      <td>\\N</td>\n",
       "      <td>[\"Herself - Co-Hostess\"]</td>\n",
       "    </tr>\n",
       "  </tbody>\n",
       "</table>\n",
       "</div>"
      ],
      "text/plain": [
       "              tconst  ordering     nconst category job  \\\n",
       "12531520   tt1161819        10  nm0621023    actor  \\N   \n",
       "27476318   tt5679874         4  nm9472534     self  \\N   \n",
       "9954016   tt10804932         1  nm8930145    actor  \\N   \n",
       "30542427   tt7018522         9  nm0730075    actor  \\N   \n",
       "27604224   tt5733588         1  nm0000155     self  \\N   \n",
       "\n",
       "                        characters  \n",
       "12531520                        \\N  \n",
       "27476318    [\"Herself - Panelist\"]  \n",
       "9954016         [\"Miguel Soledad\"]  \n",
       "30542427            [\"Ken Barlow\"]  \n",
       "27604224  [\"Herself - Co-Hostess\"]  "
      ]
     },
     "execution_count": 112,
     "metadata": {},
     "output_type": "execute_result"
    }
   ],
   "source": [
    "df.sample(5)"
   ]
  },
  {
   "cell_type": "code",
   "execution_count": 113,
   "metadata": {},
   "outputs": [
    {
     "name": "stdout",
     "output_type": "stream",
     "text": [
      "<class 'pandas.core.frame.DataFrame'>\n",
      "RangeIndex: 38312645 entries, 0 to 38312644\n",
      "Data columns (total 6 columns):\n",
      "tconst        object\n",
      "ordering      int64\n",
      "nconst        object\n",
      "category      object\n",
      "job           object\n",
      "characters    object\n",
      "dtypes: int64(1), object(5)\n",
      "memory usage: 1.7+ GB\n"
     ]
    }
   ],
   "source": [
    "df.info()"
   ]
  },
  {
   "cell_type": "markdown",
   "metadata": {},
   "source": [
    "What are these values? Maybe IDs for another DataFrame"
   ]
  },
  {
   "cell_type": "markdown",
   "metadata": {},
   "source": [
    "### DataFrame 2:"
   ]
  },
  {
   "cell_type": "code",
   "execution_count": 114,
   "metadata": {},
   "outputs": [
    {
     "data": {
      "text/plain": [
       "'title.akas'"
      ]
     },
     "execution_count": 114,
     "metadata": {},
     "output_type": "execute_result"
    }
   ],
   "source": [
    "df = dfs[df_names[1]]\n",
    "df_names[1]"
   ]
  },
  {
   "cell_type": "code",
   "execution_count": 115,
   "metadata": {},
   "outputs": [
    {
     "data": {
      "text/html": [
       "<div>\n",
       "<style scoped>\n",
       "    .dataframe tbody tr th:only-of-type {\n",
       "        vertical-align: middle;\n",
       "    }\n",
       "\n",
       "    .dataframe tbody tr th {\n",
       "        vertical-align: top;\n",
       "    }\n",
       "\n",
       "    .dataframe thead th {\n",
       "        text-align: right;\n",
       "    }\n",
       "</style>\n",
       "<table border=\"1\" class=\"dataframe\">\n",
       "  <thead>\n",
       "    <tr style=\"text-align: right;\">\n",
       "      <th></th>\n",
       "      <th>titleId</th>\n",
       "      <th>ordering</th>\n",
       "      <th>title</th>\n",
       "      <th>region</th>\n",
       "      <th>language</th>\n",
       "      <th>types</th>\n",
       "      <th>attributes</th>\n",
       "      <th>isOriginalTitle</th>\n",
       "    </tr>\n",
       "  </thead>\n",
       "  <tbody>\n",
       "    <tr>\n",
       "      <td>9971238</td>\n",
       "      <td>tt2278321</td>\n",
       "      <td>7</td>\n",
       "      <td>Episodio #4.21</td>\n",
       "      <td>IT</td>\n",
       "      <td>it</td>\n",
       "      <td>\\N</td>\n",
       "      <td>\\N</td>\n",
       "      <td>0</td>\n",
       "    </tr>\n",
       "    <tr>\n",
       "      <td>3226297</td>\n",
       "      <td>tt10283638</td>\n",
       "      <td>2</td>\n",
       "      <td>Episódio datado de 2 Novembro de 2018</td>\n",
       "      <td>PT</td>\n",
       "      <td>pt</td>\n",
       "      <td>\\N</td>\n",
       "      <td>\\N</td>\n",
       "      <td>0</td>\n",
       "    </tr>\n",
       "    <tr>\n",
       "      <td>10468881</td>\n",
       "      <td>tt2647388</td>\n",
       "      <td>2</td>\n",
       "      <td>Episodio datato 15 maggio 1984</td>\n",
       "      <td>IT</td>\n",
       "      <td>it</td>\n",
       "      <td>\\N</td>\n",
       "      <td>\\N</td>\n",
       "      <td>0</td>\n",
       "    </tr>\n",
       "    <tr>\n",
       "      <td>7881139</td>\n",
       "      <td>tt1569610</td>\n",
       "      <td>7</td>\n",
       "      <td>Episodio #1.65</td>\n",
       "      <td>ES</td>\n",
       "      <td>es</td>\n",
       "      <td>\\N</td>\n",
       "      <td>\\N</td>\n",
       "      <td>0</td>\n",
       "    </tr>\n",
       "    <tr>\n",
       "      <td>1814243</td>\n",
       "      <td>tt0665613</td>\n",
       "      <td>7</td>\n",
       "      <td>2004年4月29日 のエピソード</td>\n",
       "      <td>JP</td>\n",
       "      <td>ja</td>\n",
       "      <td>\\N</td>\n",
       "      <td>\\N</td>\n",
       "      <td>0</td>\n",
       "    </tr>\n",
       "  </tbody>\n",
       "</table>\n",
       "</div>"
      ],
      "text/plain": [
       "             titleId  ordering                                  title region  \\\n",
       "9971238    tt2278321         7                         Episodio #4.21     IT   \n",
       "3226297   tt10283638         2  Episódio datado de 2 Novembro de 2018     PT   \n",
       "10468881   tt2647388         2         Episodio datato 15 maggio 1984     IT   \n",
       "7881139    tt1569610         7                         Episodio #1.65     ES   \n",
       "1814243    tt0665613         7                      2004年4月29日 のエピソード     JP   \n",
       "\n",
       "         language types attributes isOriginalTitle  \n",
       "9971238        it    \\N         \\N               0  \n",
       "3226297        pt    \\N         \\N               0  \n",
       "10468881       it    \\N         \\N               0  \n",
       "7881139        es    \\N         \\N               0  \n",
       "1814243        ja    \\N         \\N               0  "
      ]
     },
     "execution_count": 115,
     "metadata": {},
     "output_type": "execute_result"
    }
   ],
   "source": [
    "df.sample(5)"
   ]
  },
  {
   "cell_type": "markdown",
   "metadata": {},
   "source": [
    "Wow there are a lot of foreign movies. Should I drop them, or could I use them to predict if Microsoft should focus on other languages as well. Lets try and find out if they have their own statistics. I doubt it, since their titleId all links to the same it."
   ]
  },
  {
   "cell_type": "code",
   "execution_count": 116,
   "metadata": {},
   "outputs": [
    {
     "name": "stdout",
     "output_type": "stream",
     "text": [
      "<class 'pandas.core.frame.DataFrame'>\n",
      "RangeIndex: 20666593 entries, 0 to 20666592\n",
      "Data columns (total 8 columns):\n",
      "titleId            object\n",
      "ordering           int64\n",
      "title              object\n",
      "region             object\n",
      "language           object\n",
      "types              object\n",
      "attributes         object\n",
      "isOriginalTitle    object\n",
      "dtypes: int64(1), object(7)\n",
      "memory usage: 1.2+ GB\n"
     ]
    }
   ],
   "source": [
    "df.info()"
   ]
  },
  {
   "cell_type": "markdown",
   "metadata": {},
   "source": [
    "### DataFrame 3: "
   ]
  },
  {
   "cell_type": "code",
   "execution_count": 23,
   "metadata": {},
   "outputs": [
    {
     "data": {
      "text/plain": [
       "'tmdb.movies'"
      ]
     },
     "execution_count": 23,
     "metadata": {},
     "output_type": "execute_result"
    }
   ],
   "source": [
    "df = dfs[df_names[2]]\n",
    "df_names[2]"
   ]
  },
  {
   "cell_type": "code",
   "execution_count": 24,
   "metadata": {},
   "outputs": [
    {
     "data": {
      "text/html": [
       "<div>\n",
       "<style scoped>\n",
       "    .dataframe tbody tr th:only-of-type {\n",
       "        vertical-align: middle;\n",
       "    }\n",
       "\n",
       "    .dataframe tbody tr th {\n",
       "        vertical-align: top;\n",
       "    }\n",
       "\n",
       "    .dataframe thead th {\n",
       "        text-align: right;\n",
       "    }\n",
       "</style>\n",
       "<table border=\"1\" class=\"dataframe\">\n",
       "  <thead>\n",
       "    <tr style=\"text-align: right;\">\n",
       "      <th></th>\n",
       "      <th>Unnamed: 0</th>\n",
       "      <th>genre_ids</th>\n",
       "      <th>id</th>\n",
       "      <th>original_language</th>\n",
       "      <th>original_title</th>\n",
       "      <th>popularity</th>\n",
       "      <th>release_date</th>\n",
       "      <th>title</th>\n",
       "      <th>vote_average</th>\n",
       "      <th>vote_count</th>\n",
       "    </tr>\n",
       "  </thead>\n",
       "  <tbody>\n",
       "    <tr>\n",
       "      <td>3180</td>\n",
       "      <td>3180</td>\n",
       "      <td>[27]</td>\n",
       "      <td>149148</td>\n",
       "      <td>en</td>\n",
       "      <td>Dead Inside</td>\n",
       "      <td>3.085</td>\n",
       "      <td>2011-11-10</td>\n",
       "      <td>Dead Inside</td>\n",
       "      <td>3.8</td>\n",
       "      <td>8</td>\n",
       "    </tr>\n",
       "    <tr>\n",
       "      <td>24817</td>\n",
       "      <td>24817</td>\n",
       "      <td>[53, 9648, 27]</td>\n",
       "      <td>517764</td>\n",
       "      <td>en</td>\n",
       "      <td>The Farm</td>\n",
       "      <td>4.482</td>\n",
       "      <td>2018-04-20</td>\n",
       "      <td>The Farm</td>\n",
       "      <td>4.0</td>\n",
       "      <td>18</td>\n",
       "    </tr>\n",
       "    <tr>\n",
       "      <td>4417</td>\n",
       "      <td>4417</td>\n",
       "      <td>[99]</td>\n",
       "      <td>317875</td>\n",
       "      <td>en</td>\n",
       "      <td>Athene's Theory of Everything</td>\n",
       "      <td>0.624</td>\n",
       "      <td>2011-01-23</td>\n",
       "      <td>Athene's Theory of Everything</td>\n",
       "      <td>4.5</td>\n",
       "      <td>1</td>\n",
       "    </tr>\n",
       "    <tr>\n",
       "      <td>675</td>\n",
       "      <td>675</td>\n",
       "      <td>[18]</td>\n",
       "      <td>57489</td>\n",
       "      <td>es</td>\n",
       "      <td>El último verano de La Boyita</td>\n",
       "      <td>2.675</td>\n",
       "      <td>2010-06-21</td>\n",
       "      <td>The Last Summer of La Boyita</td>\n",
       "      <td>7.0</td>\n",
       "      <td>11</td>\n",
       "    </tr>\n",
       "    <tr>\n",
       "      <td>20346</td>\n",
       "      <td>20346</td>\n",
       "      <td>[10749, 35, 18, 10751]</td>\n",
       "      <td>391196</td>\n",
       "      <td>en</td>\n",
       "      <td>Dating Daisy</td>\n",
       "      <td>0.600</td>\n",
       "      <td>2016-04-09</td>\n",
       "      <td>Dating Daisy</td>\n",
       "      <td>5.7</td>\n",
       "      <td>3</td>\n",
       "    </tr>\n",
       "  </tbody>\n",
       "</table>\n",
       "</div>"
      ],
      "text/plain": [
       "       Unnamed: 0               genre_ids      id original_language  \\\n",
       "3180         3180                    [27]  149148                en   \n",
       "24817       24817          [53, 9648, 27]  517764                en   \n",
       "4417         4417                    [99]  317875                en   \n",
       "675           675                    [18]   57489                es   \n",
       "20346       20346  [10749, 35, 18, 10751]  391196                en   \n",
       "\n",
       "                      original_title  popularity release_date  \\\n",
       "3180                     Dead Inside       3.085   2011-11-10   \n",
       "24817                       The Farm       4.482   2018-04-20   \n",
       "4417   Athene's Theory of Everything       0.624   2011-01-23   \n",
       "675    El último verano de La Boyita       2.675   2010-06-21   \n",
       "20346                   Dating Daisy       0.600   2016-04-09   \n",
       "\n",
       "                               title  vote_average  vote_count  \n",
       "3180                     Dead Inside           3.8           8  \n",
       "24817                       The Farm           4.0          18  \n",
       "4417   Athene's Theory of Everything           4.5           1  \n",
       "675     The Last Summer of La Boyita           7.0          11  \n",
       "20346                   Dating Daisy           5.7           3  "
      ]
     },
     "execution_count": 24,
     "metadata": {},
     "output_type": "execute_result"
    }
   ],
   "source": [
    "df.sample(5)"
   ]
  },
  {
   "cell_type": "code",
   "execution_count": 117,
   "metadata": {},
   "outputs": [
    {
     "name": "stdout",
     "output_type": "stream",
     "text": [
      "<class 'pandas.core.frame.DataFrame'>\n",
      "RangeIndex: 20666593 entries, 0 to 20666592\n",
      "Data columns (total 8 columns):\n",
      "titleId            object\n",
      "ordering           int64\n",
      "title              object\n",
      "region             object\n",
      "language           object\n",
      "types              object\n",
      "attributes         object\n",
      "isOriginalTitle    object\n",
      "dtypes: int64(1), object(7)\n",
      "memory usage: 1.2+ GB\n"
     ]
    }
   ],
   "source": [
    "df.info()"
   ]
  },
  {
   "cell_type": "markdown",
   "metadata": {},
   "source": [
    "### DataFrame 4: "
   ]
  },
  {
   "cell_type": "code",
   "execution_count": 158,
   "metadata": {},
   "outputs": [
    {
     "data": {
      "text/plain": [
       "'title.basics'"
      ]
     },
     "execution_count": 158,
     "metadata": {},
     "output_type": "execute_result"
    }
   ],
   "source": [
    "df = dfs[df_names[3]]\n",
    "df_names[3]"
   ]
  },
  {
   "cell_type": "code",
   "execution_count": 121,
   "metadata": {},
   "outputs": [
    {
     "data": {
      "text/html": [
       "<div>\n",
       "<style scoped>\n",
       "    .dataframe tbody tr th:only-of-type {\n",
       "        vertical-align: middle;\n",
       "    }\n",
       "\n",
       "    .dataframe tbody tr th {\n",
       "        vertical-align: top;\n",
       "    }\n",
       "\n",
       "    .dataframe thead th {\n",
       "        text-align: right;\n",
       "    }\n",
       "</style>\n",
       "<table border=\"1\" class=\"dataframe\">\n",
       "  <thead>\n",
       "    <tr style=\"text-align: right;\">\n",
       "      <th></th>\n",
       "      <th>tconst</th>\n",
       "      <th>titleType</th>\n",
       "      <th>primaryTitle</th>\n",
       "      <th>originalTitle</th>\n",
       "      <th>isAdult</th>\n",
       "      <th>startYear</th>\n",
       "      <th>endYear</th>\n",
       "      <th>runtimeMinutes</th>\n",
       "      <th>genres</th>\n",
       "    </tr>\n",
       "  </thead>\n",
       "  <tbody>\n",
       "    <tr>\n",
       "      <td>7253667</td>\n",
       "      <td>tt7961880</td>\n",
       "      <td>tvEpisode</td>\n",
       "      <td>Episode #1.211</td>\n",
       "      <td>Episode #1.211</td>\n",
       "      <td>0</td>\n",
       "      <td>1977</td>\n",
       "      <td>\\N</td>\n",
       "      <td>\\N</td>\n",
       "      <td>Drama</td>\n",
       "    </tr>\n",
       "    <tr>\n",
       "      <td>3666344</td>\n",
       "      <td>tt2032635</td>\n",
       "      <td>tvEpisode</td>\n",
       "      <td>BC Burger Joint</td>\n",
       "      <td>BC Burger Joint</td>\n",
       "      <td>0</td>\n",
       "      <td>2011</td>\n",
       "      <td>\\N</td>\n",
       "      <td>\\N</td>\n",
       "      <td>Documentary,Reality-TV,Short</td>\n",
       "    </tr>\n",
       "    <tr>\n",
       "      <td>4983414</td>\n",
       "      <td>tt4031594</td>\n",
       "      <td>tvEpisode</td>\n",
       "      <td>Episode #1.174</td>\n",
       "      <td>Episode #1.174</td>\n",
       "      <td>0</td>\n",
       "      <td>\\N</td>\n",
       "      <td>\\N</td>\n",
       "      <td>\\N</td>\n",
       "      <td>\\N</td>\n",
       "    </tr>\n",
       "    <tr>\n",
       "      <td>7899231</td>\n",
       "      <td>tt9067952</td>\n",
       "      <td>tvEpisode</td>\n",
       "      <td>Coeur de filet de boeuf provençale aux herbes ...</td>\n",
       "      <td>Coeur de filet de boeuf provençale aux herbes ...</td>\n",
       "      <td>0</td>\n",
       "      <td>1988</td>\n",
       "      <td>\\N</td>\n",
       "      <td>15</td>\n",
       "      <td>Short,Talk-Show</td>\n",
       "    </tr>\n",
       "    <tr>\n",
       "      <td>6103452</td>\n",
       "      <td>tt6003178</td>\n",
       "      <td>tvEpisode</td>\n",
       "      <td>Una sandía saltarina</td>\n",
       "      <td>Una sandía saltarina</td>\n",
       "      <td>0</td>\n",
       "      <td>2014</td>\n",
       "      <td>\\N</td>\n",
       "      <td>\\N</td>\n",
       "      <td>Family</td>\n",
       "    </tr>\n",
       "  </tbody>\n",
       "</table>\n",
       "</div>"
      ],
      "text/plain": [
       "            tconst  titleType  \\\n",
       "7253667  tt7961880  tvEpisode   \n",
       "3666344  tt2032635  tvEpisode   \n",
       "4983414  tt4031594  tvEpisode   \n",
       "7899231  tt9067952  tvEpisode   \n",
       "6103452  tt6003178  tvEpisode   \n",
       "\n",
       "                                              primaryTitle  \\\n",
       "7253667                                     Episode #1.211   \n",
       "3666344                                    BC Burger Joint   \n",
       "4983414                                     Episode #1.174   \n",
       "7899231  Coeur de filet de boeuf provençale aux herbes ...   \n",
       "6103452                               Una sandía saltarina   \n",
       "\n",
       "                                             originalTitle  isAdult startYear  \\\n",
       "7253667                                     Episode #1.211        0      1977   \n",
       "3666344                                    BC Burger Joint        0      2011   \n",
       "4983414                                     Episode #1.174        0        \\N   \n",
       "7899231  Coeur de filet de boeuf provençale aux herbes ...        0      1988   \n",
       "6103452                               Una sandía saltarina        0      2014   \n",
       "\n",
       "        endYear runtimeMinutes                        genres  \n",
       "7253667      \\N             \\N                         Drama  \n",
       "3666344      \\N             \\N  Documentary,Reality-TV,Short  \n",
       "4983414      \\N             \\N                            \\N  \n",
       "7899231      \\N             15               Short,Talk-Show  \n",
       "6103452      \\N             \\N                        Family  "
      ]
     },
     "execution_count": 121,
     "metadata": {},
     "output_type": "execute_result"
    }
   ],
   "source": [
    "df.sample(5)"
   ]
  },
  {
   "cell_type": "code",
   "execution_count": 98,
   "metadata": {},
   "outputs": [
    {
     "name": "stdout",
     "output_type": "stream",
     "text": [
      "<class 'pandas.core.frame.DataFrame'>\n",
      "RangeIndex: 8404213 entries, 0 to 8404212\n",
      "Data columns (total 9 columns):\n",
      "tconst            object\n",
      "titleType         object\n",
      "primaryTitle      object\n",
      "originalTitle     object\n",
      "isAdult           int64\n",
      "startYear         object\n",
      "endYear           object\n",
      "runtimeMinutes    object\n",
      "genres            object\n",
      "dtypes: int64(1), object(8)\n",
      "memory usage: 577.1+ MB\n"
     ]
    }
   ],
   "source": [
    "df.info()"
   ]
  },
  {
   "cell_type": "markdown",
   "metadata": {},
   "source": [
    "How many entries for just movie titles?"
   ]
  },
  {
   "cell_type": "code",
   "execution_count": 100,
   "metadata": {},
   "outputs": [
    {
     "name": "stdout",
     "output_type": "stream",
     "text": [
      "<class 'pandas.core.frame.DataFrame'>\n",
      "Int64Index: 683297 entries, 10 to 8404146\n",
      "Data columns (total 9 columns):\n",
      "tconst            683297 non-null object\n",
      "titleType         683297 non-null object\n",
      "primaryTitle      683297 non-null object\n",
      "originalTitle     683297 non-null object\n",
      "isAdult           683297 non-null int64\n",
      "startYear         683297 non-null object\n",
      "endYear           683297 non-null object\n",
      "runtimeMinutes    683297 non-null object\n",
      "genres            683297 non-null object\n",
      "dtypes: int64(1), object(8)\n",
      "memory usage: 52.1+ MB\n"
     ]
    }
   ],
   "source": [
    "movies = df.loc[df['titleType'] == 'movie']\n",
    "movies.info()"
   ]
  },
  {
   "cell_type": "markdown",
   "metadata": {},
   "source": [
    "Wow, from over 8 million titles to 683k. That was a lot of non-movies."
   ]
  },
  {
   "cell_type": "markdown",
   "metadata": {},
   "source": [
    "Despite the huge drop, this is still our largest asset for movie titles."
   ]
  },
  {
   "cell_type": "code",
   "execution_count": 102,
   "metadata": {},
   "outputs": [
    {
     "data": {
      "text/html": [
       "<div>\n",
       "<style scoped>\n",
       "    .dataframe tbody tr th:only-of-type {\n",
       "        vertical-align: middle;\n",
       "    }\n",
       "\n",
       "    .dataframe tbody tr th {\n",
       "        vertical-align: top;\n",
       "    }\n",
       "\n",
       "    .dataframe thead th {\n",
       "        text-align: right;\n",
       "    }\n",
       "</style>\n",
       "<table border=\"1\" class=\"dataframe\">\n",
       "  <thead>\n",
       "    <tr style=\"text-align: right;\">\n",
       "      <th></th>\n",
       "      <th>tconst</th>\n",
       "      <th>titleType</th>\n",
       "      <th>primaryTitle</th>\n",
       "      <th>originalTitle</th>\n",
       "      <th>isAdult</th>\n",
       "      <th>startYear</th>\n",
       "      <th>endYear</th>\n",
       "      <th>runtimeMinutes</th>\n",
       "      <th>genres</th>\n",
       "    </tr>\n",
       "  </thead>\n",
       "  <tbody>\n",
       "    <tr>\n",
       "      <td>7752492</td>\n",
       "      <td>tt8816412</td>\n",
       "      <td>movie</td>\n",
       "      <td>Amina</td>\n",
       "      <td>Amina</td>\n",
       "      <td>0</td>\n",
       "      <td>2019</td>\n",
       "      <td>\\N</td>\n",
       "      <td>70</td>\n",
       "      <td>Documentary</td>\n",
       "    </tr>\n",
       "    <tr>\n",
       "      <td>1535363</td>\n",
       "      <td>tt10427674</td>\n",
       "      <td>movie</td>\n",
       "      <td>Nozoki no ecstasy</td>\n",
       "      <td>Nozoki no ecstasy</td>\n",
       "      <td>0</td>\n",
       "      <td>1989</td>\n",
       "      <td>\\N</td>\n",
       "      <td>62</td>\n",
       "      <td>\\N</td>\n",
       "    </tr>\n",
       "    <tr>\n",
       "      <td>503245</td>\n",
       "      <td>tt0418734</td>\n",
       "      <td>movie</td>\n",
       "      <td>Un hombre despiadado</td>\n",
       "      <td>Un hombre despiadado</td>\n",
       "      <td>0</td>\n",
       "      <td>1991</td>\n",
       "      <td>\\N</td>\n",
       "      <td>\\N</td>\n",
       "      <td>Action</td>\n",
       "    </tr>\n",
       "    <tr>\n",
       "      <td>6053632</td>\n",
       "      <td>tt5916756</td>\n",
       "      <td>movie</td>\n",
       "      <td>Inhuman: The Next and Final Phase of Man Is Here</td>\n",
       "      <td>Inhuman: The Next and Final Phase of Man Is Here</td>\n",
       "      <td>0</td>\n",
       "      <td>2015</td>\n",
       "      <td>\\N</td>\n",
       "      <td>190</td>\n",
       "      <td>Documentary</td>\n",
       "    </tr>\n",
       "    <tr>\n",
       "      <td>3449134</td>\n",
       "      <td>tt1854573</td>\n",
       "      <td>movie</td>\n",
       "      <td>Tanta</td>\n",
       "      <td>Tanta</td>\n",
       "      <td>0</td>\n",
       "      <td>\\N</td>\n",
       "      <td>\\N</td>\n",
       "      <td>\\N</td>\n",
       "      <td>Mystery</td>\n",
       "    </tr>\n",
       "  </tbody>\n",
       "</table>\n",
       "</div>"
      ],
      "text/plain": [
       "             tconst titleType  \\\n",
       "7752492   tt8816412     movie   \n",
       "1535363  tt10427674     movie   \n",
       "503245    tt0418734     movie   \n",
       "6053632   tt5916756     movie   \n",
       "3449134   tt1854573     movie   \n",
       "\n",
       "                                             primaryTitle  \\\n",
       "7752492                                             Amina   \n",
       "1535363                                 Nozoki no ecstasy   \n",
       "503245                               Un hombre despiadado   \n",
       "6053632  Inhuman: The Next and Final Phase of Man Is Here   \n",
       "3449134                                             Tanta   \n",
       "\n",
       "                                            originalTitle  isAdult startYear  \\\n",
       "7752492                                             Amina        0      2019   \n",
       "1535363                                 Nozoki no ecstasy        0      1989   \n",
       "503245                               Un hombre despiadado        0      1991   \n",
       "6053632  Inhuman: The Next and Final Phase of Man Is Here        0      2015   \n",
       "3449134                                             Tanta        0        \\N   \n",
       "\n",
       "        endYear runtimeMinutes       genres  \n",
       "7752492      \\N             70  Documentary  \n",
       "1535363      \\N             62           \\N  \n",
       "503245       \\N             \\N       Action  \n",
       "6053632      \\N            190  Documentary  \n",
       "3449134      \\N             \\N      Mystery  "
      ]
     },
     "execution_count": 102,
     "metadata": {},
     "output_type": "execute_result"
    }
   ],
   "source": [
    "movies.sample(5)"
   ]
  },
  {
   "cell_type": "markdown",
   "metadata": {},
   "source": [
    "How many of these are in english?"
   ]
  },
  {
   "cell_type": "code",
   "execution_count": 152,
   "metadata": {},
   "outputs": [
    {
     "data": {
      "text/html": [
       "<div>\n",
       "<style scoped>\n",
       "    .dataframe tbody tr th:only-of-type {\n",
       "        vertical-align: middle;\n",
       "    }\n",
       "\n",
       "    .dataframe tbody tr th {\n",
       "        vertical-align: top;\n",
       "    }\n",
       "\n",
       "    .dataframe thead th {\n",
       "        text-align: right;\n",
       "    }\n",
       "</style>\n",
       "<table border=\"1\" class=\"dataframe\">\n",
       "  <thead>\n",
       "    <tr style=\"text-align: right;\">\n",
       "      <th></th>\n",
       "      <th>titleId</th>\n",
       "      <th>ordering</th>\n",
       "      <th>title</th>\n",
       "      <th>region</th>\n",
       "      <th>language</th>\n",
       "      <th>types</th>\n",
       "      <th>attributes</th>\n",
       "      <th>isOriginalTitle</th>\n",
       "    </tr>\n",
       "  </thead>\n",
       "  <tbody>\n",
       "    <tr>\n",
       "      <td>750279</td>\n",
       "      <td>tt0163324</td>\n",
       "      <td>2</td>\n",
       "      <td>Tally Brown, New York</td>\n",
       "      <td>\\N</td>\n",
       "      <td>\\N</td>\n",
       "      <td>original</td>\n",
       "      <td>\\N</td>\n",
       "      <td>1</td>\n",
       "    </tr>\n",
       "    <tr>\n",
       "      <td>2099711</td>\n",
       "      <td>tt0785072</td>\n",
       "      <td>3</td>\n",
       "      <td>The Eighth Wonder</td>\n",
       "      <td>\\N</td>\n",
       "      <td>\\N</td>\n",
       "      <td>original</td>\n",
       "      <td>\\N</td>\n",
       "      <td>1</td>\n",
       "    </tr>\n",
       "    <tr>\n",
       "      <td>13749830</td>\n",
       "      <td>tt5171492</td>\n",
       "      <td>1</td>\n",
       "      <td>Ellen Bond Secret Agent</td>\n",
       "      <td>\\N</td>\n",
       "      <td>\\N</td>\n",
       "      <td>original</td>\n",
       "      <td>\\N</td>\n",
       "      <td>1</td>\n",
       "    </tr>\n",
       "    <tr>\n",
       "      <td>8138740</td>\n",
       "      <td>tt1655603</td>\n",
       "      <td>3</td>\n",
       "      <td>Evil Intent</td>\n",
       "      <td>\\N</td>\n",
       "      <td>\\N</td>\n",
       "      <td>original</td>\n",
       "      <td>\\N</td>\n",
       "      <td>1</td>\n",
       "    </tr>\n",
       "    <tr>\n",
       "      <td>13934109</td>\n",
       "      <td>tt5336032</td>\n",
       "      <td>1</td>\n",
       "      <td>Otsuyâ goroshî</td>\n",
       "      <td>\\N</td>\n",
       "      <td>\\N</td>\n",
       "      <td>original</td>\n",
       "      <td>\\N</td>\n",
       "      <td>1</td>\n",
       "    </tr>\n",
       "  </tbody>\n",
       "</table>\n",
       "</div>"
      ],
      "text/plain": [
       "            titleId  ordering                    title region language  \\\n",
       "750279    tt0163324         2    Tally Brown, New York     \\N       \\N   \n",
       "2099711   tt0785072         3        The Eighth Wonder     \\N       \\N   \n",
       "13749830  tt5171492         1  Ellen Bond Secret Agent     \\N       \\N   \n",
       "8138740   tt1655603         3              Evil Intent     \\N       \\N   \n",
       "13934109  tt5336032         1           Otsuyâ goroshî     \\N       \\N   \n",
       "\n",
       "             types attributes isOriginalTitle  \n",
       "750279    original         \\N               1  \n",
       "2099711   original         \\N               1  \n",
       "13749830  original         \\N               1  \n",
       "8138740   original         \\N               1  \n",
       "13934109  original         \\N               1  "
      ]
     },
     "execution_count": 152,
     "metadata": {},
     "output_type": "execute_result"
    }
   ],
   "source": [
    "# only take originals:\n",
    "akas = dfs['title.akas']\n",
    "original_akas = akas.loc[akas['isOriginalTitle'] == '1']\n",
    "original_akas.sample(5)"
   ]
  },
  {
   "cell_type": "code",
   "execution_count": 150,
   "metadata": {},
   "outputs": [
    {
     "ename": "KeyboardInterrupt",
     "evalue": "",
     "output_type": "error",
     "traceback": [
      "\u001b[0;31m---------------------------------------------------------------------------\u001b[0m",
      "\u001b[0;31mKeyboardInterrupt\u001b[0m                         Traceback (most recent call last)",
      "\u001b[0;32m<ipython-input-150-c772299cbbe3>\u001b[0m in \u001b[0;36m<module>\u001b[0;34m\u001b[0m\n\u001b[1;32m      4\u001b[0m \u001b[0moriginal_akas\u001b[0m \u001b[0;34m=\u001b[0m \u001b[0makas\u001b[0m\u001b[0;34m.\u001b[0m\u001b[0mloc\u001b[0m\u001b[0;34m[\u001b[0m\u001b[0makas\u001b[0m\u001b[0;34m[\u001b[0m\u001b[0;34m'isOriginalTitle'\u001b[0m\u001b[0;34m]\u001b[0m \u001b[0;34m==\u001b[0m \u001b[0;34m'1'\u001b[0m\u001b[0;34m]\u001b[0m\u001b[0;34m\u001b[0m\u001b[0;34m\u001b[0m\u001b[0m\n\u001b[1;32m      5\u001b[0m \u001b[0mbasics\u001b[0m \u001b[0;34m=\u001b[0m \u001b[0mdfs\u001b[0m\u001b[0;34m[\u001b[0m\u001b[0;34m'title.basics'\u001b[0m\u001b[0;34m]\u001b[0m\u001b[0;34m\u001b[0m\u001b[0;34m\u001b[0m\u001b[0m\n\u001b[0;32m----> 6\u001b[0;31m \u001b[0mtitles_language\u001b[0m \u001b[0;34m=\u001b[0m \u001b[0makas\u001b[0m\u001b[0;34m.\u001b[0m\u001b[0mset_index\u001b[0m\u001b[0;34m(\u001b[0m\u001b[0;34m'titleId'\u001b[0m\u001b[0;34m)\u001b[0m\u001b[0;34m.\u001b[0m\u001b[0mjoin\u001b[0m\u001b[0;34m(\u001b[0m\u001b[0mbasics\u001b[0m\u001b[0;34m.\u001b[0m\u001b[0mset_index\u001b[0m\u001b[0;34m(\u001b[0m\u001b[0;34m'tconst'\u001b[0m\u001b[0;34m)\u001b[0m\u001b[0;34m)\u001b[0m\u001b[0;34m\u001b[0m\u001b[0;34m\u001b[0m\u001b[0m\n\u001b[0m",
      "\u001b[0;32m~/opt/anaconda3/envs/learn-env/lib/python3.6/site-packages/pandas/core/frame.py\u001b[0m in \u001b[0;36mset_index\u001b[0;34m(self, keys, drop, append, inplace, verify_integrity)\u001b[0m\n\u001b[1;32m   4399\u001b[0m             \u001b[0mframe\u001b[0m \u001b[0;34m=\u001b[0m \u001b[0mself\u001b[0m\u001b[0;34m\u001b[0m\u001b[0;34m\u001b[0m\u001b[0m\n\u001b[1;32m   4400\u001b[0m         \u001b[0;32melse\u001b[0m\u001b[0;34m:\u001b[0m\u001b[0;34m\u001b[0m\u001b[0;34m\u001b[0m\u001b[0m\n\u001b[0;32m-> 4401\u001b[0;31m             \u001b[0mframe\u001b[0m \u001b[0;34m=\u001b[0m \u001b[0mself\u001b[0m\u001b[0;34m.\u001b[0m\u001b[0mcopy\u001b[0m\u001b[0;34m(\u001b[0m\u001b[0;34m)\u001b[0m\u001b[0;34m\u001b[0m\u001b[0;34m\u001b[0m\u001b[0m\n\u001b[0m\u001b[1;32m   4402\u001b[0m \u001b[0;34m\u001b[0m\u001b[0m\n\u001b[1;32m   4403\u001b[0m         \u001b[0marrays\u001b[0m \u001b[0;34m=\u001b[0m \u001b[0;34m[\u001b[0m\u001b[0;34m]\u001b[0m\u001b[0;34m\u001b[0m\u001b[0;34m\u001b[0m\u001b[0m\n",
      "\u001b[0;32m~/opt/anaconda3/envs/learn-env/lib/python3.6/site-packages/pandas/core/generic.py\u001b[0m in \u001b[0;36mcopy\u001b[0;34m(self, deep)\u001b[0m\n\u001b[1;32m   5994\u001b[0m         \u001b[0mdtype\u001b[0m\u001b[0;34m:\u001b[0m \u001b[0mobject\u001b[0m\u001b[0;34m\u001b[0m\u001b[0;34m\u001b[0m\u001b[0m\n\u001b[1;32m   5995\u001b[0m         \"\"\"\n\u001b[0;32m-> 5996\u001b[0;31m         \u001b[0mdata\u001b[0m \u001b[0;34m=\u001b[0m \u001b[0mself\u001b[0m\u001b[0;34m.\u001b[0m\u001b[0m_data\u001b[0m\u001b[0;34m.\u001b[0m\u001b[0mcopy\u001b[0m\u001b[0;34m(\u001b[0m\u001b[0mdeep\u001b[0m\u001b[0;34m=\u001b[0m\u001b[0mdeep\u001b[0m\u001b[0;34m)\u001b[0m\u001b[0;34m\u001b[0m\u001b[0;34m\u001b[0m\u001b[0m\n\u001b[0m\u001b[1;32m   5997\u001b[0m         \u001b[0;32mreturn\u001b[0m \u001b[0mself\u001b[0m\u001b[0;34m.\u001b[0m\u001b[0m_constructor\u001b[0m\u001b[0;34m(\u001b[0m\u001b[0mdata\u001b[0m\u001b[0;34m)\u001b[0m\u001b[0;34m.\u001b[0m\u001b[0m__finalize__\u001b[0m\u001b[0;34m(\u001b[0m\u001b[0mself\u001b[0m\u001b[0;34m)\u001b[0m\u001b[0;34m\u001b[0m\u001b[0;34m\u001b[0m\u001b[0m\n\u001b[1;32m   5998\u001b[0m \u001b[0;34m\u001b[0m\u001b[0m\n",
      "\u001b[0;32m~/opt/anaconda3/envs/learn-env/lib/python3.6/site-packages/pandas/core/internals/managers.py\u001b[0m in \u001b[0;36mcopy\u001b[0;34m(self, deep)\u001b[0m\n\u001b[1;32m    786\u001b[0m         \u001b[0;32melse\u001b[0m\u001b[0;34m:\u001b[0m\u001b[0;34m\u001b[0m\u001b[0;34m\u001b[0m\u001b[0m\n\u001b[1;32m    787\u001b[0m             \u001b[0mnew_axes\u001b[0m \u001b[0;34m=\u001b[0m \u001b[0mlist\u001b[0m\u001b[0;34m(\u001b[0m\u001b[0mself\u001b[0m\u001b[0;34m.\u001b[0m\u001b[0maxes\u001b[0m\u001b[0;34m)\u001b[0m\u001b[0;34m\u001b[0m\u001b[0;34m\u001b[0m\u001b[0m\n\u001b[0;32m--> 788\u001b[0;31m         \u001b[0;32mreturn\u001b[0m \u001b[0mself\u001b[0m\u001b[0;34m.\u001b[0m\u001b[0mapply\u001b[0m\u001b[0;34m(\u001b[0m\u001b[0;34m\"copy\"\u001b[0m\u001b[0;34m,\u001b[0m \u001b[0maxes\u001b[0m\u001b[0;34m=\u001b[0m\u001b[0mnew_axes\u001b[0m\u001b[0;34m,\u001b[0m \u001b[0mdeep\u001b[0m\u001b[0;34m=\u001b[0m\u001b[0mdeep\u001b[0m\u001b[0;34m,\u001b[0m \u001b[0mdo_integrity_check\u001b[0m\u001b[0;34m=\u001b[0m\u001b[0;32mFalse\u001b[0m\u001b[0;34m)\u001b[0m\u001b[0;34m\u001b[0m\u001b[0;34m\u001b[0m\u001b[0m\n\u001b[0m\u001b[1;32m    789\u001b[0m \u001b[0;34m\u001b[0m\u001b[0m\n\u001b[1;32m    790\u001b[0m     \u001b[0;32mdef\u001b[0m \u001b[0mas_array\u001b[0m\u001b[0;34m(\u001b[0m\u001b[0mself\u001b[0m\u001b[0;34m,\u001b[0m \u001b[0mtranspose\u001b[0m\u001b[0;34m=\u001b[0m\u001b[0;32mFalse\u001b[0m\u001b[0;34m,\u001b[0m \u001b[0mitems\u001b[0m\u001b[0;34m=\u001b[0m\u001b[0;32mNone\u001b[0m\u001b[0;34m)\u001b[0m\u001b[0;34m:\u001b[0m\u001b[0;34m\u001b[0m\u001b[0;34m\u001b[0m\u001b[0m\n",
      "\u001b[0;32m~/opt/anaconda3/envs/learn-env/lib/python3.6/site-packages/pandas/core/internals/managers.py\u001b[0m in \u001b[0;36mapply\u001b[0;34m(self, f, axes, filter, do_integrity_check, consolidate, **kwargs)\u001b[0m\n\u001b[1;32m    436\u001b[0m                     \u001b[0mkwargs\u001b[0m\u001b[0;34m[\u001b[0m\u001b[0mk\u001b[0m\u001b[0;34m]\u001b[0m \u001b[0;34m=\u001b[0m \u001b[0mobj\u001b[0m\u001b[0;34m.\u001b[0m\u001b[0mreindex\u001b[0m\u001b[0;34m(\u001b[0m\u001b[0mb_items\u001b[0m\u001b[0;34m,\u001b[0m \u001b[0maxis\u001b[0m\u001b[0;34m=\u001b[0m\u001b[0maxis\u001b[0m\u001b[0;34m,\u001b[0m \u001b[0mcopy\u001b[0m\u001b[0;34m=\u001b[0m\u001b[0malign_copy\u001b[0m\u001b[0;34m)\u001b[0m\u001b[0;34m\u001b[0m\u001b[0;34m\u001b[0m\u001b[0m\n\u001b[1;32m    437\u001b[0m \u001b[0;34m\u001b[0m\u001b[0m\n\u001b[0;32m--> 438\u001b[0;31m             \u001b[0mapplied\u001b[0m \u001b[0;34m=\u001b[0m \u001b[0mgetattr\u001b[0m\u001b[0;34m(\u001b[0m\u001b[0mb\u001b[0m\u001b[0;34m,\u001b[0m \u001b[0mf\u001b[0m\u001b[0;34m)\u001b[0m\u001b[0;34m(\u001b[0m\u001b[0;34m**\u001b[0m\u001b[0mkwargs\u001b[0m\u001b[0;34m)\u001b[0m\u001b[0;34m\u001b[0m\u001b[0;34m\u001b[0m\u001b[0m\n\u001b[0m\u001b[1;32m    439\u001b[0m             \u001b[0mresult_blocks\u001b[0m \u001b[0;34m=\u001b[0m \u001b[0m_extend_blocks\u001b[0m\u001b[0;34m(\u001b[0m\u001b[0mapplied\u001b[0m\u001b[0;34m,\u001b[0m \u001b[0mresult_blocks\u001b[0m\u001b[0;34m)\u001b[0m\u001b[0;34m\u001b[0m\u001b[0;34m\u001b[0m\u001b[0m\n\u001b[1;32m    440\u001b[0m \u001b[0;34m\u001b[0m\u001b[0m\n",
      "\u001b[0;32m~/opt/anaconda3/envs/learn-env/lib/python3.6/site-packages/pandas/core/internals/blocks.py\u001b[0m in \u001b[0;36mcopy\u001b[0;34m(self, deep)\u001b[0m\n\u001b[1;32m    770\u001b[0m         \u001b[0mvalues\u001b[0m \u001b[0;34m=\u001b[0m \u001b[0mself\u001b[0m\u001b[0;34m.\u001b[0m\u001b[0mvalues\u001b[0m\u001b[0;34m\u001b[0m\u001b[0;34m\u001b[0m\u001b[0m\n\u001b[1;32m    771\u001b[0m         \u001b[0;32mif\u001b[0m \u001b[0mdeep\u001b[0m\u001b[0;34m:\u001b[0m\u001b[0;34m\u001b[0m\u001b[0;34m\u001b[0m\u001b[0m\n\u001b[0;32m--> 772\u001b[0;31m             \u001b[0mvalues\u001b[0m \u001b[0;34m=\u001b[0m \u001b[0mvalues\u001b[0m\u001b[0;34m.\u001b[0m\u001b[0mcopy\u001b[0m\u001b[0;34m(\u001b[0m\u001b[0;34m)\u001b[0m\u001b[0;34m\u001b[0m\u001b[0;34m\u001b[0m\u001b[0m\n\u001b[0m\u001b[1;32m    773\u001b[0m         \u001b[0;32mreturn\u001b[0m \u001b[0mself\u001b[0m\u001b[0;34m.\u001b[0m\u001b[0mmake_block_same_class\u001b[0m\u001b[0;34m(\u001b[0m\u001b[0mvalues\u001b[0m\u001b[0;34m,\u001b[0m \u001b[0mndim\u001b[0m\u001b[0;34m=\u001b[0m\u001b[0mself\u001b[0m\u001b[0;34m.\u001b[0m\u001b[0mndim\u001b[0m\u001b[0;34m)\u001b[0m\u001b[0;34m\u001b[0m\u001b[0;34m\u001b[0m\u001b[0m\n\u001b[1;32m    774\u001b[0m \u001b[0;34m\u001b[0m\u001b[0m\n",
      "\u001b[0;31mKeyboardInterrupt\u001b[0m: "
     ]
    }
   ],
   "source": [
    "# combine title.basics with title.akas\n",
    "basics = dfs['title.basics']\n",
    "titles_language = akas.set_index('titleId').join(basics.set_index('tconst'))"
   ]
  },
  {
   "cell_type": "code",
   "execution_count": 130,
   "metadata": {},
   "outputs": [],
   "source": [
    "titles_language.reset_index(inplace=True)"
   ]
  },
  {
   "cell_type": "code",
   "execution_count": 132,
   "metadata": {},
   "outputs": [],
   "source": [
    "titles_language.rename(columns={'index': 'tconst'}, inplace=True)"
   ]
  },
  {
   "cell_type": "code",
   "execution_count": 134,
   "metadata": {},
   "outputs": [
    {
     "data": {
      "text/html": [
       "<div>\n",
       "<style scoped>\n",
       "    .dataframe tbody tr th:only-of-type {\n",
       "        vertical-align: middle;\n",
       "    }\n",
       "\n",
       "    .dataframe tbody tr th {\n",
       "        vertical-align: top;\n",
       "    }\n",
       "\n",
       "    .dataframe thead th {\n",
       "        text-align: right;\n",
       "    }\n",
       "</style>\n",
       "<table border=\"1\" class=\"dataframe\">\n",
       "  <thead>\n",
       "    <tr style=\"text-align: right;\">\n",
       "      <th></th>\n",
       "      <th>tconst</th>\n",
       "      <th>ordering</th>\n",
       "      <th>title</th>\n",
       "      <th>region</th>\n",
       "      <th>language</th>\n",
       "      <th>types</th>\n",
       "      <th>attributes</th>\n",
       "      <th>isOriginalTitle</th>\n",
       "      <th>titleType</th>\n",
       "      <th>primaryTitle</th>\n",
       "      <th>originalTitle</th>\n",
       "      <th>isAdult</th>\n",
       "      <th>startYear</th>\n",
       "      <th>endYear</th>\n",
       "      <th>runtimeMinutes</th>\n",
       "      <th>genres</th>\n",
       "    </tr>\n",
       "  </thead>\n",
       "  <tbody>\n",
       "    <tr>\n",
       "      <td>10844242</td>\n",
       "      <td>tt1817923</td>\n",
       "      <td>5</td>\n",
       "      <td>Episodio fechado 12 octubre 1995</td>\n",
       "      <td>ES</td>\n",
       "      <td>es</td>\n",
       "      <td>\\N</td>\n",
       "      <td>\\N</td>\n",
       "      <td>0</td>\n",
       "      <td>tvEpisode</td>\n",
       "      <td>Episode dated 12 October 1995</td>\n",
       "      <td>Episode dated 12 October 1995</td>\n",
       "      <td>0.0</td>\n",
       "      <td>1995</td>\n",
       "      <td>\\N</td>\n",
       "      <td>\\N</td>\n",
       "      <td>Talk-Show</td>\n",
       "    </tr>\n",
       "    <tr>\n",
       "      <td>3812991</td>\n",
       "      <td>tt10171408</td>\n",
       "      <td>7</td>\n",
       "      <td>एपिसोड #10.145</td>\n",
       "      <td>IN</td>\n",
       "      <td>hi</td>\n",
       "      <td>\\N</td>\n",
       "      <td>\\N</td>\n",
       "      <td>0</td>\n",
       "      <td>tvEpisode</td>\n",
       "      <td>Episode #10.145</td>\n",
       "      <td>Episode #10.145</td>\n",
       "      <td>0.0</td>\n",
       "      <td>2019</td>\n",
       "      <td>\\N</td>\n",
       "      <td>37</td>\n",
       "      <td>Comedy,Family,Game-Show</td>\n",
       "    </tr>\n",
       "    <tr>\n",
       "      <td>19414387</td>\n",
       "      <td>tt6474656</td>\n",
       "      <td>6</td>\n",
       "      <td>एपिसोड #1.48</td>\n",
       "      <td>IN</td>\n",
       "      <td>hi</td>\n",
       "      <td>\\N</td>\n",
       "      <td>\\N</td>\n",
       "      <td>0</td>\n",
       "      <td>tvEpisode</td>\n",
       "      <td>Episode #1.48</td>\n",
       "      <td>Episode #1.48</td>\n",
       "      <td>0.0</td>\n",
       "      <td>\\N</td>\n",
       "      <td>\\N</td>\n",
       "      <td>\\N</td>\n",
       "      <td>Family,News,Talk-Show</td>\n",
       "    </tr>\n",
       "    <tr>\n",
       "      <td>10943542</td>\n",
       "      <td>tt1847513</td>\n",
       "      <td>1</td>\n",
       "      <td>Sand &amp; Sea 4</td>\n",
       "      <td>US</td>\n",
       "      <td>\\N</td>\n",
       "      <td>\\N</td>\n",
       "      <td>\\N</td>\n",
       "      <td>0</td>\n",
       "      <td>tvEpisode</td>\n",
       "      <td>Sand &amp; Sea 4</td>\n",
       "      <td>Sand &amp; Sea 4</td>\n",
       "      <td>0.0</td>\n",
       "      <td>2011</td>\n",
       "      <td>\\N</td>\n",
       "      <td>\\N</td>\n",
       "      <td>Family,Game-Show</td>\n",
       "    </tr>\n",
       "    <tr>\n",
       "      <td>721997</td>\n",
       "      <td>tt0084049</td>\n",
       "      <td>28</td>\n",
       "      <td>Мошенничество</td>\n",
       "      <td>SUHH</td>\n",
       "      <td>ru</td>\n",
       "      <td>imdbDisplay</td>\n",
       "      <td>\\N</td>\n",
       "      <td>0</td>\n",
       "      <td>movie</td>\n",
       "      <td>Hanky Panky</td>\n",
       "      <td>Hanky Panky</td>\n",
       "      <td>0.0</td>\n",
       "      <td>1982</td>\n",
       "      <td>\\N</td>\n",
       "      <td>110</td>\n",
       "      <td>Action,Comedy,Crime</td>\n",
       "    </tr>\n",
       "  </tbody>\n",
       "</table>\n",
       "</div>"
      ],
      "text/plain": [
       "              tconst  ordering                             title region  \\\n",
       "10844242   tt1817923         5  Episodio fechado 12 octubre 1995     ES   \n",
       "3812991   tt10171408         7                    एपिसोड #10.145     IN   \n",
       "19414387   tt6474656         6                      एपिसोड #1.48     IN   \n",
       "10943542   tt1847513         1                      Sand & Sea 4     US   \n",
       "721997     tt0084049        28                     Мошенничество   SUHH   \n",
       "\n",
       "         language        types attributes isOriginalTitle  titleType  \\\n",
       "10844242       es           \\N         \\N               0  tvEpisode   \n",
       "3812991        hi           \\N         \\N               0  tvEpisode   \n",
       "19414387       hi           \\N         \\N               0  tvEpisode   \n",
       "10943542       \\N           \\N         \\N               0  tvEpisode   \n",
       "721997         ru  imdbDisplay         \\N               0      movie   \n",
       "\n",
       "                           primaryTitle                  originalTitle  \\\n",
       "10844242  Episode dated 12 October 1995  Episode dated 12 October 1995   \n",
       "3812991                 Episode #10.145                Episode #10.145   \n",
       "19414387                  Episode #1.48                  Episode #1.48   \n",
       "10943542                   Sand & Sea 4                   Sand & Sea 4   \n",
       "721997                      Hanky Panky                    Hanky Panky   \n",
       "\n",
       "          isAdult startYear endYear runtimeMinutes                   genres  \n",
       "10844242      0.0      1995      \\N             \\N                Talk-Show  \n",
       "3812991       0.0      2019      \\N             37  Comedy,Family,Game-Show  \n",
       "19414387      0.0        \\N      \\N             \\N    Family,News,Talk-Show  \n",
       "10943542      0.0      2011      \\N             \\N         Family,Game-Show  \n",
       "721997        0.0      1982      \\N            110      Action,Comedy,Crime  "
      ]
     },
     "execution_count": 134,
     "metadata": {},
     "output_type": "execute_result"
    }
   ],
   "source": [
    "titles_language.sample(5)"
   ]
  },
  {
   "cell_type": "code",
   "execution_count": 148,
   "metadata": {},
   "outputs": [
    {
     "data": {
      "text/plain": [
       "FR    3233462\n",
       "JP    3216644\n",
       "DE    3183430\n",
       "ES    3165387\n",
       "IT    3150042\n",
       "IN    3108648\n",
       "PT    3096707\n",
       "US    1144816\n",
       "\\N     634736\n",
       "GB     295736\n",
       "Name: region, dtype: int64"
      ]
     },
     "execution_count": 148,
     "metadata": {},
     "output_type": "execute_result"
    }
   ],
   "source": [
    "# group by name, and select rows that have en language\n",
    "titles_language['region'].value_counts().head(10)"
   ]
  },
  {
   "cell_type": "code",
   "execution_count": 142,
   "metadata": {},
   "outputs": [
    {
     "name": "stdout",
     "output_type": "stream",
     "text": [
      "<class 'pandas.core.frame.DataFrame'>\n",
      "Int64Index: 0 entries\n",
      "Data columns (total 16 columns):\n",
      "tconst             0 non-null object\n",
      "ordering           0 non-null int64\n",
      "title              0 non-null object\n",
      "region             0 non-null object\n",
      "language           0 non-null object\n",
      "types              0 non-null object\n",
      "attributes         0 non-null object\n",
      "isOriginalTitle    0 non-null object\n",
      "titleType          0 non-null object\n",
      "primaryTitle       0 non-null object\n",
      "originalTitle      0 non-null object\n",
      "isAdult            0 non-null float64\n",
      "startYear          0 non-null object\n",
      "endYear            0 non-null object\n",
      "runtimeMinutes     0 non-null object\n",
      "genres             0 non-null object\n",
      "dtypes: float64(1), int64(1), object(14)\n",
      "memory usage: 0.0+ bytes\n"
     ]
    }
   ],
   "source": [
    "en_movies.info()"
   ]
  },
  {
   "cell_type": "code",
   "execution_count": 140,
   "metadata": {},
   "outputs": [
    {
     "data": {
      "text/html": [
       "<div>\n",
       "<style scoped>\n",
       "    .dataframe tbody tr th:only-of-type {\n",
       "        vertical-align: middle;\n",
       "    }\n",
       "\n",
       "    .dataframe tbody tr th {\n",
       "        vertical-align: top;\n",
       "    }\n",
       "\n",
       "    .dataframe thead th {\n",
       "        text-align: right;\n",
       "    }\n",
       "</style>\n",
       "<table border=\"1\" class=\"dataframe\">\n",
       "  <thead>\n",
       "    <tr style=\"text-align: right;\">\n",
       "      <th></th>\n",
       "      <th>tconst</th>\n",
       "      <th>ordering</th>\n",
       "      <th>title</th>\n",
       "      <th>region</th>\n",
       "      <th>language</th>\n",
       "      <th>types</th>\n",
       "      <th>attributes</th>\n",
       "      <th>isOriginalTitle</th>\n",
       "      <th>titleType</th>\n",
       "      <th>primaryTitle</th>\n",
       "      <th>originalTitle</th>\n",
       "      <th>isAdult</th>\n",
       "      <th>startYear</th>\n",
       "      <th>endYear</th>\n",
       "      <th>runtimeMinutes</th>\n",
       "      <th>genres</th>\n",
       "    </tr>\n",
       "  </thead>\n",
       "  <tbody>\n",
       "    <tr>\n",
       "      <td>15492393</td>\n",
       "      <td>tt4082068</td>\n",
       "      <td>11</td>\n",
       "      <td>Dheepan</td>\n",
       "      <td>CA</td>\n",
       "      <td>en</td>\n",
       "      <td>imdbDisplay</td>\n",
       "      <td>\\N</td>\n",
       "      <td>0</td>\n",
       "      <td>movie</td>\n",
       "      <td>Dheepan</td>\n",
       "      <td>Dheepan</td>\n",
       "      <td>0.0</td>\n",
       "      <td>2015</td>\n",
       "      <td>\\N</td>\n",
       "      <td>115</td>\n",
       "      <td>Crime,Drama</td>\n",
       "    </tr>\n",
       "    <tr>\n",
       "      <td>25406804</td>\n",
       "      <td>tt9650116</td>\n",
       "      <td>2</td>\n",
       "      <td>Sangokushi Rumble</td>\n",
       "      <td>JP</td>\n",
       "      <td>en</td>\n",
       "      <td>imdbDisplay</td>\n",
       "      <td>\\N</td>\n",
       "      <td>0</td>\n",
       "      <td>videoGame</td>\n",
       "      <td>Sangokushi ranbu</td>\n",
       "      <td>Sangokushi ranbu</td>\n",
       "      <td>0.0</td>\n",
       "      <td>2013</td>\n",
       "      <td>\\N</td>\n",
       "      <td>\\N</td>\n",
       "      <td>Adventure</td>\n",
       "    </tr>\n",
       "    <tr>\n",
       "      <td>23600139</td>\n",
       "      <td>tt8788458</td>\n",
       "      <td>1</td>\n",
       "      <td>The Promised Neverland</td>\n",
       "      <td>XWW</td>\n",
       "      <td>en</td>\n",
       "      <td>imdbDisplay</td>\n",
       "      <td>\\N</td>\n",
       "      <td>0</td>\n",
       "      <td>tvSeries</td>\n",
       "      <td>The Promised Neverland</td>\n",
       "      <td>Yakusoku no Neverland</td>\n",
       "      <td>0.0</td>\n",
       "      <td>2019</td>\n",
       "      <td>\\N</td>\n",
       "      <td>30</td>\n",
       "      <td>Animation,Fantasy,Horror</td>\n",
       "    </tr>\n",
       "    <tr>\n",
       "      <td>1192330</td>\n",
       "      <td>tt0239777</td>\n",
       "      <td>3</td>\n",
       "      <td>Paradise Is a Trap</td>\n",
       "      <td>XWW</td>\n",
       "      <td>en</td>\n",
       "      <td>\\N</td>\n",
       "      <td>\\N</td>\n",
       "      <td>0</td>\n",
       "      <td>tvMovie</td>\n",
       "      <td>Paradise Is a Trap</td>\n",
       "      <td>Das Paradies ist eine Falle</td>\n",
       "      <td>0.0</td>\n",
       "      <td>2002</td>\n",
       "      <td>\\N</td>\n",
       "      <td>90</td>\n",
       "      <td>Comedy</td>\n",
       "    </tr>\n",
       "    <tr>\n",
       "      <td>13035544</td>\n",
       "      <td>tt2517662</td>\n",
       "      <td>3</td>\n",
       "      <td>Triangle of Death</td>\n",
       "      <td>XWW</td>\n",
       "      <td>en</td>\n",
       "      <td>imdbDisplay</td>\n",
       "      <td>\\N</td>\n",
       "      <td>0</td>\n",
       "      <td>movie</td>\n",
       "      <td>Triangle of Death</td>\n",
       "      <td>Trójkat smierci</td>\n",
       "      <td>0.0</td>\n",
       "      <td>1990</td>\n",
       "      <td>\\N</td>\n",
       "      <td>57</td>\n",
       "      <td>Documentary</td>\n",
       "    </tr>\n",
       "  </tbody>\n",
       "</table>\n",
       "</div>"
      ],
      "text/plain": [
       "             tconst  ordering                   title region language  \\\n",
       "15492393  tt4082068        11                 Dheepan     CA       en   \n",
       "25406804  tt9650116         2       Sangokushi Rumble     JP       en   \n",
       "23600139  tt8788458         1  The Promised Neverland    XWW       en   \n",
       "1192330   tt0239777         3      Paradise Is a Trap    XWW       en   \n",
       "13035544  tt2517662         3       Triangle of Death    XWW       en   \n",
       "\n",
       "                types attributes isOriginalTitle  titleType  \\\n",
       "15492393  imdbDisplay         \\N               0      movie   \n",
       "25406804  imdbDisplay         \\N               0  videoGame   \n",
       "23600139  imdbDisplay         \\N               0   tvSeries   \n",
       "1192330            \\N         \\N               0    tvMovie   \n",
       "13035544  imdbDisplay         \\N               0      movie   \n",
       "\n",
       "                    primaryTitle                originalTitle  isAdult  \\\n",
       "15492393                 Dheepan                      Dheepan      0.0   \n",
       "25406804        Sangokushi ranbu             Sangokushi ranbu      0.0   \n",
       "23600139  The Promised Neverland        Yakusoku no Neverland      0.0   \n",
       "1192330       Paradise Is a Trap  Das Paradies ist eine Falle      0.0   \n",
       "13035544       Triangle of Death              Trójkat smierci      0.0   \n",
       "\n",
       "         startYear endYear runtimeMinutes                    genres  \n",
       "15492393      2015      \\N            115               Crime,Drama  \n",
       "25406804      2013      \\N             \\N                 Adventure  \n",
       "23600139      2019      \\N             30  Animation,Fantasy,Horror  \n",
       "1192330       2002      \\N             90                    Comedy  \n",
       "13035544      1990      \\N             57               Documentary  "
      ]
     },
     "execution_count": 140,
     "metadata": {},
     "output_type": "execute_result"
    }
   ],
   "source": [
    "en_movies.sample(5)"
   ]
  },
  {
   "cell_type": "markdown",
   "metadata": {},
   "source": [
    "How many of these movies have missing genre variables?"
   ]
  },
  {
   "cell_type": "code",
   "execution_count": 109,
   "metadata": {},
   "outputs": [
    {
     "data": {
      "text/plain": [
       "Drama                     126168\n",
       "Documentary                96389\n",
       "\\N                         70831\n",
       "Comedy                     51640\n",
       "Horror                     16019\n",
       "                           ...  \n",
       "Music,Romance,Sport            1\n",
       "Adventure,Crime,Music          1\n",
       "Action,Fantasy,Sport           1\n",
       "Comedy,News,Reality-TV         1\n",
       "Drama,News,Sci-Fi              1\n",
       "Name: genres, Length: 1436, dtype: int64"
      ]
     },
     "execution_count": 109,
     "metadata": {},
     "output_type": "execute_result"
    }
   ],
   "source": [
    "movies['genres'].value_counts()"
   ]
  },
  {
   "cell_type": "markdown",
   "metadata": {},
   "source": [
    "Missing 70k. Thats a lot. Maybe we can fill those in from another source.\n"
   ]
  },
  {
   "cell_type": "markdown",
   "metadata": {},
   "source": [
    "### DataFrame 5: "
   ]
  },
  {
   "cell_type": "code",
   "execution_count": 67,
   "metadata": {},
   "outputs": [
    {
     "data": {
      "text/plain": [
       "'title.crew'"
      ]
     },
     "execution_count": 67,
     "metadata": {},
     "output_type": "execute_result"
    }
   ],
   "source": [
    "df_names[4]"
   ]
  },
  {
   "cell_type": "code",
   "execution_count": 68,
   "metadata": {},
   "outputs": [
    {
     "data": {
      "text/html": [
       "<div>\n",
       "<style scoped>\n",
       "    .dataframe tbody tr th:only-of-type {\n",
       "        vertical-align: middle;\n",
       "    }\n",
       "\n",
       "    .dataframe tbody tr th {\n",
       "        vertical-align: top;\n",
       "    }\n",
       "\n",
       "    .dataframe thead th {\n",
       "        text-align: right;\n",
       "    }\n",
       "</style>\n",
       "<table border=\"1\" class=\"dataframe\">\n",
       "  <thead>\n",
       "    <tr style=\"text-align: right;\">\n",
       "      <th></th>\n",
       "      <th>tconst</th>\n",
       "      <th>directors</th>\n",
       "      <th>writers</th>\n",
       "    </tr>\n",
       "  </thead>\n",
       "  <tbody>\n",
       "    <tr>\n",
       "      <td>672388</td>\n",
       "      <td>tt0694314</td>\n",
       "      <td>nm3652838</td>\n",
       "      <td>nm3652838</td>\n",
       "    </tr>\n",
       "    <tr>\n",
       "      <td>91920</td>\n",
       "      <td>tt0093961</td>\n",
       "      <td>nm0005139</td>\n",
       "      <td>nm0005139</td>\n",
       "    </tr>\n",
       "    <tr>\n",
       "      <td>5813623</td>\n",
       "      <td>tt8184738</td>\n",
       "      <td>\\N</td>\n",
       "      <td>nm1459509</td>\n",
       "    </tr>\n",
       "    <tr>\n",
       "      <td>5816510</td>\n",
       "      <td>tt8190908</td>\n",
       "      <td>\\N</td>\n",
       "      <td>\\N</td>\n",
       "    </tr>\n",
       "    <tr>\n",
       "      <td>1015113</td>\n",
       "      <td>tt10080998</td>\n",
       "      <td>nm10573485</td>\n",
       "      <td>\\N</td>\n",
       "    </tr>\n",
       "  </tbody>\n",
       "</table>\n",
       "</div>"
      ],
      "text/plain": [
       "             tconst   directors    writers\n",
       "672388    tt0694314   nm3652838  nm3652838\n",
       "91920     tt0093961   nm0005139  nm0005139\n",
       "5813623   tt8184738          \\N  nm1459509\n",
       "5816510   tt8190908          \\N         \\N\n",
       "1015113  tt10080998  nm10573485         \\N"
      ]
     },
     "execution_count": 68,
     "metadata": {},
     "output_type": "execute_result"
    }
   ],
   "source": [
    "dfs[df_names[4]].sample(5)"
   ]
  },
  {
   "cell_type": "code",
   "execution_count": 69,
   "metadata": {},
   "outputs": [
    {
     "name": "stdout",
     "output_type": "stream",
     "text": [
      "<class 'pandas.core.frame.DataFrame'>\n",
      "RangeIndex: 6632466 entries, 0 to 6632465\n",
      "Data columns (total 3 columns):\n",
      "tconst       object\n",
      "directors    object\n",
      "writers      object\n",
      "dtypes: object(3)\n",
      "memory usage: 151.8+ MB\n"
     ]
    }
   ],
   "source": [
    "dfs[df_names[4]].info()"
   ]
  },
  {
   "cell_type": "markdown",
   "metadata": {},
   "source": [
    "### DataFrame 6:"
   ]
  },
  {
   "cell_type": "code",
   "execution_count": 154,
   "metadata": {},
   "outputs": [
    {
     "data": {
      "text/plain": [
       "'title.ratings'"
      ]
     },
     "execution_count": 154,
     "metadata": {},
     "output_type": "execute_result"
    }
   ],
   "source": [
    "df_names[5]"
   ]
  },
  {
   "cell_type": "code",
   "execution_count": 65,
   "metadata": {},
   "outputs": [
    {
     "data": {
      "text/html": [
       "<div>\n",
       "<style scoped>\n",
       "    .dataframe tbody tr th:only-of-type {\n",
       "        vertical-align: middle;\n",
       "    }\n",
       "\n",
       "    .dataframe tbody tr th {\n",
       "        vertical-align: top;\n",
       "    }\n",
       "\n",
       "    .dataframe thead th {\n",
       "        text-align: right;\n",
       "    }\n",
       "</style>\n",
       "<table border=\"1\" class=\"dataframe\">\n",
       "  <thead>\n",
       "    <tr style=\"text-align: right;\">\n",
       "      <th></th>\n",
       "      <th>tconst</th>\n",
       "      <th>averageRating</th>\n",
       "      <th>numVotes</th>\n",
       "    </tr>\n",
       "  </thead>\n",
       "  <tbody>\n",
       "    <tr>\n",
       "      <td>809210</td>\n",
       "      <td>tt4322260</td>\n",
       "      <td>7.2</td>\n",
       "      <td>75</td>\n",
       "    </tr>\n",
       "    <tr>\n",
       "      <td>445001</td>\n",
       "      <td>tt10264976</td>\n",
       "      <td>6.9</td>\n",
       "      <td>48</td>\n",
       "    </tr>\n",
       "    <tr>\n",
       "      <td>612028</td>\n",
       "      <td>tt1789276</td>\n",
       "      <td>6.9</td>\n",
       "      <td>45</td>\n",
       "    </tr>\n",
       "    <tr>\n",
       "      <td>296975</td>\n",
       "      <td>tt0594341</td>\n",
       "      <td>7.1</td>\n",
       "      <td>72</td>\n",
       "    </tr>\n",
       "    <tr>\n",
       "      <td>475812</td>\n",
       "      <td>tt11100592</td>\n",
       "      <td>9.1</td>\n",
       "      <td>52</td>\n",
       "    </tr>\n",
       "  </tbody>\n",
       "</table>\n",
       "</div>"
      ],
      "text/plain": [
       "            tconst  averageRating  numVotes\n",
       "809210   tt4322260            7.2        75\n",
       "445001  tt10264976            6.9        48\n",
       "612028   tt1789276            6.9        45\n",
       "296975   tt0594341            7.1        72\n",
       "475812  tt11100592            9.1        52"
      ]
     },
     "execution_count": 65,
     "metadata": {},
     "output_type": "execute_result"
    }
   ],
   "source": [
    "dfs[df_names[5]].sample(5)"
   ]
  },
  {
   "cell_type": "code",
   "execution_count": 153,
   "metadata": {},
   "outputs": [
    {
     "name": "stdout",
     "output_type": "stream",
     "text": [
      "<class 'pandas.core.frame.DataFrame'>\n",
      "RangeIndex: 1038178 entries, 0 to 1038177\n",
      "Data columns (total 3 columns):\n",
      "tconst           1038178 non-null object\n",
      "averageRating    1038178 non-null float64\n",
      "numVotes         1038178 non-null int64\n",
      "dtypes: float64(1), int64(1), object(1)\n",
      "memory usage: 23.8+ MB\n"
     ]
    }
   ],
   "source": [
    "dfs[df_names[5]].info()"
   ]
  },
  {
   "cell_type": "markdown",
   "metadata": {},
   "source": [
    "### DataFrame 7: "
   ]
  },
  {
   "cell_type": "code",
   "execution_count": 155,
   "metadata": {},
   "outputs": [
    {
     "data": {
      "text/plain": [
       "'rt.reviews'"
      ]
     },
     "execution_count": 155,
     "metadata": {},
     "output_type": "execute_result"
    }
   ],
   "source": [
    "df_names[6]"
   ]
  },
  {
   "cell_type": "code",
   "execution_count": 156,
   "metadata": {},
   "outputs": [
    {
     "data": {
      "text/html": [
       "<div>\n",
       "<style scoped>\n",
       "    .dataframe tbody tr th:only-of-type {\n",
       "        vertical-align: middle;\n",
       "    }\n",
       "\n",
       "    .dataframe tbody tr th {\n",
       "        vertical-align: top;\n",
       "    }\n",
       "\n",
       "    .dataframe thead th {\n",
       "        text-align: right;\n",
       "    }\n",
       "</style>\n",
       "<table border=\"1\" class=\"dataframe\">\n",
       "  <thead>\n",
       "    <tr style=\"text-align: right;\">\n",
       "      <th></th>\n",
       "      <th>id</th>\n",
       "      <th>review</th>\n",
       "      <th>rating</th>\n",
       "      <th>fresh</th>\n",
       "      <th>critic</th>\n",
       "      <th>top_critic</th>\n",
       "      <th>publisher</th>\n",
       "      <th>date</th>\n",
       "    </tr>\n",
       "  </thead>\n",
       "  <tbody>\n",
       "    <tr>\n",
       "      <td>44963</td>\n",
       "      <td>1691</td>\n",
       "      <td>Contrived and pretentious from title card to e...</td>\n",
       "      <td>1.5/5</td>\n",
       "      <td>rotten</td>\n",
       "      <td>Tom Clift</td>\n",
       "      <td>0</td>\n",
       "      <td>Concrete Playground</td>\n",
       "      <td>September 22, 2014</td>\n",
       "    </tr>\n",
       "    <tr>\n",
       "      <td>39195</td>\n",
       "      <td>1507</td>\n",
       "      <td>Well, what did anyone expect Daddy Day Camp to...</td>\n",
       "      <td>2/4</td>\n",
       "      <td>fresh</td>\n",
       "      <td>Fred Topel</td>\n",
       "      <td>0</td>\n",
       "      <td>Hollywood.com</td>\n",
       "      <td>August 8, 2007</td>\n",
       "    </tr>\n",
       "    <tr>\n",
       "      <td>50343</td>\n",
       "      <td>1877</td>\n",
       "      <td>Most of Hancock's faults can be forgiven becau...</td>\n",
       "      <td>3/4</td>\n",
       "      <td>fresh</td>\n",
       "      <td>Brett McCracken</td>\n",
       "      <td>0</td>\n",
       "      <td>Christianity Today</td>\n",
       "      <td>July 10, 2008</td>\n",
       "    </tr>\n",
       "    <tr>\n",
       "      <td>43961</td>\n",
       "      <td>1647</td>\n",
       "      <td>Sometimes the most dated parts of an old film ...</td>\n",
       "      <td>3/4</td>\n",
       "      <td>fresh</td>\n",
       "      <td>Steve Rhodes</td>\n",
       "      <td>0</td>\n",
       "      <td>Internet Reviews</td>\n",
       "      <td>January 1, 2000</td>\n",
       "    </tr>\n",
       "    <tr>\n",
       "      <td>25038</td>\n",
       "      <td>1013</td>\n",
       "      <td>With its unpredictable sexual politics and qui...</td>\n",
       "      <td>NaN</td>\n",
       "      <td>fresh</td>\n",
       "      <td>Mary F. Pols</td>\n",
       "      <td>1</td>\n",
       "      <td>TIME Magazine</td>\n",
       "      <td>January 26, 2012</td>\n",
       "    </tr>\n",
       "  </tbody>\n",
       "</table>\n",
       "</div>"
      ],
      "text/plain": [
       "         id                                             review rating   fresh  \\\n",
       "44963  1691  Contrived and pretentious from title card to e...  1.5/5  rotten   \n",
       "39195  1507  Well, what did anyone expect Daddy Day Camp to...    2/4   fresh   \n",
       "50343  1877  Most of Hancock's faults can be forgiven becau...    3/4   fresh   \n",
       "43961  1647  Sometimes the most dated parts of an old film ...    3/4   fresh   \n",
       "25038  1013  With its unpredictable sexual politics and qui...    NaN   fresh   \n",
       "\n",
       "                critic  top_critic            publisher                date  \n",
       "44963        Tom Clift           0  Concrete Playground  September 22, 2014  \n",
       "39195       Fred Topel           0        Hollywood.com      August 8, 2007  \n",
       "50343  Brett McCracken           0   Christianity Today       July 10, 2008  \n",
       "43961     Steve Rhodes           0     Internet Reviews     January 1, 2000  \n",
       "25038     Mary F. Pols           1        TIME Magazine    January 26, 2012  "
      ]
     },
     "execution_count": 156,
     "metadata": {},
     "output_type": "execute_result"
    }
   ],
   "source": [
    "dfs[df_names[6]].sample(5)"
   ]
  },
  {
   "cell_type": "code",
   "execution_count": 157,
   "metadata": {},
   "outputs": [
    {
     "name": "stdout",
     "output_type": "stream",
     "text": [
      "<class 'pandas.core.frame.DataFrame'>\n",
      "RangeIndex: 54432 entries, 0 to 54431\n",
      "Data columns (total 8 columns):\n",
      "id            54432 non-null int64\n",
      "review        48869 non-null object\n",
      "rating        40915 non-null object\n",
      "fresh         54432 non-null object\n",
      "critic        51710 non-null object\n",
      "top_critic    54432 non-null int64\n",
      "publisher     54123 non-null object\n",
      "date          54432 non-null object\n",
      "dtypes: int64(2), object(6)\n",
      "memory usage: 3.3+ MB\n"
     ]
    }
   ],
   "source": [
    "dfs[df_names[6]].info()"
   ]
  },
  {
   "cell_type": "markdown",
   "metadata": {},
   "source": [
    "### DataFrame 8:"
   ]
  },
  {
   "cell_type": "code",
   "execution_count": 41,
   "metadata": {},
   "outputs": [
    {
     "data": {
      "text/plain": [
       "'name.basics'"
      ]
     },
     "execution_count": 41,
     "metadata": {},
     "output_type": "execute_result"
    }
   ],
   "source": [
    "df_names[7]"
   ]
  },
  {
   "cell_type": "code",
   "execution_count": 59,
   "metadata": {},
   "outputs": [
    {
     "data": {
      "text/html": [
       "<div>\n",
       "<style scoped>\n",
       "    .dataframe tbody tr th:only-of-type {\n",
       "        vertical-align: middle;\n",
       "    }\n",
       "\n",
       "    .dataframe tbody tr th {\n",
       "        vertical-align: top;\n",
       "    }\n",
       "\n",
       "    .dataframe thead th {\n",
       "        text-align: right;\n",
       "    }\n",
       "</style>\n",
       "<table border=\"1\" class=\"dataframe\">\n",
       "  <thead>\n",
       "    <tr style=\"text-align: right;\">\n",
       "      <th></th>\n",
       "      <th>nconst</th>\n",
       "      <th>primaryName</th>\n",
       "      <th>birthYear</th>\n",
       "      <th>deathYear</th>\n",
       "      <th>primaryProfession</th>\n",
       "      <th>knownForTitles</th>\n",
       "    </tr>\n",
       "  </thead>\n",
       "  <tbody>\n",
       "    <tr>\n",
       "      <td>8122299</td>\n",
       "      <td>nm7830849</td>\n",
       "      <td>Wan-Ting Tseng</td>\n",
       "      <td>\\N</td>\n",
       "      <td>\\N</td>\n",
       "      <td>actress,soundtrack</td>\n",
       "      <td>tt7803258,tt6985020,tt7826722,tt9900688</td>\n",
       "    </tr>\n",
       "    <tr>\n",
       "      <td>990787</td>\n",
       "      <td>nm10068521</td>\n",
       "      <td>Snezana Jovanovic</td>\n",
       "      <td>\\N</td>\n",
       "      <td>\\N</td>\n",
       "      <td>NaN</td>\n",
       "      <td>tt8886156</td>\n",
       "    </tr>\n",
       "    <tr>\n",
       "      <td>2787123</td>\n",
       "      <td>nm1653884</td>\n",
       "      <td>Dick Morris</td>\n",
       "      <td>1948</td>\n",
       "      <td>\\N</td>\n",
       "      <td>writer</td>\n",
       "      <td>tt0427228,tt1624385,tt1753485,tt0468424</td>\n",
       "    </tr>\n",
       "    <tr>\n",
       "      <td>322431</td>\n",
       "      <td>nm0339773</td>\n",
       "      <td>Christopher Gregory</td>\n",
       "      <td>\\N</td>\n",
       "      <td>\\N</td>\n",
       "      <td>writer</td>\n",
       "      <td>tt0141667</td>\n",
       "    </tr>\n",
       "    <tr>\n",
       "      <td>5064024</td>\n",
       "      <td>nm4198756</td>\n",
       "      <td>Saskia Ryan</td>\n",
       "      <td>\\N</td>\n",
       "      <td>\\N</td>\n",
       "      <td>actress</td>\n",
       "      <td>tt1533435</td>\n",
       "    </tr>\n",
       "  </tbody>\n",
       "</table>\n",
       "</div>"
      ],
      "text/plain": [
       "             nconst          primaryName birthYear deathYear  \\\n",
       "8122299   nm7830849       Wan-Ting Tseng        \\N        \\N   \n",
       "990787   nm10068521    Snezana Jovanovic        \\N        \\N   \n",
       "2787123   nm1653884          Dick Morris      1948        \\N   \n",
       "322431    nm0339773  Christopher Gregory        \\N        \\N   \n",
       "5064024   nm4198756          Saskia Ryan        \\N        \\N   \n",
       "\n",
       "          primaryProfession                           knownForTitles  \n",
       "8122299  actress,soundtrack  tt7803258,tt6985020,tt7826722,tt9900688  \n",
       "990787                  NaN                                tt8886156  \n",
       "2787123              writer  tt0427228,tt1624385,tt1753485,tt0468424  \n",
       "322431               writer                                tt0141667  \n",
       "5064024             actress                                tt1533435  "
      ]
     },
     "execution_count": 59,
     "metadata": {},
     "output_type": "execute_result"
    }
   ],
   "source": [
    "dfs[df_names[7]].sample(5)"
   ]
  },
  {
   "cell_type": "code",
   "execution_count": 60,
   "metadata": {},
   "outputs": [
    {
     "name": "stdout",
     "output_type": "stream",
     "text": [
      "<class 'pandas.core.frame.DataFrame'>\n",
      "RangeIndex: 9951310 entries, 0 to 9951309\n",
      "Data columns (total 6 columns):\n",
      "nconst               object\n",
      "primaryName          object\n",
      "birthYear            object\n",
      "deathYear            object\n",
      "primaryProfession    object\n",
      "knownForTitles       object\n",
      "dtypes: object(6)\n",
      "memory usage: 455.5+ MB\n"
     ]
    }
   ],
   "source": [
    "dfs[df_names[7]].info()"
   ]
  },
  {
   "cell_type": "markdown",
   "metadata": {},
   "source": [
    "### DataFrame 9: "
   ]
  },
  {
   "cell_type": "code",
   "execution_count": 44,
   "metadata": {},
   "outputs": [
    {
     "data": {
      "text/plain": [
       "'rt.movie_info'"
      ]
     },
     "execution_count": 44,
     "metadata": {},
     "output_type": "execute_result"
    }
   ],
   "source": [
    "df_names[8]"
   ]
  },
  {
   "cell_type": "code",
   "execution_count": 57,
   "metadata": {},
   "outputs": [
    {
     "data": {
      "text/html": [
       "<div>\n",
       "<style scoped>\n",
       "    .dataframe tbody tr th:only-of-type {\n",
       "        vertical-align: middle;\n",
       "    }\n",
       "\n",
       "    .dataframe tbody tr th {\n",
       "        vertical-align: top;\n",
       "    }\n",
       "\n",
       "    .dataframe thead th {\n",
       "        text-align: right;\n",
       "    }\n",
       "</style>\n",
       "<table border=\"1\" class=\"dataframe\">\n",
       "  <thead>\n",
       "    <tr style=\"text-align: right;\">\n",
       "      <th></th>\n",
       "      <th>id</th>\n",
       "      <th>synopsis</th>\n",
       "      <th>rating</th>\n",
       "      <th>genre</th>\n",
       "      <th>director</th>\n",
       "      <th>writer</th>\n",
       "      <th>theater_date</th>\n",
       "      <th>dvd_date</th>\n",
       "      <th>currency</th>\n",
       "      <th>box_office</th>\n",
       "      <th>runtime</th>\n",
       "      <th>studio</th>\n",
       "    </tr>\n",
       "  </thead>\n",
       "  <tbody>\n",
       "    <tr>\n",
       "      <td>1198</td>\n",
       "      <td>1536</td>\n",
       "      <td>A bunch of rap-star wannabes attempt gangsta r...</td>\n",
       "      <td>R</td>\n",
       "      <td>Comedy</td>\n",
       "      <td>Tamra Davis</td>\n",
       "      <td>Chris Rock|Nelson George|Robert LoCash</td>\n",
       "      <td>Mar 12, 1993</td>\n",
       "      <td>Jan 14, 2003</td>\n",
       "      <td>NaN</td>\n",
       "      <td>NaN</td>\n",
       "      <td>88 minutes</td>\n",
       "      <td>NaN</td>\n",
       "    </tr>\n",
       "    <tr>\n",
       "      <td>843</td>\n",
       "      <td>1090</td>\n",
       "      <td>Voter apathy in the United States is at an all...</td>\n",
       "      <td>R</td>\n",
       "      <td>Classics|Comedy</td>\n",
       "      <td>NaN</td>\n",
       "      <td>Jack Margolis</td>\n",
       "      <td>Apr 1, 1975</td>\n",
       "      <td>Sep 2, 2008</td>\n",
       "      <td>NaN</td>\n",
       "      <td>NaN</td>\n",
       "      <td>95 minutes</td>\n",
       "      <td>NaN</td>\n",
       "    </tr>\n",
       "    <tr>\n",
       "      <td>473</td>\n",
       "      <td>618</td>\n",
       "      <td>A would-be Nashville star finds himself in hot...</td>\n",
       "      <td>PG</td>\n",
       "      <td>Drama</td>\n",
       "      <td>NaN</td>\n",
       "      <td>Bob Bonney</td>\n",
       "      <td>NaN</td>\n",
       "      <td>NaN</td>\n",
       "      <td>NaN</td>\n",
       "      <td>NaN</td>\n",
       "      <td>110 minutes</td>\n",
       "      <td>NaN</td>\n",
       "    </tr>\n",
       "    <tr>\n",
       "      <td>1225</td>\n",
       "      <td>1581</td>\n",
       "      <td>Three twenty-something addicts fight to retain...</td>\n",
       "      <td>NR</td>\n",
       "      <td>Art House and International|Drama|Horror|Myste...</td>\n",
       "      <td>Carl Bessai</td>\n",
       "      <td>Arne Olsen</td>\n",
       "      <td>NaN</td>\n",
       "      <td>NaN</td>\n",
       "      <td>NaN</td>\n",
       "      <td>NaN</td>\n",
       "      <td>85 minutes</td>\n",
       "      <td>Film Sales Company</td>\n",
       "    </tr>\n",
       "    <tr>\n",
       "      <td>1499</td>\n",
       "      <td>1931</td>\n",
       "      <td>Mark Felt - The Man Who Brought Down the White...</td>\n",
       "      <td>PG-13</td>\n",
       "      <td>Drama</td>\n",
       "      <td>Peter Landesman</td>\n",
       "      <td>Peter Landesman</td>\n",
       "      <td>Sep 29, 2017</td>\n",
       "      <td>Jan 9, 2018</td>\n",
       "      <td>$</td>\n",
       "      <td>766,428</td>\n",
       "      <td>NaN</td>\n",
       "      <td>Sony Pictures Classics</td>\n",
       "    </tr>\n",
       "  </tbody>\n",
       "</table>\n",
       "</div>"
      ],
      "text/plain": [
       "        id                                           synopsis rating  \\\n",
       "1198  1536  A bunch of rap-star wannabes attempt gangsta r...      R   \n",
       "843   1090  Voter apathy in the United States is at an all...      R   \n",
       "473    618  A would-be Nashville star finds himself in hot...     PG   \n",
       "1225  1581  Three twenty-something addicts fight to retain...     NR   \n",
       "1499  1931  Mark Felt - The Man Who Brought Down the White...  PG-13   \n",
       "\n",
       "                                                  genre         director  \\\n",
       "1198                                             Comedy      Tamra Davis   \n",
       "843                                     Classics|Comedy              NaN   \n",
       "473                                               Drama              NaN   \n",
       "1225  Art House and International|Drama|Horror|Myste...      Carl Bessai   \n",
       "1499                                              Drama  Peter Landesman   \n",
       "\n",
       "                                      writer  theater_date      dvd_date  \\\n",
       "1198  Chris Rock|Nelson George|Robert LoCash  Mar 12, 1993  Jan 14, 2003   \n",
       "843                            Jack Margolis   Apr 1, 1975   Sep 2, 2008   \n",
       "473                               Bob Bonney           NaN           NaN   \n",
       "1225                              Arne Olsen           NaN           NaN   \n",
       "1499                         Peter Landesman  Sep 29, 2017   Jan 9, 2018   \n",
       "\n",
       "     currency box_office      runtime                  studio  \n",
       "1198      NaN        NaN   88 minutes                     NaN  \n",
       "843       NaN        NaN   95 minutes                     NaN  \n",
       "473       NaN        NaN  110 minutes                     NaN  \n",
       "1225      NaN        NaN   85 minutes      Film Sales Company  \n",
       "1499        $    766,428          NaN  Sony Pictures Classics  "
      ]
     },
     "execution_count": 57,
     "metadata": {},
     "output_type": "execute_result"
    }
   ],
   "source": [
    "dfs[df_names[8]].sample(5)"
   ]
  },
  {
   "cell_type": "code",
   "execution_count": 58,
   "metadata": {},
   "outputs": [
    {
     "name": "stdout",
     "output_type": "stream",
     "text": [
      "<class 'pandas.core.frame.DataFrame'>\n",
      "RangeIndex: 1560 entries, 0 to 1559\n",
      "Data columns (total 12 columns):\n",
      "id              1560 non-null int64\n",
      "synopsis        1498 non-null object\n",
      "rating          1557 non-null object\n",
      "genre           1552 non-null object\n",
      "director        1361 non-null object\n",
      "writer          1111 non-null object\n",
      "theater_date    1201 non-null object\n",
      "dvd_date        1201 non-null object\n",
      "currency        340 non-null object\n",
      "box_office      340 non-null object\n",
      "runtime         1530 non-null object\n",
      "studio          494 non-null object\n",
      "dtypes: int64(1), object(11)\n",
      "memory usage: 146.4+ KB\n"
     ]
    }
   ],
   "source": [
    "dfs[df_names[8]].info()"
   ]
  },
  {
   "cell_type": "markdown",
   "metadata": {},
   "source": [
    "### DataFrame 10:"
   ]
  },
  {
   "cell_type": "code",
   "execution_count": 47,
   "metadata": {},
   "outputs": [
    {
     "data": {
      "text/plain": [
       "'title.episode'"
      ]
     },
     "execution_count": 47,
     "metadata": {},
     "output_type": "execute_result"
    }
   ],
   "source": [
    "df_names[9]"
   ]
  },
  {
   "cell_type": "code",
   "execution_count": 55,
   "metadata": {},
   "outputs": [
    {
     "data": {
      "text/html": [
       "<div>\n",
       "<style scoped>\n",
       "    .dataframe tbody tr th:only-of-type {\n",
       "        vertical-align: middle;\n",
       "    }\n",
       "\n",
       "    .dataframe tbody tr th {\n",
       "        vertical-align: top;\n",
       "    }\n",
       "\n",
       "    .dataframe thead th {\n",
       "        text-align: right;\n",
       "    }\n",
       "</style>\n",
       "<table border=\"1\" class=\"dataframe\">\n",
       "  <thead>\n",
       "    <tr style=\"text-align: right;\">\n",
       "      <th></th>\n",
       "      <th>tconst</th>\n",
       "      <th>parentTconst</th>\n",
       "      <th>seasonNumber</th>\n",
       "      <th>episodeNumber</th>\n",
       "    </tr>\n",
       "  </thead>\n",
       "  <tbody>\n",
       "    <tr>\n",
       "      <td>1816535</td>\n",
       "      <td>tt1897302</td>\n",
       "      <td>tt0447759</td>\n",
       "      <td>\\N</td>\n",
       "      <td>\\N</td>\n",
       "    </tr>\n",
       "    <tr>\n",
       "      <td>4656106</td>\n",
       "      <td>tt9796992</td>\n",
       "      <td>tt1500475</td>\n",
       "      <td>1</td>\n",
       "      <td>1353</td>\n",
       "    </tr>\n",
       "    <tr>\n",
       "      <td>2085728</td>\n",
       "      <td>tt2293335</td>\n",
       "      <td>tt1672656</td>\n",
       "      <td>1</td>\n",
       "      <td>68</td>\n",
       "    </tr>\n",
       "    <tr>\n",
       "      <td>3191911</td>\n",
       "      <td>tt5763994</td>\n",
       "      <td>tt0456771</td>\n",
       "      <td>\\N</td>\n",
       "      <td>\\N</td>\n",
       "    </tr>\n",
       "    <tr>\n",
       "      <td>1324741</td>\n",
       "      <td>tt11901326</td>\n",
       "      <td>tt11097998</td>\n",
       "      <td>2</td>\n",
       "      <td>5</td>\n",
       "    </tr>\n",
       "  </tbody>\n",
       "</table>\n",
       "</div>"
      ],
      "text/plain": [
       "             tconst parentTconst seasonNumber episodeNumber\n",
       "1816535   tt1897302    tt0447759           \\N            \\N\n",
       "4656106   tt9796992    tt1500475            1          1353\n",
       "2085728   tt2293335    tt1672656            1            68\n",
       "3191911   tt5763994    tt0456771           \\N            \\N\n",
       "1324741  tt11901326   tt11097998            2             5"
      ]
     },
     "execution_count": 55,
     "metadata": {},
     "output_type": "execute_result"
    }
   ],
   "source": [
    "dfs[df_names[9]].sample(5)"
   ]
  },
  {
   "cell_type": "code",
   "execution_count": 56,
   "metadata": {},
   "outputs": [
    {
     "name": "stdout",
     "output_type": "stream",
     "text": [
      "<class 'pandas.core.frame.DataFrame'>\n",
      "RangeIndex: 4703127 entries, 0 to 4703126\n",
      "Data columns (total 4 columns):\n",
      "tconst           object\n",
      "parentTconst     object\n",
      "seasonNumber     object\n",
      "episodeNumber    object\n",
      "dtypes: object(4)\n",
      "memory usage: 143.5+ MB\n"
     ]
    }
   ],
   "source": [
    "dfs[df_names[9]].info()"
   ]
  },
  {
   "cell_type": "markdown",
   "metadata": {},
   "source": [
    "### DataFrame 11:"
   ]
  },
  {
   "cell_type": "code",
   "execution_count": 50,
   "metadata": {},
   "outputs": [
    {
     "data": {
      "text/plain": [
       "'tn.movie_budgets'"
      ]
     },
     "execution_count": 50,
     "metadata": {},
     "output_type": "execute_result"
    }
   ],
   "source": [
    "df_names[10]"
   ]
  },
  {
   "cell_type": "code",
   "execution_count": 53,
   "metadata": {},
   "outputs": [
    {
     "data": {
      "text/html": [
       "<div>\n",
       "<style scoped>\n",
       "    .dataframe tbody tr th:only-of-type {\n",
       "        vertical-align: middle;\n",
       "    }\n",
       "\n",
       "    .dataframe tbody tr th {\n",
       "        vertical-align: top;\n",
       "    }\n",
       "\n",
       "    .dataframe thead th {\n",
       "        text-align: right;\n",
       "    }\n",
       "</style>\n",
       "<table border=\"1\" class=\"dataframe\">\n",
       "  <thead>\n",
       "    <tr style=\"text-align: right;\">\n",
       "      <th></th>\n",
       "      <th>id</th>\n",
       "      <th>release_date</th>\n",
       "      <th>movie</th>\n",
       "      <th>production_budget</th>\n",
       "      <th>domestic_gross</th>\n",
       "      <th>worldwide_gross</th>\n",
       "    </tr>\n",
       "  </thead>\n",
       "  <tbody>\n",
       "    <tr>\n",
       "      <td>2108</td>\n",
       "      <td>9</td>\n",
       "      <td>Jun 21, 1985</td>\n",
       "      <td>Return to Oz</td>\n",
       "      <td>$27,000,000</td>\n",
       "      <td>$10,618,813</td>\n",
       "      <td>$10,618,813</td>\n",
       "    </tr>\n",
       "    <tr>\n",
       "      <td>3548</td>\n",
       "      <td>49</td>\n",
       "      <td>Jan 7, 2005</td>\n",
       "      <td>White Noise</td>\n",
       "      <td>$10,000,000</td>\n",
       "      <td>$56,094,360</td>\n",
       "      <td>$92,094,360</td>\n",
       "    </tr>\n",
       "    <tr>\n",
       "      <td>4202</td>\n",
       "      <td>3</td>\n",
       "      <td>Oct 5, 2012</td>\n",
       "      <td>Trade of Innocents</td>\n",
       "      <td>$5,800,000</td>\n",
       "      <td>$15,091</td>\n",
       "      <td>$15,091</td>\n",
       "    </tr>\n",
       "    <tr>\n",
       "      <td>2432</td>\n",
       "      <td>33</td>\n",
       "      <td>Sep 14, 2001</td>\n",
       "      <td>The Glass House</td>\n",
       "      <td>$22,000,000</td>\n",
       "      <td>$17,951,431</td>\n",
       "      <td>$22,861,785</td>\n",
       "    </tr>\n",
       "    <tr>\n",
       "      <td>2291</td>\n",
       "      <td>92</td>\n",
       "      <td>May 17, 1991</td>\n",
       "      <td>Stone Cold</td>\n",
       "      <td>$25,000,000</td>\n",
       "      <td>$9,286,314</td>\n",
       "      <td>$9,286,314</td>\n",
       "    </tr>\n",
       "  </tbody>\n",
       "</table>\n",
       "</div>"
      ],
      "text/plain": [
       "      id  release_date               movie production_budget domestic_gross  \\\n",
       "2108   9  Jun 21, 1985        Return to Oz       $27,000,000    $10,618,813   \n",
       "3548  49   Jan 7, 2005         White Noise       $10,000,000    $56,094,360   \n",
       "4202   3   Oct 5, 2012  Trade of Innocents        $5,800,000        $15,091   \n",
       "2432  33  Sep 14, 2001     The Glass House       $22,000,000    $17,951,431   \n",
       "2291  92  May 17, 1991          Stone Cold       $25,000,000     $9,286,314   \n",
       "\n",
       "     worldwide_gross  \n",
       "2108     $10,618,813  \n",
       "3548     $92,094,360  \n",
       "4202         $15,091  \n",
       "2432     $22,861,785  \n",
       "2291      $9,286,314  "
      ]
     },
     "execution_count": 53,
     "metadata": {},
     "output_type": "execute_result"
    }
   ],
   "source": [
    "dfs[df_names[10]].sample(5)"
   ]
  },
  {
   "cell_type": "code",
   "execution_count": 54,
   "metadata": {},
   "outputs": [
    {
     "name": "stdout",
     "output_type": "stream",
     "text": [
      "<class 'pandas.core.frame.DataFrame'>\n",
      "RangeIndex: 5782 entries, 0 to 5781\n",
      "Data columns (total 6 columns):\n",
      "id                   5782 non-null int64\n",
      "release_date         5782 non-null object\n",
      "movie                5782 non-null object\n",
      "production_budget    5782 non-null object\n",
      "domestic_gross       5782 non-null object\n",
      "worldwide_gross      5782 non-null object\n",
      "dtypes: int64(1), object(5)\n",
      "memory usage: 271.2+ KB\n"
     ]
    }
   ],
   "source": [
    "dfs[df_names[10]].info()"
   ]
  },
  {
   "cell_type": "code",
   "execution_count": null,
   "metadata": {},
   "outputs": [],
   "source": []
  },
  {
   "cell_type": "code",
   "execution_count": null,
   "metadata": {},
   "outputs": [],
   "source": []
  }
 ],
 "metadata": {
  "kernelspec": {
   "display_name": "Python [conda env:learn-env] *",
   "language": "python",
   "name": "conda-env-learn-env-py"
  },
  "language_info": {
   "codemirror_mode": {
    "name": "ipython",
    "version": 3
   },
   "file_extension": ".py",
   "mimetype": "text/x-python",
   "name": "python",
   "nbconvert_exporter": "python",
   "pygments_lexer": "ipython3",
   "version": "3.6.9"
  }
 },
 "nbformat": 4,
 "nbformat_minor": 2
}
