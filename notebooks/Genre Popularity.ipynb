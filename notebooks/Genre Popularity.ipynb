{
 "cells": [
  {
   "cell_type": "markdown",
   "metadata": {},
   "source": [
    "# Genre Popularity"
   ]
  },
  {
   "cell_type": "markdown",
   "metadata": {},
   "source": [
    "In this notebook we will create the Content Popularity column we will use for our dataset."
   ]
  },
  {
   "cell_type": "markdown",
   "metadata": {},
   "source": [
    "## Description"
   ]
  },
  {
   "cell_type": "markdown",
   "metadata": {},
   "source": [
    "We are going to pull in the title dataframe and attach it to the genre info.\n",
    "\n",
    "Once we have a genre we can find its popularity by lumping all the popular movies together and seeing which genre has the most high quality titles."
   ]
  },
  {
   "cell_type": "markdown",
   "metadata": {},
   "source": [
    "## The Process"
   ]
  },
  {
   "cell_type": "markdown",
   "metadata": {},
   "source": [
    "### Dependencies"
   ]
  },
  {
   "cell_type": "code",
   "execution_count": 3,
   "metadata": {},
   "outputs": [],
   "source": [
    "import pandas as pd\n",
    "import os"
   ]
  },
  {
   "cell_type": "markdown",
   "metadata": {},
   "source": [
    "Here we start with the imbd_id column (we dont need the title column for now)"
   ]
  },
  {
   "cell_type": "code",
   "execution_count": 74,
   "metadata": {},
   "outputs": [],
   "source": [
    "path = os.path.join(os.pardir, 'data', 'interim', 'movie_titles.csv')\n",
    "titles_df = pd.read_csv(path)\n",
    "titles_df.drop_duplicates(inplace=True)"
   ]
  },
  {
   "cell_type": "markdown",
   "metadata": {},
   "source": [
    "Now lets bring in the genres"
   ]
  },
  {
   "cell_type": "code",
   "execution_count": 6,
   "metadata": {},
   "outputs": [
    {
     "name": "stderr",
     "output_type": "stream",
     "text": [
      "/Users/yrgg/opt/anaconda3/envs/learn-env/lib/python3.6/site-packages/IPython/core/interactiveshell.py:3058: DtypeWarning: Columns (5) have mixed types. Specify dtype option on import or set low_memory=False.\n",
      "  interactivity=interactivity, compiler=compiler, result=result)\n"
     ]
    }
   ],
   "source": [
    "path = os.path.join(os.pardir, 'data', 'raw', 'title.basics.tsv.gz')\n",
    "genres_df = pd.read_csv(path, delimiter='\\t')"
   ]
  },
  {
   "cell_type": "code",
   "execution_count": 21,
   "metadata": {},
   "outputs": [],
   "source": [
    "genres_df.rename(columns={'tconst':'imdb_id', 'startYear': 'year'}, inplace=True)"
   ]
  },
  {
   "cell_type": "markdown",
   "metadata": {},
   "source": [
    "We will now join the two data frames on the 'tconst' value"
   ]
  },
  {
   "cell_type": "code",
   "execution_count": 75,
   "metadata": {},
   "outputs": [],
   "source": [
    "title_genre_df = titles_df.set_index('imdb_id').join(genres_df.set_index('imdb_id'))"
   ]
  },
  {
   "cell_type": "code",
   "execution_count": 76,
   "metadata": {},
   "outputs": [
    {
     "name": "stdout",
     "output_type": "stream",
     "text": [
      "<class 'pandas.core.frame.DataFrame'>\n",
      "Index: 683297 entries, tt0000009 to tt9916754\n",
      "Data columns (total 9 columns):\n",
      "title             683297 non-null object\n",
      "titleType         683297 non-null object\n",
      "primaryTitle      683297 non-null object\n",
      "originalTitle     683297 non-null object\n",
      "isAdult           683297 non-null int64\n",
      "year              683297 non-null object\n",
      "endYear           683297 non-null object\n",
      "runtimeMinutes    683297 non-null object\n",
      "genres            683297 non-null object\n",
      "dtypes: int64(1), object(8)\n",
      "memory usage: 52.1+ MB\n"
     ]
    }
   ],
   "source": [
    "title_genre_df.info()"
   ]
  },
  {
   "cell_type": "code",
   "execution_count": 77,
   "metadata": {},
   "outputs": [
    {
     "data": {
      "text/html": [
       "<div>\n",
       "<style scoped>\n",
       "    .dataframe tbody tr th:only-of-type {\n",
       "        vertical-align: middle;\n",
       "    }\n",
       "\n",
       "    .dataframe tbody tr th {\n",
       "        vertical-align: top;\n",
       "    }\n",
       "\n",
       "    .dataframe thead th {\n",
       "        text-align: right;\n",
       "    }\n",
       "</style>\n",
       "<table border=\"1\" class=\"dataframe\">\n",
       "  <thead>\n",
       "    <tr style=\"text-align: right;\">\n",
       "      <th></th>\n",
       "      <th>title</th>\n",
       "      <th>titleType</th>\n",
       "      <th>primaryTitle</th>\n",
       "      <th>originalTitle</th>\n",
       "      <th>isAdult</th>\n",
       "      <th>year</th>\n",
       "      <th>endYear</th>\n",
       "      <th>runtimeMinutes</th>\n",
       "      <th>genres</th>\n",
       "    </tr>\n",
       "    <tr>\n",
       "      <th>imdb_id</th>\n",
       "      <th></th>\n",
       "      <th></th>\n",
       "      <th></th>\n",
       "      <th></th>\n",
       "      <th></th>\n",
       "      <th></th>\n",
       "      <th></th>\n",
       "      <th></th>\n",
       "      <th></th>\n",
       "    </tr>\n",
       "  </thead>\n",
       "  <tbody>\n",
       "    <tr>\n",
       "      <td>tt0357504</td>\n",
       "      <td>La bomboniera</td>\n",
       "      <td>movie</td>\n",
       "      <td>La bomboniera</td>\n",
       "      <td>La bomboniera</td>\n",
       "      <td>0</td>\n",
       "      <td>2002</td>\n",
       "      <td>\\N</td>\n",
       "      <td>52</td>\n",
       "      <td>Documentary</td>\n",
       "    </tr>\n",
       "    <tr>\n",
       "      <td>tt0072761</td>\n",
       "      <td>Capone</td>\n",
       "      <td>movie</td>\n",
       "      <td>Capone</td>\n",
       "      <td>Capone</td>\n",
       "      <td>0</td>\n",
       "      <td>1975</td>\n",
       "      <td>\\N</td>\n",
       "      <td>101</td>\n",
       "      <td>Biography,Crime,Drama</td>\n",
       "    </tr>\n",
       "    <tr>\n",
       "      <td>tt3335554</td>\n",
       "      <td>Arthouse Junkies</td>\n",
       "      <td>movie</td>\n",
       "      <td>Arthouse Junkies</td>\n",
       "      <td>Arthouse Junkies</td>\n",
       "      <td>0</td>\n",
       "      <td>\\N</td>\n",
       "      <td>\\N</td>\n",
       "      <td>80</td>\n",
       "      <td>Drama,Family,Music</td>\n",
       "    </tr>\n",
       "    <tr>\n",
       "      <td>tt0144679</td>\n",
       "      <td>Warm to the Touch</td>\n",
       "      <td>movie</td>\n",
       "      <td>Warm to the Touch</td>\n",
       "      <td>Warm to the Touch</td>\n",
       "      <td>1</td>\n",
       "      <td>1992</td>\n",
       "      <td>\\N</td>\n",
       "      <td>\\N</td>\n",
       "      <td>Adult</td>\n",
       "    </tr>\n",
       "    <tr>\n",
       "      <td>tt5899256</td>\n",
       "      <td>Ski Wolf</td>\n",
       "      <td>movie</td>\n",
       "      <td>Ski Wolf</td>\n",
       "      <td>Ski Wolf</td>\n",
       "      <td>0</td>\n",
       "      <td>2008</td>\n",
       "      <td>\\N</td>\n",
       "      <td>71</td>\n",
       "      <td>Comedy,Horror</td>\n",
       "    </tr>\n",
       "  </tbody>\n",
       "</table>\n",
       "</div>"
      ],
      "text/plain": [
       "                       title titleType       primaryTitle      originalTitle  \\\n",
       "imdb_id                                                                        \n",
       "tt0357504      La bomboniera     movie      La bomboniera      La bomboniera   \n",
       "tt0072761             Capone     movie             Capone             Capone   \n",
       "tt3335554   Arthouse Junkies     movie   Arthouse Junkies   Arthouse Junkies   \n",
       "tt0144679  Warm to the Touch     movie  Warm to the Touch  Warm to the Touch   \n",
       "tt5899256           Ski Wolf     movie           Ski Wolf           Ski Wolf   \n",
       "\n",
       "           isAdult  year endYear runtimeMinutes                 genres  \n",
       "imdb_id                                                                 \n",
       "tt0357504        0  2002      \\N             52            Documentary  \n",
       "tt0072761        0  1975      \\N            101  Biography,Crime,Drama  \n",
       "tt3335554        0    \\N      \\N             80     Drama,Family,Music  \n",
       "tt0144679        1  1992      \\N             \\N                  Adult  \n",
       "tt5899256        0  2008      \\N             71          Comedy,Horror  "
      ]
     },
     "execution_count": 77,
     "metadata": {},
     "output_type": "execute_result"
    }
   ],
   "source": [
    "title_genre_df.sample(5)"
   ]
  },
  {
   "cell_type": "code",
   "execution_count": 78,
   "metadata": {},
   "outputs": [],
   "source": [
    "title_genre_df.reset_index(inplace=True)"
   ]
  },
  {
   "cell_type": "code",
   "execution_count": 79,
   "metadata": {},
   "outputs": [],
   "source": [
    "title_genre_year_df = title_genre_df.loc[:, ['imdb_id', 'title', 'genres', 'year']]"
   ]
  },
  {
   "cell_type": "markdown",
   "metadata": {},
   "source": [
    "Now there are a bunch of duplicates from the joins we performed. Let's drop them and see where we're at."
   ]
  },
  {
   "cell_type": "code",
   "execution_count": 81,
   "metadata": {},
   "outputs": [],
   "source": [
    "title_genre_year_df.drop_duplicates(inplace=True)"
   ]
  },
  {
   "cell_type": "markdown",
   "metadata": {},
   "source": [
    "We are going to bring in the 'The Numbers' dataset, which gives us the info on revenue"
   ]
  },
  {
   "cell_type": "code",
   "execution_count": 46,
   "metadata": {},
   "outputs": [],
   "source": [
    "path = os.path.join(os.pardir, 'data', 'raw', 'tn.movie_budgets.csv.gz')\n",
    "budgets_df = pd.read_csv(path)"
   ]
  },
  {
   "cell_type": "code",
   "execution_count": 82,
   "metadata": {},
   "outputs": [
    {
     "name": "stdout",
     "output_type": "stream",
     "text": [
      "<class 'pandas.core.frame.DataFrame'>\n",
      "RangeIndex: 5782 entries, 0 to 5781\n",
      "Data columns (total 6 columns):\n",
      "id                   5782 non-null int64\n",
      "release_date         5782 non-null object\n",
      "title                5782 non-null object\n",
      "production_budget    5782 non-null object\n",
      "domestic_gross       5782 non-null object\n",
      "worldwide_gross      5782 non-null object\n",
      "dtypes: int64(1), object(5)\n",
      "memory usage: 271.2+ KB\n"
     ]
    }
   ],
   "source": [
    "budgets_df.info()"
   ]
  },
  {
   "cell_type": "code",
   "execution_count": 83,
   "metadata": {},
   "outputs": [
    {
     "data": {
      "text/html": [
       "<div>\n",
       "<style scoped>\n",
       "    .dataframe tbody tr th:only-of-type {\n",
       "        vertical-align: middle;\n",
       "    }\n",
       "\n",
       "    .dataframe tbody tr th {\n",
       "        vertical-align: top;\n",
       "    }\n",
       "\n",
       "    .dataframe thead th {\n",
       "        text-align: right;\n",
       "    }\n",
       "</style>\n",
       "<table border=\"1\" class=\"dataframe\">\n",
       "  <thead>\n",
       "    <tr style=\"text-align: right;\">\n",
       "      <th></th>\n",
       "      <th>id</th>\n",
       "      <th>release_date</th>\n",
       "      <th>title</th>\n",
       "      <th>production_budget</th>\n",
       "      <th>domestic_gross</th>\n",
       "      <th>worldwide_gross</th>\n",
       "    </tr>\n",
       "  </thead>\n",
       "  <tbody>\n",
       "    <tr>\n",
       "      <td>2912</td>\n",
       "      <td>13</td>\n",
       "      <td>Sep 26, 2017</td>\n",
       "      <td>Mune, le gardien de la lune</td>\n",
       "      <td>$17,000,000</td>\n",
       "      <td>$0</td>\n",
       "      <td>$14,534,046</td>\n",
       "    </tr>\n",
       "    <tr>\n",
       "      <td>4626</td>\n",
       "      <td>27</td>\n",
       "      <td>Oct 1, 2006</td>\n",
       "      <td>The Secret</td>\n",
       "      <td>$3,500,000</td>\n",
       "      <td>$0</td>\n",
       "      <td>$0</td>\n",
       "    </tr>\n",
       "    <tr>\n",
       "      <td>4302</td>\n",
       "      <td>3</td>\n",
       "      <td>Mar 15, 2013</td>\n",
       "      <td>Spring Breakers</td>\n",
       "      <td>$5,000,000</td>\n",
       "      <td>$14,124,286</td>\n",
       "      <td>$31,149,251</td>\n",
       "    </tr>\n",
       "    <tr>\n",
       "      <td>3708</td>\n",
       "      <td>9</td>\n",
       "      <td>Oct 26, 2001</td>\n",
       "      <td>High Heels and Low Lifes</td>\n",
       "      <td>$10,000,000</td>\n",
       "      <td>$226,792</td>\n",
       "      <td>$226,792</td>\n",
       "    </tr>\n",
       "    <tr>\n",
       "      <td>4246</td>\n",
       "      <td>47</td>\n",
       "      <td>Oct 3, 1980</td>\n",
       "      <td>Somewhere in Time</td>\n",
       "      <td>$5,100,000</td>\n",
       "      <td>$9,709,597</td>\n",
       "      <td>$9,709,597</td>\n",
       "    </tr>\n",
       "  </tbody>\n",
       "</table>\n",
       "</div>"
      ],
      "text/plain": [
       "      id  release_date                        title production_budget  \\\n",
       "2912  13  Sep 26, 2017  Mune, le gardien de la lune       $17,000,000   \n",
       "4626  27   Oct 1, 2006                   The Secret        $3,500,000   \n",
       "4302   3  Mar 15, 2013              Spring Breakers        $5,000,000   \n",
       "3708   9  Oct 26, 2001     High Heels and Low Lifes       $10,000,000   \n",
       "4246  47   Oct 3, 1980            Somewhere in Time        $5,100,000   \n",
       "\n",
       "     domestic_gross worldwide_gross  \n",
       "2912             $0     $14,534,046  \n",
       "4626             $0              $0  \n",
       "4302    $14,124,286     $31,149,251  \n",
       "3708       $226,792        $226,792  \n",
       "4246     $9,709,597      $9,709,597  "
      ]
     },
     "execution_count": 83,
     "metadata": {},
     "output_type": "execute_result"
    }
   ],
   "source": [
    "budgets_df.sample(5)"
   ]
  },
  {
   "cell_type": "code",
   "execution_count": 84,
   "metadata": {},
   "outputs": [],
   "source": [
    "budgets_df.rename(columns={'movie': 'title'}, inplace=True)"
   ]
  },
  {
   "cell_type": "code",
   "execution_count": 85,
   "metadata": {},
   "outputs": [],
   "source": [
    "genres_budgets = budgets_df.set_index('title').join(title_genre_year_df.set_index('title'))"
   ]
  },
  {
   "cell_type": "code",
   "execution_count": 86,
   "metadata": {},
   "outputs": [],
   "source": [
    "genres_budgets.reset_index(inplace=True)"
   ]
  },
  {
   "cell_type": "code",
   "execution_count": 87,
   "metadata": {},
   "outputs": [
    {
     "data": {
      "text/html": [
       "<div>\n",
       "<style scoped>\n",
       "    .dataframe tbody tr th:only-of-type {\n",
       "        vertical-align: middle;\n",
       "    }\n",
       "\n",
       "    .dataframe tbody tr th {\n",
       "        vertical-align: top;\n",
       "    }\n",
       "\n",
       "    .dataframe thead th {\n",
       "        text-align: right;\n",
       "    }\n",
       "</style>\n",
       "<table border=\"1\" class=\"dataframe\">\n",
       "  <thead>\n",
       "    <tr style=\"text-align: right;\">\n",
       "      <th></th>\n",
       "      <th>title</th>\n",
       "      <th>id</th>\n",
       "      <th>release_date</th>\n",
       "      <th>production_budget</th>\n",
       "      <th>domestic_gross</th>\n",
       "      <th>worldwide_gross</th>\n",
       "      <th>imdb_id</th>\n",
       "      <th>genres</th>\n",
       "      <th>year</th>\n",
       "    </tr>\n",
       "  </thead>\n",
       "  <tbody>\n",
       "    <tr>\n",
       "      <td>8277</td>\n",
       "      <td>Someone Like You</td>\n",
       "      <td>79</td>\n",
       "      <td>Mar 30, 2001</td>\n",
       "      <td>$23,000,000</td>\n",
       "      <td>$27,338,033</td>\n",
       "      <td>$38,684,906</td>\n",
       "      <td>tt3495028</td>\n",
       "      <td>Romance</td>\n",
       "      <td>\\N</td>\n",
       "    </tr>\n",
       "    <tr>\n",
       "      <td>9658</td>\n",
       "      <td>The Four Feathers</td>\n",
       "      <td>16</td>\n",
       "      <td>Sep 20, 2002</td>\n",
       "      <td>$35,000,000</td>\n",
       "      <td>$18,306,166</td>\n",
       "      <td>$29,882,645</td>\n",
       "      <td>tt0018908</td>\n",
       "      <td>Adventure,Drama,Romance</td>\n",
       "      <td>1929</td>\n",
       "    </tr>\n",
       "    <tr>\n",
       "      <td>7058</td>\n",
       "      <td>Por amor en el caserio</td>\n",
       "      <td>26</td>\n",
       "      <td>Dec 22, 2015</td>\n",
       "      <td>$1,000,000</td>\n",
       "      <td>$0</td>\n",
       "      <td>$0</td>\n",
       "      <td>tt3107890</td>\n",
       "      <td>Action,Drama,Romance</td>\n",
       "      <td>2014</td>\n",
       "    </tr>\n",
       "    <tr>\n",
       "      <td>4433</td>\n",
       "      <td>Home</td>\n",
       "      <td>60</td>\n",
       "      <td>Apr 23, 2009</td>\n",
       "      <td>$500,000</td>\n",
       "      <td>$15,433</td>\n",
       "      <td>$44,793,168</td>\n",
       "      <td>tt6626800</td>\n",
       "      <td>Documentary</td>\n",
       "      <td>\\N</td>\n",
       "    </tr>\n",
       "    <tr>\n",
       "      <td>3805</td>\n",
       "      <td>Grave Encounters</td>\n",
       "      <td>76</td>\n",
       "      <td>Sep 9, 2011</td>\n",
       "      <td>$2,000,000</td>\n",
       "      <td>$0</td>\n",
       "      <td>$2,151,887</td>\n",
       "      <td>tt1703199</td>\n",
       "      <td>Horror</td>\n",
       "      <td>2011</td>\n",
       "    </tr>\n",
       "  </tbody>\n",
       "</table>\n",
       "</div>"
      ],
      "text/plain": [
       "                       title  id  release_date production_budget  \\\n",
       "8277        Someone Like You  79  Mar 30, 2001       $23,000,000   \n",
       "9658       The Four Feathers  16  Sep 20, 2002       $35,000,000   \n",
       "7058  Por amor en el caserio  26  Dec 22, 2015        $1,000,000   \n",
       "4433                    Home  60  Apr 23, 2009          $500,000   \n",
       "3805        Grave Encounters  76   Sep 9, 2011        $2,000,000   \n",
       "\n",
       "     domestic_gross worldwide_gross    imdb_id                   genres  year  \n",
       "8277    $27,338,033     $38,684,906  tt3495028                  Romance    \\N  \n",
       "9658    $18,306,166     $29,882,645  tt0018908  Adventure,Drama,Romance  1929  \n",
       "7058             $0              $0  tt3107890     Action,Drama,Romance  2014  \n",
       "4433        $15,433     $44,793,168  tt6626800              Documentary    \\N  \n",
       "3805             $0      $2,151,887  tt1703199                   Horror  2011  "
      ]
     },
     "execution_count": 87,
     "metadata": {},
     "output_type": "execute_result"
    }
   ],
   "source": [
    "genres_budgets.sample(5)"
   ]
  },
  {
   "cell_type": "code",
   "execution_count": 88,
   "metadata": {},
   "outputs": [
    {
     "name": "stdout",
     "output_type": "stream",
     "text": [
      "<class 'pandas.core.frame.DataFrame'>\n",
      "RangeIndex: 12716 entries, 0 to 12715\n",
      "Data columns (total 9 columns):\n",
      "title                12716 non-null object\n",
      "id                   12716 non-null int64\n",
      "release_date         12716 non-null object\n",
      "production_budget    12716 non-null object\n",
      "domestic_gross       12716 non-null object\n",
      "worldwide_gross      12716 non-null object\n",
      "imdb_id              11995 non-null object\n",
      "genres               11995 non-null object\n",
      "year                 11995 non-null object\n",
      "dtypes: int64(1), object(8)\n",
      "memory usage: 894.2+ KB\n"
     ]
    }
   ],
   "source": [
    "genres_budgets.info()"
   ]
  },
  {
   "cell_type": "code",
   "execution_count": 89,
   "metadata": {},
   "outputs": [],
   "source": [
    "genres_budgets.drop_duplicates(inplace=True)"
   ]
  },
  {
   "cell_type": "code",
   "execution_count": 90,
   "metadata": {},
   "outputs": [
    {
     "data": {
      "text/html": [
       "<div>\n",
       "<style scoped>\n",
       "    .dataframe tbody tr th:only-of-type {\n",
       "        vertical-align: middle;\n",
       "    }\n",
       "\n",
       "    .dataframe tbody tr th {\n",
       "        vertical-align: top;\n",
       "    }\n",
       "\n",
       "    .dataframe thead th {\n",
       "        text-align: right;\n",
       "    }\n",
       "</style>\n",
       "<table border=\"1\" class=\"dataframe\">\n",
       "  <thead>\n",
       "    <tr style=\"text-align: right;\">\n",
       "      <th></th>\n",
       "      <th>title</th>\n",
       "      <th>id</th>\n",
       "      <th>release_date</th>\n",
       "      <th>production_budget</th>\n",
       "      <th>domestic_gross</th>\n",
       "      <th>worldwide_gross</th>\n",
       "      <th>imdb_id</th>\n",
       "      <th>genres</th>\n",
       "      <th>year</th>\n",
       "    </tr>\n",
       "  </thead>\n",
       "  <tbody>\n",
       "    <tr>\n",
       "      <td>3187</td>\n",
       "      <td>Fifty Dead Men Walking</td>\n",
       "      <td>38</td>\n",
       "      <td>Aug 21, 2009</td>\n",
       "      <td>$10,000,000</td>\n",
       "      <td>$0</td>\n",
       "      <td>$997,921</td>\n",
       "      <td>tt1097643</td>\n",
       "      <td>Crime,Drama,Thriller</td>\n",
       "      <td>2008</td>\n",
       "    </tr>\n",
       "    <tr>\n",
       "      <td>2784</td>\n",
       "      <td>Duma</td>\n",
       "      <td>33</td>\n",
       "      <td>Sep 30, 2005</td>\n",
       "      <td>$12,000,000</td>\n",
       "      <td>$870,067</td>\n",
       "      <td>$994,790</td>\n",
       "      <td>tt2112940</td>\n",
       "      <td>Biography,Crime,Documentary</td>\n",
       "      <td>2011</td>\n",
       "    </tr>\n",
       "    <tr>\n",
       "      <td>2783</td>\n",
       "      <td>Duma</td>\n",
       "      <td>33</td>\n",
       "      <td>Sep 30, 2005</td>\n",
       "      <td>$12,000,000</td>\n",
       "      <td>$870,067</td>\n",
       "      <td>$994,790</td>\n",
       "      <td>tt0361715</td>\n",
       "      <td>Adventure,Drama,Family</td>\n",
       "      <td>2005</td>\n",
       "    </tr>\n",
       "    <tr>\n",
       "      <td>4796</td>\n",
       "      <td>Insidious</td>\n",
       "      <td>63</td>\n",
       "      <td>Apr 1, 2011</td>\n",
       "      <td>$1,500,000</td>\n",
       "      <td>$54,009,150</td>\n",
       "      <td>$99,870,886</td>\n",
       "      <td>tt1225292</td>\n",
       "      <td>Drama,Mystery,Romance</td>\n",
       "      <td>2008</td>\n",
       "    </tr>\n",
       "    <tr>\n",
       "      <td>4797</td>\n",
       "      <td>Insidious</td>\n",
       "      <td>63</td>\n",
       "      <td>Apr 1, 2011</td>\n",
       "      <td>$1,500,000</td>\n",
       "      <td>$54,009,150</td>\n",
       "      <td>$99,870,886</td>\n",
       "      <td>tt1591095</td>\n",
       "      <td>Horror,Mystery,Thriller</td>\n",
       "      <td>2010</td>\n",
       "    </tr>\n",
       "    <tr>\n",
       "      <td>...</td>\n",
       "      <td>...</td>\n",
       "      <td>...</td>\n",
       "      <td>...</td>\n",
       "      <td>...</td>\n",
       "      <td>...</td>\n",
       "      <td>...</td>\n",
       "      <td>...</td>\n",
       "      <td>...</td>\n",
       "      <td>...</td>\n",
       "    </tr>\n",
       "    <tr>\n",
       "      <td>11982</td>\n",
       "      <td>Une Femme MariÃ©e</td>\n",
       "      <td>76</td>\n",
       "      <td>May 24, 2016</td>\n",
       "      <td>$120,000</td>\n",
       "      <td>$0</td>\n",
       "      <td>$0</td>\n",
       "      <td>NaN</td>\n",
       "      <td>NaN</td>\n",
       "      <td>NaN</td>\n",
       "    </tr>\n",
       "    <tr>\n",
       "      <td>2775</td>\n",
       "      <td>Dude, Where's My Dog</td>\n",
       "      <td>93</td>\n",
       "      <td>Dec 31, 2014</td>\n",
       "      <td>$100,000</td>\n",
       "      <td>$0</td>\n",
       "      <td>$0</td>\n",
       "      <td>NaN</td>\n",
       "      <td>NaN</td>\n",
       "      <td>NaN</td>\n",
       "    </tr>\n",
       "    <tr>\n",
       "      <td>2803</td>\n",
       "      <td>Dutch Kills</td>\n",
       "      <td>52</td>\n",
       "      <td>Dec 1, 2015</td>\n",
       "      <td>$25,000</td>\n",
       "      <td>$0</td>\n",
       "      <td>$0</td>\n",
       "      <td>tt2759066</td>\n",
       "      <td>Crime,Drama,Thriller</td>\n",
       "      <td>2015</td>\n",
       "    </tr>\n",
       "    <tr>\n",
       "      <td>2804</td>\n",
       "      <td>Dwegons and Leprechauns</td>\n",
       "      <td>14</td>\n",
       "      <td>Aug 29, 2014</td>\n",
       "      <td>$20,000,000</td>\n",
       "      <td>$0</td>\n",
       "      <td>$0</td>\n",
       "      <td>tt1134666</td>\n",
       "      <td>Animation</td>\n",
       "      <td>2014</td>\n",
       "    </tr>\n",
       "    <tr>\n",
       "      <td>0</td>\n",
       "      <td>#Horror</td>\n",
       "      <td>16</td>\n",
       "      <td>Nov 20, 2015</td>\n",
       "      <td>$1,500,000</td>\n",
       "      <td>$0</td>\n",
       "      <td>$0</td>\n",
       "      <td>tt3526286</td>\n",
       "      <td>Crime,Drama,Horror</td>\n",
       "      <td>2015</td>\n",
       "    </tr>\n",
       "  </tbody>\n",
       "</table>\n",
       "<p>12716 rows × 9 columns</p>\n",
       "</div>"
      ],
      "text/plain": [
       "                         title  id  release_date production_budget  \\\n",
       "3187    Fifty Dead Men Walking  38  Aug 21, 2009       $10,000,000   \n",
       "2784                      Duma  33  Sep 30, 2005       $12,000,000   \n",
       "2783                      Duma  33  Sep 30, 2005       $12,000,000   \n",
       "4796                 Insidious  63   Apr 1, 2011        $1,500,000   \n",
       "4797                 Insidious  63   Apr 1, 2011        $1,500,000   \n",
       "...                        ...  ..           ...               ...   \n",
       "11982        Une Femme MariÃ©e  76  May 24, 2016          $120,000   \n",
       "2775      Dude, Where's My Dog  93  Dec 31, 2014          $100,000   \n",
       "2803               Dutch Kills  52   Dec 1, 2015           $25,000   \n",
       "2804   Dwegons and Leprechauns  14  Aug 29, 2014       $20,000,000   \n",
       "0                      #Horror  16  Nov 20, 2015        $1,500,000   \n",
       "\n",
       "      domestic_gross worldwide_gross    imdb_id                       genres  \\\n",
       "3187              $0        $997,921  tt1097643         Crime,Drama,Thriller   \n",
       "2784        $870,067        $994,790  tt2112940  Biography,Crime,Documentary   \n",
       "2783        $870,067        $994,790  tt0361715       Adventure,Drama,Family   \n",
       "4796     $54,009,150     $99,870,886  tt1225292        Drama,Mystery,Romance   \n",
       "4797     $54,009,150     $99,870,886  tt1591095      Horror,Mystery,Thriller   \n",
       "...              ...             ...        ...                          ...   \n",
       "11982             $0              $0        NaN                          NaN   \n",
       "2775              $0              $0        NaN                          NaN   \n",
       "2803              $0              $0  tt2759066         Crime,Drama,Thriller   \n",
       "2804              $0              $0  tt1134666                    Animation   \n",
       "0                 $0              $0  tt3526286           Crime,Drama,Horror   \n",
       "\n",
       "       year  \n",
       "3187   2008  \n",
       "2784   2011  \n",
       "2783   2005  \n",
       "4796   2008  \n",
       "4797   2010  \n",
       "...     ...  \n",
       "11982   NaN  \n",
       "2775    NaN  \n",
       "2803   2015  \n",
       "2804   2014  \n",
       "0      2015  \n",
       "\n",
       "[12716 rows x 9 columns]"
      ]
     },
     "execution_count": 90,
     "metadata": {},
     "output_type": "execute_result"
    }
   ],
   "source": [
    "genres_budgets.sort_values('worldwide_gross', ascending=False)"
   ]
  },
  {
   "cell_type": "markdown",
   "metadata": {},
   "source": [
    "Look at that, two Duma movies but with different imdb id's. Did we make a mistake?\n",
    "\n",
    "After going back and looking at everything I decided to plug it into the IMDB website search bar and was surprised to see a different movie named 'Duma' for each id. Nice! Not a bug."
   ]
  },
  {
   "cell_type": "code",
   "execution_count": 91,
   "metadata": {},
   "outputs": [
    {
     "data": {
      "text/html": [
       "<div>\n",
       "<style scoped>\n",
       "    .dataframe tbody tr th:only-of-type {\n",
       "        vertical-align: middle;\n",
       "    }\n",
       "\n",
       "    .dataframe tbody tr th {\n",
       "        vertical-align: top;\n",
       "    }\n",
       "\n",
       "    .dataframe thead th {\n",
       "        text-align: right;\n",
       "    }\n",
       "</style>\n",
       "<table border=\"1\" class=\"dataframe\">\n",
       "  <thead>\n",
       "    <tr style=\"text-align: right;\">\n",
       "      <th></th>\n",
       "      <th>imdb_id</th>\n",
       "      <th>title</th>\n",
       "      <th>titleType</th>\n",
       "      <th>primaryTitle</th>\n",
       "      <th>originalTitle</th>\n",
       "      <th>isAdult</th>\n",
       "      <th>year</th>\n",
       "      <th>endYear</th>\n",
       "      <th>runtimeMinutes</th>\n",
       "      <th>genres</th>\n",
       "    </tr>\n",
       "  </thead>\n",
       "  <tbody>\n",
       "    <tr>\n",
       "      <td>228829</td>\n",
       "      <td>tt0361715</td>\n",
       "      <td>Duma</td>\n",
       "      <td>movie</td>\n",
       "      <td>Duma</td>\n",
       "      <td>Duma</td>\n",
       "      <td>0</td>\n",
       "      <td>2005</td>\n",
       "      <td>\\N</td>\n",
       "      <td>100</td>\n",
       "      <td>Adventure,Drama,Family</td>\n",
       "    </tr>\n",
       "  </tbody>\n",
       "</table>\n",
       "</div>"
      ],
      "text/plain": [
       "          imdb_id title titleType primaryTitle originalTitle  isAdult  year  \\\n",
       "228829  tt0361715  Duma     movie         Duma          Duma        0  2005   \n",
       "\n",
       "       endYear runtimeMinutes                  genres  \n",
       "228829      \\N            100  Adventure,Drama,Family  "
      ]
     },
     "execution_count": 91,
     "metadata": {},
     "output_type": "execute_result"
    }
   ],
   "source": [
    "title_genre_df.loc[title_genre_df['imdb_id'] == 'tt0361715']"
   ]
  },
  {
   "cell_type": "code",
   "execution_count": 92,
   "metadata": {},
   "outputs": [
    {
     "data": {
      "text/html": [
       "<div>\n",
       "<style scoped>\n",
       "    .dataframe tbody tr th:only-of-type {\n",
       "        vertical-align: middle;\n",
       "    }\n",
       "\n",
       "    .dataframe tbody tr th {\n",
       "        vertical-align: top;\n",
       "    }\n",
       "\n",
       "    .dataframe thead th {\n",
       "        text-align: right;\n",
       "    }\n",
       "</style>\n",
       "<table border=\"1\" class=\"dataframe\">\n",
       "  <thead>\n",
       "    <tr style=\"text-align: right;\">\n",
       "      <th></th>\n",
       "      <th>imdb_id</th>\n",
       "      <th>title</th>\n",
       "      <th>titleType</th>\n",
       "      <th>primaryTitle</th>\n",
       "      <th>originalTitle</th>\n",
       "      <th>isAdult</th>\n",
       "      <th>year</th>\n",
       "      <th>endYear</th>\n",
       "      <th>runtimeMinutes</th>\n",
       "      <th>genres</th>\n",
       "    </tr>\n",
       "  </thead>\n",
       "  <tbody>\n",
       "    <tr>\n",
       "      <td>414282</td>\n",
       "      <td>tt2112940</td>\n",
       "      <td>Duma</td>\n",
       "      <td>movie</td>\n",
       "      <td>Duma</td>\n",
       "      <td>Duma</td>\n",
       "      <td>0</td>\n",
       "      <td>2011</td>\n",
       "      <td>\\N</td>\n",
       "      <td>55</td>\n",
       "      <td>Biography,Crime,Documentary</td>\n",
       "    </tr>\n",
       "  </tbody>\n",
       "</table>\n",
       "</div>"
      ],
      "text/plain": [
       "          imdb_id title titleType primaryTitle originalTitle  isAdult  year  \\\n",
       "414282  tt2112940  Duma     movie         Duma          Duma        0  2011   \n",
       "\n",
       "       endYear runtimeMinutes                       genres  \n",
       "414282      \\N             55  Biography,Crime,Documentary  "
      ]
     },
     "execution_count": 92,
     "metadata": {},
     "output_type": "execute_result"
    }
   ],
   "source": [
    "title_genre_df.loc[title_genre_df['imdb_id'] == 'tt2112940']"
   ]
  },
  {
   "cell_type": "markdown",
   "metadata": {},
   "source": [
    "Now we need to drop the columns we're not going to be using. "
   ]
  },
  {
   "cell_type": "code",
   "execution_count": 96,
   "metadata": {},
   "outputs": [
    {
     "data": {
      "text/html": [
       "<div>\n",
       "<style scoped>\n",
       "    .dataframe tbody tr th:only-of-type {\n",
       "        vertical-align: middle;\n",
       "    }\n",
       "\n",
       "    .dataframe tbody tr th {\n",
       "        vertical-align: top;\n",
       "    }\n",
       "\n",
       "    .dataframe thead th {\n",
       "        text-align: right;\n",
       "    }\n",
       "</style>\n",
       "<table border=\"1\" class=\"dataframe\">\n",
       "  <thead>\n",
       "    <tr style=\"text-align: right;\">\n",
       "      <th></th>\n",
       "      <th>release_date</th>\n",
       "      <th>production_budget</th>\n",
       "      <th>domestic_gross</th>\n",
       "      <th>worldwide_gross</th>\n",
       "      <th>imdb_id</th>\n",
       "      <th>genres</th>\n",
       "    </tr>\n",
       "  </thead>\n",
       "  <tbody>\n",
       "    <tr>\n",
       "      <td>0</td>\n",
       "      <td>Nov 20, 2015</td>\n",
       "      <td>$1,500,000</td>\n",
       "      <td>$0</td>\n",
       "      <td>$0</td>\n",
       "      <td>tt3526286</td>\n",
       "      <td>Crime,Drama,Horror</td>\n",
       "    </tr>\n",
       "    <tr>\n",
       "      <td>1</td>\n",
       "      <td>Jul 17, 2009</td>\n",
       "      <td>$7,500,000</td>\n",
       "      <td>$32,425,665</td>\n",
       "      <td>$34,439,060</td>\n",
       "      <td>NaN</td>\n",
       "      <td>NaN</td>\n",
       "    </tr>\n",
       "    <tr>\n",
       "      <td>2</td>\n",
       "      <td>Mar 11, 2016</td>\n",
       "      <td>$5,000,000</td>\n",
       "      <td>$72,082,999</td>\n",
       "      <td>$108,286,422</td>\n",
       "      <td>tt1179933</td>\n",
       "      <td>Drama,Horror,Mystery</td>\n",
       "    </tr>\n",
       "    <tr>\n",
       "      <td>3</td>\n",
       "      <td>Nov 11, 2015</td>\n",
       "      <td>$12,000,000</td>\n",
       "      <td>$14,616</td>\n",
       "      <td>$14,616</td>\n",
       "      <td>tt3453052</td>\n",
       "      <td>Drama</td>\n",
       "    </tr>\n",
       "    <tr>\n",
       "      <td>4</td>\n",
       "      <td>Mar 31, 1999</td>\n",
       "      <td>$13,000,000</td>\n",
       "      <td>$38,177,966</td>\n",
       "      <td>$60,413,950</td>\n",
       "      <td>tt0147800</td>\n",
       "      <td>Comedy,Drama,Romance</td>\n",
       "    </tr>\n",
       "    <tr>\n",
       "      <td>...</td>\n",
       "      <td>...</td>\n",
       "      <td>...</td>\n",
       "      <td>...</td>\n",
       "      <td>...</td>\n",
       "      <td>...</td>\n",
       "      <td>...</td>\n",
       "    </tr>\n",
       "    <tr>\n",
       "      <td>12711</td>\n",
       "      <td>Sep 15, 2017</td>\n",
       "      <td>$30,000,000</td>\n",
       "      <td>$17,800,004</td>\n",
       "      <td>$42,531,076</td>\n",
       "      <td>NaN</td>\n",
       "      <td>NaN</td>\n",
       "    </tr>\n",
       "    <tr>\n",
       "      <td>12712</td>\n",
       "      <td>Aug 9, 2002</td>\n",
       "      <td>$70,000,000</td>\n",
       "      <td>$141,930,000</td>\n",
       "      <td>$267,200,000</td>\n",
       "      <td>tt0295701</td>\n",
       "      <td>Action,Adventure,Thriller</td>\n",
       "    </tr>\n",
       "    <tr>\n",
       "      <td>12713</td>\n",
       "      <td>Jan 20, 2017</td>\n",
       "      <td>$85,000,000</td>\n",
       "      <td>$44,898,413</td>\n",
       "      <td>$345,033,359</td>\n",
       "      <td>tt1293847</td>\n",
       "      <td>Action,Adventure,Thriller</td>\n",
       "    </tr>\n",
       "    <tr>\n",
       "      <td>12714</td>\n",
       "      <td>Apr 15, 2008</td>\n",
       "      <td>$3,000,000</td>\n",
       "      <td>$0</td>\n",
       "      <td>$895,932</td>\n",
       "      <td>NaN</td>\n",
       "      <td>NaN</td>\n",
       "    </tr>\n",
       "    <tr>\n",
       "      <td>12715</td>\n",
       "      <td>Mar 7, 2008</td>\n",
       "      <td>$20,000,000</td>\n",
       "      <td>$206,678</td>\n",
       "      <td>$47,300,771</td>\n",
       "      <td>NaN</td>\n",
       "      <td>NaN</td>\n",
       "    </tr>\n",
       "  </tbody>\n",
       "</table>\n",
       "<p>12716 rows × 6 columns</p>\n",
       "</div>"
      ],
      "text/plain": [
       "       release_date production_budget domestic_gross worldwide_gross  \\\n",
       "0      Nov 20, 2015        $1,500,000             $0              $0   \n",
       "1      Jul 17, 2009        $7,500,000    $32,425,665     $34,439,060   \n",
       "2      Mar 11, 2016        $5,000,000    $72,082,999    $108,286,422   \n",
       "3      Nov 11, 2015       $12,000,000        $14,616         $14,616   \n",
       "4      Mar 31, 1999       $13,000,000    $38,177,966     $60,413,950   \n",
       "...             ...               ...            ...             ...   \n",
       "12711  Sep 15, 2017       $30,000,000    $17,800,004     $42,531,076   \n",
       "12712   Aug 9, 2002       $70,000,000   $141,930,000    $267,200,000   \n",
       "12713  Jan 20, 2017       $85,000,000    $44,898,413    $345,033,359   \n",
       "12714  Apr 15, 2008        $3,000,000             $0        $895,932   \n",
       "12715   Mar 7, 2008       $20,000,000       $206,678     $47,300,771   \n",
       "\n",
       "         imdb_id                     genres  \n",
       "0      tt3526286         Crime,Drama,Horror  \n",
       "1            NaN                        NaN  \n",
       "2      tt1179933       Drama,Horror,Mystery  \n",
       "3      tt3453052                      Drama  \n",
       "4      tt0147800       Comedy,Drama,Romance  \n",
       "...          ...                        ...  \n",
       "12711        NaN                        NaN  \n",
       "12712  tt0295701  Action,Adventure,Thriller  \n",
       "12713  tt1293847  Action,Adventure,Thriller  \n",
       "12714        NaN                        NaN  \n",
       "12715        NaN                        NaN  \n",
       "\n",
       "[12716 rows x 6 columns]"
      ]
     },
     "execution_count": 96,
     "metadata": {},
     "output_type": "execute_result"
    }
   ],
   "source": [
    "genres_budgets.loc[:, 'release_date':'genres']"
   ]
  },
  {
   "cell_type": "markdown",
   "metadata": {},
   "source": [
    "There we go! Now we need to come up with a point system to evaluate the popularity of the genre.\n",
    "\n",
    "The first thing that popped into my mind is that people tend to vote with their money. So, if we take the highest grossing movies and figure out percentage each genre has in that list, then we will have a solid metric for popularity. Not perfect, but a solid representation of popularity.\n",
    "\n",
    "I also think the score should be scaled by the gross revenue, that way the more popular the movie, the higher the weight is for it's genre\n",
    "\n",
    "\n",
    "Now we need the revenue for each title, and the year so we can adjust it for inflation."
   ]
  },
  {
   "cell_type": "code",
   "execution_count": null,
   "metadata": {},
   "outputs": [],
   "source": []
  },
  {
   "cell_type": "markdown",
   "metadata": {},
   "source": [
    "### Desired Shape"
   ]
  },
  {
   "cell_type": "markdown",
   "metadata": {},
   "source": [
    "We want the outcome of this step to be a dataframe with imdb_id and genre columns. We can go ahead and stitch it all together at the end of the data obtaining process"
   ]
  },
  {
   "cell_type": "markdown",
   "metadata": {},
   "source": [
    "### Processing"
   ]
  },
  {
   "cell_type": "markdown",
   "metadata": {},
   "source": [
    "### Completed"
   ]
  },
  {
   "cell_type": "markdown",
   "metadata": {},
   "source": [
    "### Notes"
   ]
  },
  {
   "cell_type": "code",
   "execution_count": null,
   "metadata": {},
   "outputs": [],
   "source": []
  }
 ],
 "metadata": {
  "kernelspec": {
   "display_name": "Python [conda env:learn-env] *",
   "language": "python",
   "name": "conda-env-learn-env-py"
  },
  "language_info": {
   "codemirror_mode": {
    "name": "ipython",
    "version": 3
   },
   "file_extension": ".py",
   "mimetype": "text/x-python",
   "name": "python",
   "nbconvert_exporter": "python",
   "pygments_lexer": "ipython3",
   "version": "3.6.9"
  }
 },
 "nbformat": 4,
 "nbformat_minor": 2
}
